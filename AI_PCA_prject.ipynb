{
  "nbformat": 4,
  "nbformat_minor": 0,
  "metadata": {
    "colab": {
      "provenance": [],
      "collapsed_sections": [
        "33dOC4NomAA0",
        "x1ZFbaE-nN47",
        "5CAdhpDN68kF",
        "e-VuwqAE6-wX",
        "Wy66Jcvg7Mjn",
        "OI71P5ViGGid",
        "7QWzGPJHGtmc",
        "PLhmOyA4Gtmv",
        "iFT_ex37Gtmx",
        "Md1bWLoSGtmy",
        "Mt5LtRqNOSIb",
        "2XGim673RJNs",
        "L2mfhV3hRQmo",
        "rsIM6tCmRQv5",
        "Xh4N7F-URQ3d",
        "ZsmYS97CRCMg",
        "DdkTr5tlRVx9",
        "0hTVVZPyRV3W",
        "wp3ZEaF1RWBI",
        "nrvrThHiRWHb",
        "ypa3J2I4no24",
        "Le4MgXpdno3P",
        "RdvYVQY4no3Q",
        "f9m4uBoPno3Q",
        "GfV9wVNQno3Q",
        "YErLIZUhno3R"
      ],
      "toc_visible": true
    },
    "kernelspec": {
      "name": "python3",
      "display_name": "Python 3"
    },
    "language_info": {
      "name": "python"
    }
  },
  "cells": [
    {
      "cell_type": "markdown",
      "source": [
        "# Data Preparation"
      ],
      "metadata": {
        "id": "2aOu7Ynxl24f"
      }
    },
    {
      "cell_type": "markdown",
      "source": [
        "### Import Libararies & Datasets"
      ],
      "metadata": {
        "id": "33dOC4NomAA0"
      }
    },
    {
      "cell_type": "code",
      "source": [
        "# Importing libraries\n",
        "import numpy as np\n",
        "import pandas as pd\n",
        "import seaborn as sns\n",
        "from sklearn.model_selection import train_test_split                      #sc0\n",
        "import time\n",
        "from sklearn.decomposition import PCA\n",
        "from tensorflow.keras.utils import to_categorical\n",
        "from keras.optimizers import RMSprop\n",
        "import matplotlib.pyplot as plt\n",
        "%matplotlib inline\n",
        "\n",
        "# Importing datasets\n",
        "from sklearn.datasets import load_breast_cancer  # Breast cancer dataset\n",
        "from keras.datasets import cifar10  # CIFAR-10 dataset"
      ],
      "metadata": {
        "id": "8ar4jKMYl9n_"
      },
      "execution_count": null,
      "outputs": []
    },
    {
      "cell_type": "markdown",
      "source": [
        "### Load Datasets"
      ],
      "metadata": {
        "id": "A5KTqwaOnDTn"
      }
    },
    {
      "cell_type": "markdown",
      "source": [
        "#### Load Breast Cancer"
      ],
      "metadata": {
        "id": "x1ZFbaE-nN47"
      }
    },
    {
      "cell_type": "code",
      "source": [
        "breast_cancer = load_breast_cancer()\n",
        "\n",
        "# Load data to breast_cancer_data                    #sc1\n",
        "breast_cancer_data = breast_cancer.data"
      ],
      "metadata": {
        "id": "gg8GbeV6nK6O"
      },
      "execution_count": null,
      "outputs": []
    },
    {
      "cell_type": "code",
      "source": [
        "# The shape of data\n",
        "breast_cancer_col_num, breast_cancer_row_num = breast_cancer_data.shape\n",
        "\n",
        "print('Breast cancer dataset has',breast_cancer_col_num,'columns')    #sc2\n",
        "print('Breast cancer dataset has',breast_cancer_row_num,'rows')"
      ],
      "metadata": {
        "colab": {
          "base_uri": "https://localhost:8080/"
        },
        "id": "aXv_1hnBplNY",
        "outputId": "356da089-9e2d-45cb-ac2f-04433876004e"
      },
      "execution_count": null,
      "outputs": [
        {
          "output_type": "stream",
          "name": "stdout",
          "text": [
            "Breast cancer dataset has 569 columns\n",
            "Breast cancer dataset has 30 rows\n"
          ]
        }
      ]
    },
    {
      "cell_type": "code",
      "source": [
        "# Breast cancer lables\n",
        "breast_cancer_labels = breast_cancer.target\n",
        "\n",
        "# The labels shape\n",
        "print(breast_cancer_labels.shape)\n",
        "  #sc3\n",
        "# Reshape data\n",
        "final_breast_cancer_labels = np.reshape(breast_cancer_labels,(569,1))"
      ],
      "metadata": {
        "colab": {
          "base_uri": "https://localhost:8080/"
        },
        "id": "JX-5yNbXrdXa",
        "outputId": "4cb182a1-4e1f-4f12-9166-aafb9730cdd5"
      },
      "execution_count": null,
      "outputs": [
        {
          "output_type": "stream",
          "name": "stdout",
          "text": [
            "(569,)\n"
          ]
        }
      ]
    },
    {
      "cell_type": "code",
      "source": [
        "# The shape of dataset after concatenate features with label\n",
        "final_breast_cancer_data = np.concatenate([breast_cancer_data,final_breast_cancer_labels],axis=1)\n",
        "\n",
        "# The shape of data after concatenate features with label\n",
        "final_breast_cancer_col_num, final_breast_cancer_row_num = final_breast_cancer_data.shape\n",
        "\n",
        "print('Breast cancer dataset after concatenate features and label has',final_breast_cancer_col_num,'columns')\n",
        "print('Breast cancer dataset after concatenate features and label has',final_breast_cancer_row_num,'rows')"
      ],
      "metadata": {
        "colab": {
          "base_uri": "https://localhost:8080/"
        },
        "id": "VTbZn-PMsMeQ",
        "outputId": "1d3c24d7-3eff-4758-e80f-7ce84b47ab60"
      },
      "execution_count": null,
      "outputs": [
        {
          "output_type": "stream",
          "name": "stdout",
          "text": [
            "Breast cancer dataset after concatenate features and label has 569 columns\n",
            "Breast cancer dataset after concatenate features and label has 31 rows\n"
          ]
        }
      ]
    },
    {
      "cell_type": "code",
      "source": [
        "# Create the breast cancer dataframe\n",
        "breast_cancer_dataset = pd.DataFrame(final_breast_cancer_data)          #sc4"
      ],
      "metadata": {
        "id": "SR5mSvlOtCBw"
      },
      "execution_count": null,
      "outputs": []
    },
    {
      "cell_type": "code",
      "source": [
        "# Features\n",
        "features = breast_cancer.feature_names\n",
        "\n",
        "# Print features names      #sc5\n",
        "for f in features:\n",
        "  print(f)"
      ],
      "metadata": {
        "colab": {
          "base_uri": "https://localhost:8080/"
        },
        "id": "BXOyrY-VtZLR",
        "outputId": "8516ad16-7317-4c5b-d2dc-3d2432c238bd"
      },
      "execution_count": null,
      "outputs": [
        {
          "output_type": "stream",
          "name": "stdout",
          "text": [
            "mean radius\n",
            "mean texture\n",
            "mean perimeter\n",
            "mean area\n",
            "mean smoothness\n",
            "mean compactness\n",
            "mean concavity\n",
            "mean concave points\n",
            "mean symmetry\n",
            "mean fractal dimension\n",
            "radius error\n",
            "texture error\n",
            "perimeter error\n",
            "area error\n",
            "smoothness error\n",
            "compactness error\n",
            "concavity error\n",
            "concave points error\n",
            "symmetry error\n",
            "fractal dimension error\n",
            "worst radius\n",
            "worst texture\n",
            "worst perimeter\n",
            "worst area\n",
            "worst smoothness\n",
            "worst compactness\n",
            "worst concavity\n",
            "worst concave points\n",
            "worst symmetry\n",
            "worst fractal dimension\n"
          ]
        }
      ]
    },
    {
      "cell_type": "code",
      "source": [
        "# Append 'label' column to features\n",
        "features_labels = np.append(features,'label')"
      ],
      "metadata": {
        "id": "w8tfj3mIvahc"
      },
      "execution_count": null,
      "outputs": []
    },
    {
      "cell_type": "code",
      "source": [
        "# Replace the breast_cancer_dataset coulmns with new columns features_labels\n",
        "breast_cancer_dataset.columns = features_labels"
      ],
      "metadata": {
        "id": "rukM79YTvxeN"
      },
      "execution_count": null,
      "outputs": []
    },
    {
      "cell_type": "code",
      "source": [
        "# Print the firt 10 rows of the breast cancer dataset\n",
        "breast_cancer_dataset.head(10)"
      ],
      "metadata": {
        "colab": {
          "base_uri": "https://localhost:8080/"
        },
        "id": "6zshJmpdwG8z",
        "outputId": "7d482bfb-b80e-4240-8829-aacdda3fcf25"
      },
      "execution_count": null,
      "outputs": [
        {
          "output_type": "execute_result",
          "data": {
            "text/plain": [
              "   mean radius  mean texture  mean perimeter  mean area  mean smoothness  \\\n",
              "0        17.99         10.38          122.80     1001.0          0.11840   \n",
              "1        20.57         17.77          132.90     1326.0          0.08474   \n",
              "2        19.69         21.25          130.00     1203.0          0.10960   \n",
              "3        11.42         20.38           77.58      386.1          0.14250   \n",
              "4        20.29         14.34          135.10     1297.0          0.10030   \n",
              "5        12.45         15.70           82.57      477.1          0.12780   \n",
              "6        18.25         19.98          119.60     1040.0          0.09463   \n",
              "7        13.71         20.83           90.20      577.9          0.11890   \n",
              "8        13.00         21.82           87.50      519.8          0.12730   \n",
              "9        12.46         24.04           83.97      475.9          0.11860   \n",
              "\n",
              "   mean compactness  mean concavity  mean concave points  mean symmetry  \\\n",
              "0           0.27760         0.30010              0.14710         0.2419   \n",
              "1           0.07864         0.08690              0.07017         0.1812   \n",
              "2           0.15990         0.19740              0.12790         0.2069   \n",
              "3           0.28390         0.24140              0.10520         0.2597   \n",
              "4           0.13280         0.19800              0.10430         0.1809   \n",
              "5           0.17000         0.15780              0.08089         0.2087   \n",
              "6           0.10900         0.11270              0.07400         0.1794   \n",
              "7           0.16450         0.09366              0.05985         0.2196   \n",
              "8           0.19320         0.18590              0.09353         0.2350   \n",
              "9           0.23960         0.22730              0.08543         0.2030   \n",
              "\n",
              "   mean fractal dimension  ...  worst texture  worst perimeter  worst area  \\\n",
              "0                 0.07871  ...          17.33           184.60      2019.0   \n",
              "1                 0.05667  ...          23.41           158.80      1956.0   \n",
              "2                 0.05999  ...          25.53           152.50      1709.0   \n",
              "3                 0.09744  ...          26.50            98.87       567.7   \n",
              "4                 0.05883  ...          16.67           152.20      1575.0   \n",
              "5                 0.07613  ...          23.75           103.40       741.6   \n",
              "6                 0.05742  ...          27.66           153.20      1606.0   \n",
              "7                 0.07451  ...          28.14           110.60       897.0   \n",
              "8                 0.07389  ...          30.73           106.20       739.3   \n",
              "9                 0.08243  ...          40.68            97.65       711.4   \n",
              "\n",
              "   worst smoothness  worst compactness  worst concavity  worst concave points  \\\n",
              "0            0.1622             0.6656           0.7119                0.2654   \n",
              "1            0.1238             0.1866           0.2416                0.1860   \n",
              "2            0.1444             0.4245           0.4504                0.2430   \n",
              "3            0.2098             0.8663           0.6869                0.2575   \n",
              "4            0.1374             0.2050           0.4000                0.1625   \n",
              "5            0.1791             0.5249           0.5355                0.1741   \n",
              "6            0.1442             0.2576           0.3784                0.1932   \n",
              "7            0.1654             0.3682           0.2678                0.1556   \n",
              "8            0.1703             0.5401           0.5390                0.2060   \n",
              "9            0.1853             1.0580           1.1050                0.2210   \n",
              "\n",
              "   worst symmetry  worst fractal dimension  label  \n",
              "0          0.4601                  0.11890    0.0  \n",
              "1          0.2750                  0.08902    0.0  \n",
              "2          0.3613                  0.08758    0.0  \n",
              "3          0.6638                  0.17300    0.0  \n",
              "4          0.2364                  0.07678    0.0  \n",
              "5          0.3985                  0.12440    0.0  \n",
              "6          0.3063                  0.08368    0.0  \n",
              "7          0.3196                  0.11510    0.0  \n",
              "8          0.4378                  0.10720    0.0  \n",
              "9          0.4366                  0.20750    0.0  \n",
              "\n",
              "[10 rows x 31 columns]"
            ],
            "text/html": [
              "\n",
              "  <div id=\"df-de6d31dc-2e18-4835-8dee-e83051a0bc28\" class=\"colab-df-container\">\n",
              "    <div>\n",
              "<style scoped>\n",
              "    .dataframe tbody tr th:only-of-type {\n",
              "        vertical-align: middle;\n",
              "    }\n",
              "\n",
              "    .dataframe tbody tr th {\n",
              "        vertical-align: top;\n",
              "    }\n",
              "\n",
              "    .dataframe thead th {\n",
              "        text-align: right;\n",
              "    }\n",
              "</style>\n",
              "<table border=\"1\" class=\"dataframe\">\n",
              "  <thead>\n",
              "    <tr style=\"text-align: right;\">\n",
              "      <th></th>\n",
              "      <th>mean radius</th>\n",
              "      <th>mean texture</th>\n",
              "      <th>mean perimeter</th>\n",
              "      <th>mean area</th>\n",
              "      <th>mean smoothness</th>\n",
              "      <th>mean compactness</th>\n",
              "      <th>mean concavity</th>\n",
              "      <th>mean concave points</th>\n",
              "      <th>mean symmetry</th>\n",
              "      <th>mean fractal dimension</th>\n",
              "      <th>...</th>\n",
              "      <th>worst texture</th>\n",
              "      <th>worst perimeter</th>\n",
              "      <th>worst area</th>\n",
              "      <th>worst smoothness</th>\n",
              "      <th>worst compactness</th>\n",
              "      <th>worst concavity</th>\n",
              "      <th>worst concave points</th>\n",
              "      <th>worst symmetry</th>\n",
              "      <th>worst fractal dimension</th>\n",
              "      <th>label</th>\n",
              "    </tr>\n",
              "  </thead>\n",
              "  <tbody>\n",
              "    <tr>\n",
              "      <th>0</th>\n",
              "      <td>17.99</td>\n",
              "      <td>10.38</td>\n",
              "      <td>122.80</td>\n",
              "      <td>1001.0</td>\n",
              "      <td>0.11840</td>\n",
              "      <td>0.27760</td>\n",
              "      <td>0.30010</td>\n",
              "      <td>0.14710</td>\n",
              "      <td>0.2419</td>\n",
              "      <td>0.07871</td>\n",
              "      <td>...</td>\n",
              "      <td>17.33</td>\n",
              "      <td>184.60</td>\n",
              "      <td>2019.0</td>\n",
              "      <td>0.1622</td>\n",
              "      <td>0.6656</td>\n",
              "      <td>0.7119</td>\n",
              "      <td>0.2654</td>\n",
              "      <td>0.4601</td>\n",
              "      <td>0.11890</td>\n",
              "      <td>0.0</td>\n",
              "    </tr>\n",
              "    <tr>\n",
              "      <th>1</th>\n",
              "      <td>20.57</td>\n",
              "      <td>17.77</td>\n",
              "      <td>132.90</td>\n",
              "      <td>1326.0</td>\n",
              "      <td>0.08474</td>\n",
              "      <td>0.07864</td>\n",
              "      <td>0.08690</td>\n",
              "      <td>0.07017</td>\n",
              "      <td>0.1812</td>\n",
              "      <td>0.05667</td>\n",
              "      <td>...</td>\n",
              "      <td>23.41</td>\n",
              "      <td>158.80</td>\n",
              "      <td>1956.0</td>\n",
              "      <td>0.1238</td>\n",
              "      <td>0.1866</td>\n",
              "      <td>0.2416</td>\n",
              "      <td>0.1860</td>\n",
              "      <td>0.2750</td>\n",
              "      <td>0.08902</td>\n",
              "      <td>0.0</td>\n",
              "    </tr>\n",
              "    <tr>\n",
              "      <th>2</th>\n",
              "      <td>19.69</td>\n",
              "      <td>21.25</td>\n",
              "      <td>130.00</td>\n",
              "      <td>1203.0</td>\n",
              "      <td>0.10960</td>\n",
              "      <td>0.15990</td>\n",
              "      <td>0.19740</td>\n",
              "      <td>0.12790</td>\n",
              "      <td>0.2069</td>\n",
              "      <td>0.05999</td>\n",
              "      <td>...</td>\n",
              "      <td>25.53</td>\n",
              "      <td>152.50</td>\n",
              "      <td>1709.0</td>\n",
              "      <td>0.1444</td>\n",
              "      <td>0.4245</td>\n",
              "      <td>0.4504</td>\n",
              "      <td>0.2430</td>\n",
              "      <td>0.3613</td>\n",
              "      <td>0.08758</td>\n",
              "      <td>0.0</td>\n",
              "    </tr>\n",
              "    <tr>\n",
              "      <th>3</th>\n",
              "      <td>11.42</td>\n",
              "      <td>20.38</td>\n",
              "      <td>77.58</td>\n",
              "      <td>386.1</td>\n",
              "      <td>0.14250</td>\n",
              "      <td>0.28390</td>\n",
              "      <td>0.24140</td>\n",
              "      <td>0.10520</td>\n",
              "      <td>0.2597</td>\n",
              "      <td>0.09744</td>\n",
              "      <td>...</td>\n",
              "      <td>26.50</td>\n",
              "      <td>98.87</td>\n",
              "      <td>567.7</td>\n",
              "      <td>0.2098</td>\n",
              "      <td>0.8663</td>\n",
              "      <td>0.6869</td>\n",
              "      <td>0.2575</td>\n",
              "      <td>0.6638</td>\n",
              "      <td>0.17300</td>\n",
              "      <td>0.0</td>\n",
              "    </tr>\n",
              "    <tr>\n",
              "      <th>4</th>\n",
              "      <td>20.29</td>\n",
              "      <td>14.34</td>\n",
              "      <td>135.10</td>\n",
              "      <td>1297.0</td>\n",
              "      <td>0.10030</td>\n",
              "      <td>0.13280</td>\n",
              "      <td>0.19800</td>\n",
              "      <td>0.10430</td>\n",
              "      <td>0.1809</td>\n",
              "      <td>0.05883</td>\n",
              "      <td>...</td>\n",
              "      <td>16.67</td>\n",
              "      <td>152.20</td>\n",
              "      <td>1575.0</td>\n",
              "      <td>0.1374</td>\n",
              "      <td>0.2050</td>\n",
              "      <td>0.4000</td>\n",
              "      <td>0.1625</td>\n",
              "      <td>0.2364</td>\n",
              "      <td>0.07678</td>\n",
              "      <td>0.0</td>\n",
              "    </tr>\n",
              "    <tr>\n",
              "      <th>5</th>\n",
              "      <td>12.45</td>\n",
              "      <td>15.70</td>\n",
              "      <td>82.57</td>\n",
              "      <td>477.1</td>\n",
              "      <td>0.12780</td>\n",
              "      <td>0.17000</td>\n",
              "      <td>0.15780</td>\n",
              "      <td>0.08089</td>\n",
              "      <td>0.2087</td>\n",
              "      <td>0.07613</td>\n",
              "      <td>...</td>\n",
              "      <td>23.75</td>\n",
              "      <td>103.40</td>\n",
              "      <td>741.6</td>\n",
              "      <td>0.1791</td>\n",
              "      <td>0.5249</td>\n",
              "      <td>0.5355</td>\n",
              "      <td>0.1741</td>\n",
              "      <td>0.3985</td>\n",
              "      <td>0.12440</td>\n",
              "      <td>0.0</td>\n",
              "    </tr>\n",
              "    <tr>\n",
              "      <th>6</th>\n",
              "      <td>18.25</td>\n",
              "      <td>19.98</td>\n",
              "      <td>119.60</td>\n",
              "      <td>1040.0</td>\n",
              "      <td>0.09463</td>\n",
              "      <td>0.10900</td>\n",
              "      <td>0.11270</td>\n",
              "      <td>0.07400</td>\n",
              "      <td>0.1794</td>\n",
              "      <td>0.05742</td>\n",
              "      <td>...</td>\n",
              "      <td>27.66</td>\n",
              "      <td>153.20</td>\n",
              "      <td>1606.0</td>\n",
              "      <td>0.1442</td>\n",
              "      <td>0.2576</td>\n",
              "      <td>0.3784</td>\n",
              "      <td>0.1932</td>\n",
              "      <td>0.3063</td>\n",
              "      <td>0.08368</td>\n",
              "      <td>0.0</td>\n",
              "    </tr>\n",
              "    <tr>\n",
              "      <th>7</th>\n",
              "      <td>13.71</td>\n",
              "      <td>20.83</td>\n",
              "      <td>90.20</td>\n",
              "      <td>577.9</td>\n",
              "      <td>0.11890</td>\n",
              "      <td>0.16450</td>\n",
              "      <td>0.09366</td>\n",
              "      <td>0.05985</td>\n",
              "      <td>0.2196</td>\n",
              "      <td>0.07451</td>\n",
              "      <td>...</td>\n",
              "      <td>28.14</td>\n",
              "      <td>110.60</td>\n",
              "      <td>897.0</td>\n",
              "      <td>0.1654</td>\n",
              "      <td>0.3682</td>\n",
              "      <td>0.2678</td>\n",
              "      <td>0.1556</td>\n",
              "      <td>0.3196</td>\n",
              "      <td>0.11510</td>\n",
              "      <td>0.0</td>\n",
              "    </tr>\n",
              "    <tr>\n",
              "      <th>8</th>\n",
              "      <td>13.00</td>\n",
              "      <td>21.82</td>\n",
              "      <td>87.50</td>\n",
              "      <td>519.8</td>\n",
              "      <td>0.12730</td>\n",
              "      <td>0.19320</td>\n",
              "      <td>0.18590</td>\n",
              "      <td>0.09353</td>\n",
              "      <td>0.2350</td>\n",
              "      <td>0.07389</td>\n",
              "      <td>...</td>\n",
              "      <td>30.73</td>\n",
              "      <td>106.20</td>\n",
              "      <td>739.3</td>\n",
              "      <td>0.1703</td>\n",
              "      <td>0.5401</td>\n",
              "      <td>0.5390</td>\n",
              "      <td>0.2060</td>\n",
              "      <td>0.4378</td>\n",
              "      <td>0.10720</td>\n",
              "      <td>0.0</td>\n",
              "    </tr>\n",
              "    <tr>\n",
              "      <th>9</th>\n",
              "      <td>12.46</td>\n",
              "      <td>24.04</td>\n",
              "      <td>83.97</td>\n",
              "      <td>475.9</td>\n",
              "      <td>0.11860</td>\n",
              "      <td>0.23960</td>\n",
              "      <td>0.22730</td>\n",
              "      <td>0.08543</td>\n",
              "      <td>0.2030</td>\n",
              "      <td>0.08243</td>\n",
              "      <td>...</td>\n",
              "      <td>40.68</td>\n",
              "      <td>97.65</td>\n",
              "      <td>711.4</td>\n",
              "      <td>0.1853</td>\n",
              "      <td>1.0580</td>\n",
              "      <td>1.1050</td>\n",
              "      <td>0.2210</td>\n",
              "      <td>0.4366</td>\n",
              "      <td>0.20750</td>\n",
              "      <td>0.0</td>\n",
              "    </tr>\n",
              "  </tbody>\n",
              "</table>\n",
              "<p>10 rows × 31 columns</p>\n",
              "</div>\n",
              "    <div class=\"colab-df-buttons\">\n",
              "\n",
              "  <div class=\"colab-df-container\">\n",
              "    <button class=\"colab-df-convert\" onclick=\"convertToInteractive('df-de6d31dc-2e18-4835-8dee-e83051a0bc28')\"\n",
              "            title=\"Convert this dataframe to an interactive table.\"\n",
              "            style=\"display:none;\">\n",
              "\n",
              "  <svg xmlns=\"http://www.w3.org/2000/svg\" height=\"24px\" viewBox=\"0 -960 960 960\">\n",
              "    <path d=\"M120-120v-720h720v720H120Zm60-500h600v-160H180v160Zm220 220h160v-160H400v160Zm0 220h160v-160H400v160ZM180-400h160v-160H180v160Zm440 0h160v-160H620v160ZM180-180h160v-160H180v160Zm440 0h160v-160H620v160Z\"/>\n",
              "  </svg>\n",
              "    </button>\n",
              "\n",
              "  <style>\n",
              "    .colab-df-container {\n",
              "      display:flex;\n",
              "      gap: 12px;\n",
              "    }\n",
              "\n",
              "    .colab-df-convert {\n",
              "      background-color: #E8F0FE;\n",
              "      border: none;\n",
              "      border-radius: 50%;\n",
              "      cursor: pointer;\n",
              "      display: none;\n",
              "      fill: #1967D2;\n",
              "      height: 32px;\n",
              "      padding: 0 0 0 0;\n",
              "      width: 32px;\n",
              "    }\n",
              "\n",
              "    .colab-df-convert:hover {\n",
              "      background-color: #E2EBFA;\n",
              "      box-shadow: 0px 1px 2px rgba(60, 64, 67, 0.3), 0px 1px 3px 1px rgba(60, 64, 67, 0.15);\n",
              "      fill: #174EA6;\n",
              "    }\n",
              "\n",
              "    .colab-df-buttons div {\n",
              "      margin-bottom: 4px;\n",
              "    }\n",
              "\n",
              "    [theme=dark] .colab-df-convert {\n",
              "      background-color: #3B4455;\n",
              "      fill: #D2E3FC;\n",
              "    }\n",
              "\n",
              "    [theme=dark] .colab-df-convert:hover {\n",
              "      background-color: #434B5C;\n",
              "      box-shadow: 0px 1px 3px 1px rgba(0, 0, 0, 0.15);\n",
              "      filter: drop-shadow(0px 1px 2px rgba(0, 0, 0, 0.3));\n",
              "      fill: #FFFFFF;\n",
              "    }\n",
              "  </style>\n",
              "\n",
              "    <script>\n",
              "      const buttonEl =\n",
              "        document.querySelector('#df-de6d31dc-2e18-4835-8dee-e83051a0bc28 button.colab-df-convert');\n",
              "      buttonEl.style.display =\n",
              "        google.colab.kernel.accessAllowed ? 'block' : 'none';\n",
              "\n",
              "      async function convertToInteractive(key) {\n",
              "        const element = document.querySelector('#df-de6d31dc-2e18-4835-8dee-e83051a0bc28');\n",
              "        const dataTable =\n",
              "          await google.colab.kernel.invokeFunction('convertToInteractive',\n",
              "                                                    [key], {});\n",
              "        if (!dataTable) return;\n",
              "\n",
              "        const docLinkHtml = 'Like what you see? Visit the ' +\n",
              "          '<a target=\"_blank\" href=https://colab.research.google.com/notebooks/data_table.ipynb>data table notebook</a>'\n",
              "          + ' to learn more about interactive tables.';\n",
              "        element.innerHTML = '';\n",
              "        dataTable['output_type'] = 'display_data';\n",
              "        await google.colab.output.renderOutput(dataTable, element);\n",
              "        const docLink = document.createElement('div');\n",
              "        docLink.innerHTML = docLinkHtml;\n",
              "        element.appendChild(docLink);\n",
              "      }\n",
              "    </script>\n",
              "  </div>\n",
              "\n",
              "\n",
              "<div id=\"df-45e16891-110d-41f7-81f4-6fa06de61f9a\">\n",
              "  <button class=\"colab-df-quickchart\" onclick=\"quickchart('df-45e16891-110d-41f7-81f4-6fa06de61f9a')\"\n",
              "            title=\"Suggest charts\"\n",
              "            style=\"display:none;\">\n",
              "\n",
              "<svg xmlns=\"http://www.w3.org/2000/svg\" height=\"24px\"viewBox=\"0 0 24 24\"\n",
              "     width=\"24px\">\n",
              "    <g>\n",
              "        <path d=\"M19 3H5c-1.1 0-2 .9-2 2v14c0 1.1.9 2 2 2h14c1.1 0 2-.9 2-2V5c0-1.1-.9-2-2-2zM9 17H7v-7h2v7zm4 0h-2V7h2v10zm4 0h-2v-4h2v4z\"/>\n",
              "    </g>\n",
              "</svg>\n",
              "  </button>\n",
              "\n",
              "<style>\n",
              "  .colab-df-quickchart {\n",
              "      --bg-color: #E8F0FE;\n",
              "      --fill-color: #1967D2;\n",
              "      --hover-bg-color: #E2EBFA;\n",
              "      --hover-fill-color: #174EA6;\n",
              "      --disabled-fill-color: #AAA;\n",
              "      --disabled-bg-color: #DDD;\n",
              "  }\n",
              "\n",
              "  [theme=dark] .colab-df-quickchart {\n",
              "      --bg-color: #3B4455;\n",
              "      --fill-color: #D2E3FC;\n",
              "      --hover-bg-color: #434B5C;\n",
              "      --hover-fill-color: #FFFFFF;\n",
              "      --disabled-bg-color: #3B4455;\n",
              "      --disabled-fill-color: #666;\n",
              "  }\n",
              "\n",
              "  .colab-df-quickchart {\n",
              "    background-color: var(--bg-color);\n",
              "    border: none;\n",
              "    border-radius: 50%;\n",
              "    cursor: pointer;\n",
              "    display: none;\n",
              "    fill: var(--fill-color);\n",
              "    height: 32px;\n",
              "    padding: 0;\n",
              "    width: 32px;\n",
              "  }\n",
              "\n",
              "  .colab-df-quickchart:hover {\n",
              "    background-color: var(--hover-bg-color);\n",
              "    box-shadow: 0 1px 2px rgba(60, 64, 67, 0.3), 0 1px 3px 1px rgba(60, 64, 67, 0.15);\n",
              "    fill: var(--button-hover-fill-color);\n",
              "  }\n",
              "\n",
              "  .colab-df-quickchart-complete:disabled,\n",
              "  .colab-df-quickchart-complete:disabled:hover {\n",
              "    background-color: var(--disabled-bg-color);\n",
              "    fill: var(--disabled-fill-color);\n",
              "    box-shadow: none;\n",
              "  }\n",
              "\n",
              "  .colab-df-spinner {\n",
              "    border: 2px solid var(--fill-color);\n",
              "    border-color: transparent;\n",
              "    border-bottom-color: var(--fill-color);\n",
              "    animation:\n",
              "      spin 1s steps(1) infinite;\n",
              "  }\n",
              "\n",
              "  @keyframes spin {\n",
              "    0% {\n",
              "      border-color: transparent;\n",
              "      border-bottom-color: var(--fill-color);\n",
              "      border-left-color: var(--fill-color);\n",
              "    }\n",
              "    20% {\n",
              "      border-color: transparent;\n",
              "      border-left-color: var(--fill-color);\n",
              "      border-top-color: var(--fill-color);\n",
              "    }\n",
              "    30% {\n",
              "      border-color: transparent;\n",
              "      border-left-color: var(--fill-color);\n",
              "      border-top-color: var(--fill-color);\n",
              "      border-right-color: var(--fill-color);\n",
              "    }\n",
              "    40% {\n",
              "      border-color: transparent;\n",
              "      border-right-color: var(--fill-color);\n",
              "      border-top-color: var(--fill-color);\n",
              "    }\n",
              "    60% {\n",
              "      border-color: transparent;\n",
              "      border-right-color: var(--fill-color);\n",
              "    }\n",
              "    80% {\n",
              "      border-color: transparent;\n",
              "      border-right-color: var(--fill-color);\n",
              "      border-bottom-color: var(--fill-color);\n",
              "    }\n",
              "    90% {\n",
              "      border-color: transparent;\n",
              "      border-bottom-color: var(--fill-color);\n",
              "    }\n",
              "  }\n",
              "</style>\n",
              "\n",
              "  <script>\n",
              "    async function quickchart(key) {\n",
              "      const quickchartButtonEl =\n",
              "        document.querySelector('#' + key + ' button');\n",
              "      quickchartButtonEl.disabled = true;  // To prevent multiple clicks.\n",
              "      quickchartButtonEl.classList.add('colab-df-spinner');\n",
              "      try {\n",
              "        const charts = await google.colab.kernel.invokeFunction(\n",
              "            'suggestCharts', [key], {});\n",
              "      } catch (error) {\n",
              "        console.error('Error during call to suggestCharts:', error);\n",
              "      }\n",
              "      quickchartButtonEl.classList.remove('colab-df-spinner');\n",
              "      quickchartButtonEl.classList.add('colab-df-quickchart-complete');\n",
              "    }\n",
              "    (() => {\n",
              "      let quickchartButtonEl =\n",
              "        document.querySelector('#df-45e16891-110d-41f7-81f4-6fa06de61f9a button');\n",
              "      quickchartButtonEl.style.display =\n",
              "        google.colab.kernel.accessAllowed ? 'block' : 'none';\n",
              "    })();\n",
              "  </script>\n",
              "</div>\n",
              "\n",
              "    </div>\n",
              "  </div>\n"
            ],
            "application/vnd.google.colaboratory.intrinsic+json": {
              "type": "dataframe",
              "variable_name": "breast_cancer_dataset"
            }
          },
          "metadata": {},
          "execution_count": 10
        }
      ]
    },
    {
      "cell_type": "code",
      "source": [
        "# Change the label numbers to Benign, Malignant\n",
        "breast_cancer_dataset['label'].replace(0, 'Benign',inplace=True)\n",
        "breast_cancer_dataset['label'].replace(1, 'Malignant',inplace=True)"
      ],
      "metadata": {
        "id": "i6Nw7Lqgwfop"
      },
      "execution_count": null,
      "outputs": []
    },
    {
      "cell_type": "code",
      "source": [
        "# Print the last 10 rows of the dataset after modification\n",
        "breast_cancer_dataset.tail(10)"
      ],
      "metadata": {
        "colab": {
          "base_uri": "https://localhost:8080/"
        },
        "id": "Hgkj6SMkwtwF",
        "outputId": "8e3107b2-fc33-4640-d9ec-2779605a3b7d"
      },
      "execution_count": null,
      "outputs": [
        {
          "output_type": "execute_result",
          "data": {
            "text/plain": [
              "     mean radius  mean texture  mean perimeter  mean area  mean smoothness  \\\n",
              "559        11.51         23.93           74.52      403.5          0.09261   \n",
              "560        14.05         27.15           91.38      600.4          0.09929   \n",
              "561        11.20         29.37           70.67      386.0          0.07449   \n",
              "562        15.22         30.62          103.40      716.9          0.10480   \n",
              "563        20.92         25.09          143.00     1347.0          0.10990   \n",
              "564        21.56         22.39          142.00     1479.0          0.11100   \n",
              "565        20.13         28.25          131.20     1261.0          0.09780   \n",
              "566        16.60         28.08          108.30      858.1          0.08455   \n",
              "567        20.60         29.33          140.10     1265.0          0.11780   \n",
              "568         7.76         24.54           47.92      181.0          0.05263   \n",
              "\n",
              "     mean compactness  mean concavity  mean concave points  mean symmetry  \\\n",
              "559           0.10210         0.11120              0.04105         0.1388   \n",
              "560           0.11260         0.04462              0.04304         0.1537   \n",
              "561           0.03558         0.00000              0.00000         0.1060   \n",
              "562           0.20870         0.25500              0.09429         0.2128   \n",
              "563           0.22360         0.31740              0.14740         0.2149   \n",
              "564           0.11590         0.24390              0.13890         0.1726   \n",
              "565           0.10340         0.14400              0.09791         0.1752   \n",
              "566           0.10230         0.09251              0.05302         0.1590   \n",
              "567           0.27700         0.35140              0.15200         0.2397   \n",
              "568           0.04362         0.00000              0.00000         0.1587   \n",
              "\n",
              "     mean fractal dimension  ...  worst texture  worst perimeter  worst area  \\\n",
              "559                 0.06570  ...          37.16            82.28       474.2   \n",
              "560                 0.06171  ...          33.17           100.20       706.7   \n",
              "561                 0.05502  ...          38.30            75.19       439.6   \n",
              "562                 0.07152  ...          42.79           128.70       915.0   \n",
              "563                 0.06879  ...          29.41           179.10      1819.0   \n",
              "564                 0.05623  ...          26.40           166.10      2027.0   \n",
              "565                 0.05533  ...          38.25           155.00      1731.0   \n",
              "566                 0.05648  ...          34.12           126.70      1124.0   \n",
              "567                 0.07016  ...          39.42           184.60      1821.0   \n",
              "568                 0.05884  ...          30.37            59.16       268.6   \n",
              "\n",
              "     worst smoothness  worst compactness  worst concavity  \\\n",
              "559           0.12980            0.25170           0.3630   \n",
              "560           0.12410            0.22640           0.1326   \n",
              "561           0.09267            0.05494           0.0000   \n",
              "562           0.14170            0.79170           1.1700   \n",
              "563           0.14070            0.41860           0.6599   \n",
              "564           0.14100            0.21130           0.4107   \n",
              "565           0.11660            0.19220           0.3215   \n",
              "566           0.11390            0.30940           0.3403   \n",
              "567           0.16500            0.86810           0.9387   \n",
              "568           0.08996            0.06444           0.0000   \n",
              "\n",
              "     worst concave points  worst symmetry  worst fractal dimension      label  \n",
              "559               0.09653          0.2112                  0.08732  Malignant  \n",
              "560               0.10480          0.2250                  0.08321  Malignant  \n",
              "561               0.00000          0.1566                  0.05905  Malignant  \n",
              "562               0.23560          0.4089                  0.14090     Benign  \n",
              "563               0.25420          0.2929                  0.09873     Benign  \n",
              "564               0.22160          0.2060                  0.07115     Benign  \n",
              "565               0.16280          0.2572                  0.06637     Benign  \n",
              "566               0.14180          0.2218                  0.07820     Benign  \n",
              "567               0.26500          0.4087                  0.12400     Benign  \n",
              "568               0.00000          0.2871                  0.07039  Malignant  \n",
              "\n",
              "[10 rows x 31 columns]"
            ],
            "text/html": [
              "\n",
              "  <div id=\"df-bc213139-1271-4f3d-aa37-e05f52596a74\" class=\"colab-df-container\">\n",
              "    <div>\n",
              "<style scoped>\n",
              "    .dataframe tbody tr th:only-of-type {\n",
              "        vertical-align: middle;\n",
              "    }\n",
              "\n",
              "    .dataframe tbody tr th {\n",
              "        vertical-align: top;\n",
              "    }\n",
              "\n",
              "    .dataframe thead th {\n",
              "        text-align: right;\n",
              "    }\n",
              "</style>\n",
              "<table border=\"1\" class=\"dataframe\">\n",
              "  <thead>\n",
              "    <tr style=\"text-align: right;\">\n",
              "      <th></th>\n",
              "      <th>mean radius</th>\n",
              "      <th>mean texture</th>\n",
              "      <th>mean perimeter</th>\n",
              "      <th>mean area</th>\n",
              "      <th>mean smoothness</th>\n",
              "      <th>mean compactness</th>\n",
              "      <th>mean concavity</th>\n",
              "      <th>mean concave points</th>\n",
              "      <th>mean symmetry</th>\n",
              "      <th>mean fractal dimension</th>\n",
              "      <th>...</th>\n",
              "      <th>worst texture</th>\n",
              "      <th>worst perimeter</th>\n",
              "      <th>worst area</th>\n",
              "      <th>worst smoothness</th>\n",
              "      <th>worst compactness</th>\n",
              "      <th>worst concavity</th>\n",
              "      <th>worst concave points</th>\n",
              "      <th>worst symmetry</th>\n",
              "      <th>worst fractal dimension</th>\n",
              "      <th>label</th>\n",
              "    </tr>\n",
              "  </thead>\n",
              "  <tbody>\n",
              "    <tr>\n",
              "      <th>559</th>\n",
              "      <td>11.51</td>\n",
              "      <td>23.93</td>\n",
              "      <td>74.52</td>\n",
              "      <td>403.5</td>\n",
              "      <td>0.09261</td>\n",
              "      <td>0.10210</td>\n",
              "      <td>0.11120</td>\n",
              "      <td>0.04105</td>\n",
              "      <td>0.1388</td>\n",
              "      <td>0.06570</td>\n",
              "      <td>...</td>\n",
              "      <td>37.16</td>\n",
              "      <td>82.28</td>\n",
              "      <td>474.2</td>\n",
              "      <td>0.12980</td>\n",
              "      <td>0.25170</td>\n",
              "      <td>0.3630</td>\n",
              "      <td>0.09653</td>\n",
              "      <td>0.2112</td>\n",
              "      <td>0.08732</td>\n",
              "      <td>Malignant</td>\n",
              "    </tr>\n",
              "    <tr>\n",
              "      <th>560</th>\n",
              "      <td>14.05</td>\n",
              "      <td>27.15</td>\n",
              "      <td>91.38</td>\n",
              "      <td>600.4</td>\n",
              "      <td>0.09929</td>\n",
              "      <td>0.11260</td>\n",
              "      <td>0.04462</td>\n",
              "      <td>0.04304</td>\n",
              "      <td>0.1537</td>\n",
              "      <td>0.06171</td>\n",
              "      <td>...</td>\n",
              "      <td>33.17</td>\n",
              "      <td>100.20</td>\n",
              "      <td>706.7</td>\n",
              "      <td>0.12410</td>\n",
              "      <td>0.22640</td>\n",
              "      <td>0.1326</td>\n",
              "      <td>0.10480</td>\n",
              "      <td>0.2250</td>\n",
              "      <td>0.08321</td>\n",
              "      <td>Malignant</td>\n",
              "    </tr>\n",
              "    <tr>\n",
              "      <th>561</th>\n",
              "      <td>11.20</td>\n",
              "      <td>29.37</td>\n",
              "      <td>70.67</td>\n",
              "      <td>386.0</td>\n",
              "      <td>0.07449</td>\n",
              "      <td>0.03558</td>\n",
              "      <td>0.00000</td>\n",
              "      <td>0.00000</td>\n",
              "      <td>0.1060</td>\n",
              "      <td>0.05502</td>\n",
              "      <td>...</td>\n",
              "      <td>38.30</td>\n",
              "      <td>75.19</td>\n",
              "      <td>439.6</td>\n",
              "      <td>0.09267</td>\n",
              "      <td>0.05494</td>\n",
              "      <td>0.0000</td>\n",
              "      <td>0.00000</td>\n",
              "      <td>0.1566</td>\n",
              "      <td>0.05905</td>\n",
              "      <td>Malignant</td>\n",
              "    </tr>\n",
              "    <tr>\n",
              "      <th>562</th>\n",
              "      <td>15.22</td>\n",
              "      <td>30.62</td>\n",
              "      <td>103.40</td>\n",
              "      <td>716.9</td>\n",
              "      <td>0.10480</td>\n",
              "      <td>0.20870</td>\n",
              "      <td>0.25500</td>\n",
              "      <td>0.09429</td>\n",
              "      <td>0.2128</td>\n",
              "      <td>0.07152</td>\n",
              "      <td>...</td>\n",
              "      <td>42.79</td>\n",
              "      <td>128.70</td>\n",
              "      <td>915.0</td>\n",
              "      <td>0.14170</td>\n",
              "      <td>0.79170</td>\n",
              "      <td>1.1700</td>\n",
              "      <td>0.23560</td>\n",
              "      <td>0.4089</td>\n",
              "      <td>0.14090</td>\n",
              "      <td>Benign</td>\n",
              "    </tr>\n",
              "    <tr>\n",
              "      <th>563</th>\n",
              "      <td>20.92</td>\n",
              "      <td>25.09</td>\n",
              "      <td>143.00</td>\n",
              "      <td>1347.0</td>\n",
              "      <td>0.10990</td>\n",
              "      <td>0.22360</td>\n",
              "      <td>0.31740</td>\n",
              "      <td>0.14740</td>\n",
              "      <td>0.2149</td>\n",
              "      <td>0.06879</td>\n",
              "      <td>...</td>\n",
              "      <td>29.41</td>\n",
              "      <td>179.10</td>\n",
              "      <td>1819.0</td>\n",
              "      <td>0.14070</td>\n",
              "      <td>0.41860</td>\n",
              "      <td>0.6599</td>\n",
              "      <td>0.25420</td>\n",
              "      <td>0.2929</td>\n",
              "      <td>0.09873</td>\n",
              "      <td>Benign</td>\n",
              "    </tr>\n",
              "    <tr>\n",
              "      <th>564</th>\n",
              "      <td>21.56</td>\n",
              "      <td>22.39</td>\n",
              "      <td>142.00</td>\n",
              "      <td>1479.0</td>\n",
              "      <td>0.11100</td>\n",
              "      <td>0.11590</td>\n",
              "      <td>0.24390</td>\n",
              "      <td>0.13890</td>\n",
              "      <td>0.1726</td>\n",
              "      <td>0.05623</td>\n",
              "      <td>...</td>\n",
              "      <td>26.40</td>\n",
              "      <td>166.10</td>\n",
              "      <td>2027.0</td>\n",
              "      <td>0.14100</td>\n",
              "      <td>0.21130</td>\n",
              "      <td>0.4107</td>\n",
              "      <td>0.22160</td>\n",
              "      <td>0.2060</td>\n",
              "      <td>0.07115</td>\n",
              "      <td>Benign</td>\n",
              "    </tr>\n",
              "    <tr>\n",
              "      <th>565</th>\n",
              "      <td>20.13</td>\n",
              "      <td>28.25</td>\n",
              "      <td>131.20</td>\n",
              "      <td>1261.0</td>\n",
              "      <td>0.09780</td>\n",
              "      <td>0.10340</td>\n",
              "      <td>0.14400</td>\n",
              "      <td>0.09791</td>\n",
              "      <td>0.1752</td>\n",
              "      <td>0.05533</td>\n",
              "      <td>...</td>\n",
              "      <td>38.25</td>\n",
              "      <td>155.00</td>\n",
              "      <td>1731.0</td>\n",
              "      <td>0.11660</td>\n",
              "      <td>0.19220</td>\n",
              "      <td>0.3215</td>\n",
              "      <td>0.16280</td>\n",
              "      <td>0.2572</td>\n",
              "      <td>0.06637</td>\n",
              "      <td>Benign</td>\n",
              "    </tr>\n",
              "    <tr>\n",
              "      <th>566</th>\n",
              "      <td>16.60</td>\n",
              "      <td>28.08</td>\n",
              "      <td>108.30</td>\n",
              "      <td>858.1</td>\n",
              "      <td>0.08455</td>\n",
              "      <td>0.10230</td>\n",
              "      <td>0.09251</td>\n",
              "      <td>0.05302</td>\n",
              "      <td>0.1590</td>\n",
              "      <td>0.05648</td>\n",
              "      <td>...</td>\n",
              "      <td>34.12</td>\n",
              "      <td>126.70</td>\n",
              "      <td>1124.0</td>\n",
              "      <td>0.11390</td>\n",
              "      <td>0.30940</td>\n",
              "      <td>0.3403</td>\n",
              "      <td>0.14180</td>\n",
              "      <td>0.2218</td>\n",
              "      <td>0.07820</td>\n",
              "      <td>Benign</td>\n",
              "    </tr>\n",
              "    <tr>\n",
              "      <th>567</th>\n",
              "      <td>20.60</td>\n",
              "      <td>29.33</td>\n",
              "      <td>140.10</td>\n",
              "      <td>1265.0</td>\n",
              "      <td>0.11780</td>\n",
              "      <td>0.27700</td>\n",
              "      <td>0.35140</td>\n",
              "      <td>0.15200</td>\n",
              "      <td>0.2397</td>\n",
              "      <td>0.07016</td>\n",
              "      <td>...</td>\n",
              "      <td>39.42</td>\n",
              "      <td>184.60</td>\n",
              "      <td>1821.0</td>\n",
              "      <td>0.16500</td>\n",
              "      <td>0.86810</td>\n",
              "      <td>0.9387</td>\n",
              "      <td>0.26500</td>\n",
              "      <td>0.4087</td>\n",
              "      <td>0.12400</td>\n",
              "      <td>Benign</td>\n",
              "    </tr>\n",
              "    <tr>\n",
              "      <th>568</th>\n",
              "      <td>7.76</td>\n",
              "      <td>24.54</td>\n",
              "      <td>47.92</td>\n",
              "      <td>181.0</td>\n",
              "      <td>0.05263</td>\n",
              "      <td>0.04362</td>\n",
              "      <td>0.00000</td>\n",
              "      <td>0.00000</td>\n",
              "      <td>0.1587</td>\n",
              "      <td>0.05884</td>\n",
              "      <td>...</td>\n",
              "      <td>30.37</td>\n",
              "      <td>59.16</td>\n",
              "      <td>268.6</td>\n",
              "      <td>0.08996</td>\n",
              "      <td>0.06444</td>\n",
              "      <td>0.0000</td>\n",
              "      <td>0.00000</td>\n",
              "      <td>0.2871</td>\n",
              "      <td>0.07039</td>\n",
              "      <td>Malignant</td>\n",
              "    </tr>\n",
              "  </tbody>\n",
              "</table>\n",
              "<p>10 rows × 31 columns</p>\n",
              "</div>\n",
              "    <div class=\"colab-df-buttons\">\n",
              "\n",
              "  <div class=\"colab-df-container\">\n",
              "    <button class=\"colab-df-convert\" onclick=\"convertToInteractive('df-bc213139-1271-4f3d-aa37-e05f52596a74')\"\n",
              "            title=\"Convert this dataframe to an interactive table.\"\n",
              "            style=\"display:none;\">\n",
              "\n",
              "  <svg xmlns=\"http://www.w3.org/2000/svg\" height=\"24px\" viewBox=\"0 -960 960 960\">\n",
              "    <path d=\"M120-120v-720h720v720H120Zm60-500h600v-160H180v160Zm220 220h160v-160H400v160Zm0 220h160v-160H400v160ZM180-400h160v-160H180v160Zm440 0h160v-160H620v160ZM180-180h160v-160H180v160Zm440 0h160v-160H620v160Z\"/>\n",
              "  </svg>\n",
              "    </button>\n",
              "\n",
              "  <style>\n",
              "    .colab-df-container {\n",
              "      display:flex;\n",
              "      gap: 12px;\n",
              "    }\n",
              "\n",
              "    .colab-df-convert {\n",
              "      background-color: #E8F0FE;\n",
              "      border: none;\n",
              "      border-radius: 50%;\n",
              "      cursor: pointer;\n",
              "      display: none;\n",
              "      fill: #1967D2;\n",
              "      height: 32px;\n",
              "      padding: 0 0 0 0;\n",
              "      width: 32px;\n",
              "    }\n",
              "\n",
              "    .colab-df-convert:hover {\n",
              "      background-color: #E2EBFA;\n",
              "      box-shadow: 0px 1px 2px rgba(60, 64, 67, 0.3), 0px 1px 3px 1px rgba(60, 64, 67, 0.15);\n",
              "      fill: #174EA6;\n",
              "    }\n",
              "\n",
              "    .colab-df-buttons div {\n",
              "      margin-bottom: 4px;\n",
              "    }\n",
              "\n",
              "    [theme=dark] .colab-df-convert {\n",
              "      background-color: #3B4455;\n",
              "      fill: #D2E3FC;\n",
              "    }\n",
              "\n",
              "    [theme=dark] .colab-df-convert:hover {\n",
              "      background-color: #434B5C;\n",
              "      box-shadow: 0px 1px 3px 1px rgba(0, 0, 0, 0.15);\n",
              "      filter: drop-shadow(0px 1px 2px rgba(0, 0, 0, 0.3));\n",
              "      fill: #FFFFFF;\n",
              "    }\n",
              "  </style>\n",
              "\n",
              "    <script>\n",
              "      const buttonEl =\n",
              "        document.querySelector('#df-bc213139-1271-4f3d-aa37-e05f52596a74 button.colab-df-convert');\n",
              "      buttonEl.style.display =\n",
              "        google.colab.kernel.accessAllowed ? 'block' : 'none';\n",
              "\n",
              "      async function convertToInteractive(key) {\n",
              "        const element = document.querySelector('#df-bc213139-1271-4f3d-aa37-e05f52596a74');\n",
              "        const dataTable =\n",
              "          await google.colab.kernel.invokeFunction('convertToInteractive',\n",
              "                                                    [key], {});\n",
              "        if (!dataTable) return;\n",
              "\n",
              "        const docLinkHtml = 'Like what you see? Visit the ' +\n",
              "          '<a target=\"_blank\" href=https://colab.research.google.com/notebooks/data_table.ipynb>data table notebook</a>'\n",
              "          + ' to learn more about interactive tables.';\n",
              "        element.innerHTML = '';\n",
              "        dataTable['output_type'] = 'display_data';\n",
              "        await google.colab.output.renderOutput(dataTable, element);\n",
              "        const docLink = document.createElement('div');\n",
              "        docLink.innerHTML = docLinkHtml;\n",
              "        element.appendChild(docLink);\n",
              "      }\n",
              "    </script>\n",
              "  </div>\n",
              "\n",
              "\n",
              "<div id=\"df-d1c2ce4e-f589-45c0-bf3e-5f74f44b377d\">\n",
              "  <button class=\"colab-df-quickchart\" onclick=\"quickchart('df-d1c2ce4e-f589-45c0-bf3e-5f74f44b377d')\"\n",
              "            title=\"Suggest charts\"\n",
              "            style=\"display:none;\">\n",
              "\n",
              "<svg xmlns=\"http://www.w3.org/2000/svg\" height=\"24px\"viewBox=\"0 0 24 24\"\n",
              "     width=\"24px\">\n",
              "    <g>\n",
              "        <path d=\"M19 3H5c-1.1 0-2 .9-2 2v14c0 1.1.9 2 2 2h14c1.1 0 2-.9 2-2V5c0-1.1-.9-2-2-2zM9 17H7v-7h2v7zm4 0h-2V7h2v10zm4 0h-2v-4h2v4z\"/>\n",
              "    </g>\n",
              "</svg>\n",
              "  </button>\n",
              "\n",
              "<style>\n",
              "  .colab-df-quickchart {\n",
              "      --bg-color: #E8F0FE;\n",
              "      --fill-color: #1967D2;\n",
              "      --hover-bg-color: #E2EBFA;\n",
              "      --hover-fill-color: #174EA6;\n",
              "      --disabled-fill-color: #AAA;\n",
              "      --disabled-bg-color: #DDD;\n",
              "  }\n",
              "\n",
              "  [theme=dark] .colab-df-quickchart {\n",
              "      --bg-color: #3B4455;\n",
              "      --fill-color: #D2E3FC;\n",
              "      --hover-bg-color: #434B5C;\n",
              "      --hover-fill-color: #FFFFFF;\n",
              "      --disabled-bg-color: #3B4455;\n",
              "      --disabled-fill-color: #666;\n",
              "  }\n",
              "\n",
              "  .colab-df-quickchart {\n",
              "    background-color: var(--bg-color);\n",
              "    border: none;\n",
              "    border-radius: 50%;\n",
              "    cursor: pointer;\n",
              "    display: none;\n",
              "    fill: var(--fill-color);\n",
              "    height: 32px;\n",
              "    padding: 0;\n",
              "    width: 32px;\n",
              "  }\n",
              "\n",
              "  .colab-df-quickchart:hover {\n",
              "    background-color: var(--hover-bg-color);\n",
              "    box-shadow: 0 1px 2px rgba(60, 64, 67, 0.3), 0 1px 3px 1px rgba(60, 64, 67, 0.15);\n",
              "    fill: var(--button-hover-fill-color);\n",
              "  }\n",
              "\n",
              "  .colab-df-quickchart-complete:disabled,\n",
              "  .colab-df-quickchart-complete:disabled:hover {\n",
              "    background-color: var(--disabled-bg-color);\n",
              "    fill: var(--disabled-fill-color);\n",
              "    box-shadow: none;\n",
              "  }\n",
              "\n",
              "  .colab-df-spinner {\n",
              "    border: 2px solid var(--fill-color);\n",
              "    border-color: transparent;\n",
              "    border-bottom-color: var(--fill-color);\n",
              "    animation:\n",
              "      spin 1s steps(1) infinite;\n",
              "  }\n",
              "\n",
              "  @keyframes spin {\n",
              "    0% {\n",
              "      border-color: transparent;\n",
              "      border-bottom-color: var(--fill-color);\n",
              "      border-left-color: var(--fill-color);\n",
              "    }\n",
              "    20% {\n",
              "      border-color: transparent;\n",
              "      border-left-color: var(--fill-color);\n",
              "      border-top-color: var(--fill-color);\n",
              "    }\n",
              "    30% {\n",
              "      border-color: transparent;\n",
              "      border-left-color: var(--fill-color);\n",
              "      border-top-color: var(--fill-color);\n",
              "      border-right-color: var(--fill-color);\n",
              "    }\n",
              "    40% {\n",
              "      border-color: transparent;\n",
              "      border-right-color: var(--fill-color);\n",
              "      border-top-color: var(--fill-color);\n",
              "    }\n",
              "    60% {\n",
              "      border-color: transparent;\n",
              "      border-right-color: var(--fill-color);\n",
              "    }\n",
              "    80% {\n",
              "      border-color: transparent;\n",
              "      border-right-color: var(--fill-color);\n",
              "      border-bottom-color: var(--fill-color);\n",
              "    }\n",
              "    90% {\n",
              "      border-color: transparent;\n",
              "      border-bottom-color: var(--fill-color);\n",
              "    }\n",
              "  }\n",
              "</style>\n",
              "\n",
              "  <script>\n",
              "    async function quickchart(key) {\n",
              "      const quickchartButtonEl =\n",
              "        document.querySelector('#' + key + ' button');\n",
              "      quickchartButtonEl.disabled = true;  // To prevent multiple clicks.\n",
              "      quickchartButtonEl.classList.add('colab-df-spinner');\n",
              "      try {\n",
              "        const charts = await google.colab.kernel.invokeFunction(\n",
              "            'suggestCharts', [key], {});\n",
              "      } catch (error) {\n",
              "        console.error('Error during call to suggestCharts:', error);\n",
              "      }\n",
              "      quickchartButtonEl.classList.remove('colab-df-spinner');\n",
              "      quickchartButtonEl.classList.add('colab-df-quickchart-complete');\n",
              "    }\n",
              "    (() => {\n",
              "      let quickchartButtonEl =\n",
              "        document.querySelector('#df-d1c2ce4e-f589-45c0-bf3e-5f74f44b377d button');\n",
              "      quickchartButtonEl.style.display =\n",
              "        google.colab.kernel.accessAllowed ? 'block' : 'none';\n",
              "    })();\n",
              "  </script>\n",
              "</div>\n",
              "\n",
              "    </div>\n",
              "  </div>\n"
            ],
            "application/vnd.google.colaboratory.intrinsic+json": {
              "type": "dataframe"
            }
          },
          "metadata": {},
          "execution_count": 12
        }
      ]
    },
    {
      "cell_type": "code",
      "source": [
        "# Scale breast cnacer features\n",
        "from sklearn.preprocessing import StandardScaler           #scsc\n",
        "\n",
        "x = breast_cancer_dataset.loc[:, features].values\n",
        "x = StandardScaler().fit_transform(x)\n",
        "\n",
        "# print the shape of x\n",
        "print(x.shape)"
      ],
      "metadata": {
        "colab": {
          "base_uri": "https://localhost:8080/"
        },
        "id": "Use6Z1tx3u3T",
        "outputId": "a0a38d5e-dc20-405c-ee02-887a37986cb5"
      },
      "execution_count": null,
      "outputs": [
        {
          "output_type": "stream",
          "name": "stdout",
          "text": [
            "(569, 30)\n"
          ]
        }
      ]
    },
    {
      "cell_type": "code",
      "source": [
        "# Convert the normalized features into a tabular format with the help of DataFrame\n",
        "\n",
        "feat_cols = ['feature'+str(i) for i in range(x.shape[1])]\n",
        "\n",
        "# Creating a DataFrame called normalised_breast_cancer\n",
        "normalised_breast_cancer = pd.DataFrame(x,columns=feat_cols)\n",
        "\n",
        "# Print the last 10 rows of normalised_breast_cancer DataFrame\n",
        "normalised_breast_cancer.tail(10)"
      ],
      "metadata": {
        "colab": {
          "base_uri": "https://localhost:8080/"
        },
        "id": "hWWfggSw5Yob",
        "outputId": "81616284-2c6d-417f-bbc1-dea0f2ffbe38"
      },
      "execution_count": null,
      "outputs": [
        {
          "output_type": "execute_result",
          "data": {
            "text/plain": [
              "     feature0  feature1  feature2  feature3  feature4  feature5  feature6  \\\n",
              "559 -0.743348  1.079841 -0.718729 -0.714976 -0.266890 -0.042470  0.281240   \n",
              "560 -0.021952  1.829157 -0.024262 -0.154973  0.208495  0.156521 -0.554670   \n",
              "561 -0.831392  2.345765 -0.877311 -0.764748 -1.556408 -1.303122 -1.114873   \n",
              "562  0.310345  2.636649  0.470844  0.176365  0.600616  1.977758  2.086645   \n",
              "563  1.929226  1.349781  2.101976  1.968434  0.963560  2.260135  2.870075   \n",
              "564  2.110995  0.721473  2.060786  2.343856  1.041842  0.219060  1.947285   \n",
              "565  1.704854  2.085134  1.615931  1.723842  0.102458 -0.017833  0.693043   \n",
              "566  0.702284  2.045574  0.672676  0.577953 -0.840484 -0.038680  0.046588   \n",
              "567  1.838341  2.336457  1.982524  1.735218  1.525767  3.272144  3.296944   \n",
              "568 -1.808401  1.221792 -1.814389 -1.347789 -3.112085 -1.150752 -1.114873   \n",
              "\n",
              "     feature7  feature8  feature9  ...  feature20  feature21  feature22  \\\n",
              "559 -0.202977 -1.546608  0.411444  ...  -0.784675   1.869899  -0.744086   \n",
              "560 -0.151647 -1.002617 -0.154180  ...  -0.200702   1.220152  -0.210324   \n",
              "561 -1.261820 -2.744117 -1.102557  ...  -0.900641   2.055541  -0.955268   \n",
              "562  1.170295  1.155090  1.236490  ...   0.259021   2.786709   0.638572   \n",
              "563  2.540213  1.231760  0.849484  ...   1.660970   0.607860   2.139779   \n",
              "564  2.320965 -0.312589 -0.931027  ...   1.901185   0.117700   1.752563   \n",
              "565  1.263669 -0.217664 -1.058611  ...   1.536720   2.047399   1.421940   \n",
              "566  0.105777 -0.809117 -0.895587  ...   0.561361   1.374854   0.579001   \n",
              "567  2.658866  2.137194  1.043695  ...   1.961239   2.237926   2.303601   \n",
              "568 -1.261820 -0.820070 -0.561032  ...  -1.410893   0.764190  -1.432735   \n",
              "\n",
              "     feature23  feature24  feature25  feature26  feature27  feature28  \\\n",
              "559  -0.714386  -0.112597  -0.016317   0.435670  -0.275239  -1.276034   \n",
              "560  -0.305671  -0.362461  -0.177261  -0.669679  -0.149315  -1.052780   \n",
              "561  -0.775210  -1.740223  -1.267986  -1.305831  -1.745063  -2.159342   \n",
              "562   0.060502   0.409050   3.418837   4.307272   1.842324   1.922319   \n",
              "563   1.649655   0.365215   1.045400   1.860055   2.125538   0.045693   \n",
              "564   2.015301   0.378365  -0.273318   0.664512   1.629151  -1.360158   \n",
              "565   1.494959  -0.691230  -0.394820   0.236573   0.733827  -0.531855   \n",
              "566   0.427906  -0.809587   0.350735   0.326767   0.414069  -1.104549   \n",
              "567   1.653171   1.430427   3.904848   3.197605   2.289985   1.919083   \n",
              "568  -1.075813  -1.859019  -1.207552  -1.305831  -1.745063  -0.048138   \n",
              "\n",
              "     feature29  \n",
              "559   0.186983  \n",
              "560  -0.040776  \n",
              "561  -1.379622  \n",
              "562   3.156163  \n",
              "563   0.819278  \n",
              "564  -0.709091  \n",
              "565  -0.973978  \n",
              "566  -0.318409  \n",
              "567   2.219635  \n",
              "568  -0.751207  \n",
              "\n",
              "[10 rows x 30 columns]"
            ],
            "text/html": [
              "\n",
              "  <div id=\"df-04a07e4f-abeb-487f-bd06-f30fad0c5e26\" class=\"colab-df-container\">\n",
              "    <div>\n",
              "<style scoped>\n",
              "    .dataframe tbody tr th:only-of-type {\n",
              "        vertical-align: middle;\n",
              "    }\n",
              "\n",
              "    .dataframe tbody tr th {\n",
              "        vertical-align: top;\n",
              "    }\n",
              "\n",
              "    .dataframe thead th {\n",
              "        text-align: right;\n",
              "    }\n",
              "</style>\n",
              "<table border=\"1\" class=\"dataframe\">\n",
              "  <thead>\n",
              "    <tr style=\"text-align: right;\">\n",
              "      <th></th>\n",
              "      <th>feature0</th>\n",
              "      <th>feature1</th>\n",
              "      <th>feature2</th>\n",
              "      <th>feature3</th>\n",
              "      <th>feature4</th>\n",
              "      <th>feature5</th>\n",
              "      <th>feature6</th>\n",
              "      <th>feature7</th>\n",
              "      <th>feature8</th>\n",
              "      <th>feature9</th>\n",
              "      <th>...</th>\n",
              "      <th>feature20</th>\n",
              "      <th>feature21</th>\n",
              "      <th>feature22</th>\n",
              "      <th>feature23</th>\n",
              "      <th>feature24</th>\n",
              "      <th>feature25</th>\n",
              "      <th>feature26</th>\n",
              "      <th>feature27</th>\n",
              "      <th>feature28</th>\n",
              "      <th>feature29</th>\n",
              "    </tr>\n",
              "  </thead>\n",
              "  <tbody>\n",
              "    <tr>\n",
              "      <th>559</th>\n",
              "      <td>-0.743348</td>\n",
              "      <td>1.079841</td>\n",
              "      <td>-0.718729</td>\n",
              "      <td>-0.714976</td>\n",
              "      <td>-0.266890</td>\n",
              "      <td>-0.042470</td>\n",
              "      <td>0.281240</td>\n",
              "      <td>-0.202977</td>\n",
              "      <td>-1.546608</td>\n",
              "      <td>0.411444</td>\n",
              "      <td>...</td>\n",
              "      <td>-0.784675</td>\n",
              "      <td>1.869899</td>\n",
              "      <td>-0.744086</td>\n",
              "      <td>-0.714386</td>\n",
              "      <td>-0.112597</td>\n",
              "      <td>-0.016317</td>\n",
              "      <td>0.435670</td>\n",
              "      <td>-0.275239</td>\n",
              "      <td>-1.276034</td>\n",
              "      <td>0.186983</td>\n",
              "    </tr>\n",
              "    <tr>\n",
              "      <th>560</th>\n",
              "      <td>-0.021952</td>\n",
              "      <td>1.829157</td>\n",
              "      <td>-0.024262</td>\n",
              "      <td>-0.154973</td>\n",
              "      <td>0.208495</td>\n",
              "      <td>0.156521</td>\n",
              "      <td>-0.554670</td>\n",
              "      <td>-0.151647</td>\n",
              "      <td>-1.002617</td>\n",
              "      <td>-0.154180</td>\n",
              "      <td>...</td>\n",
              "      <td>-0.200702</td>\n",
              "      <td>1.220152</td>\n",
              "      <td>-0.210324</td>\n",
              "      <td>-0.305671</td>\n",
              "      <td>-0.362461</td>\n",
              "      <td>-0.177261</td>\n",
              "      <td>-0.669679</td>\n",
              "      <td>-0.149315</td>\n",
              "      <td>-1.052780</td>\n",
              "      <td>-0.040776</td>\n",
              "    </tr>\n",
              "    <tr>\n",
              "      <th>561</th>\n",
              "      <td>-0.831392</td>\n",
              "      <td>2.345765</td>\n",
              "      <td>-0.877311</td>\n",
              "      <td>-0.764748</td>\n",
              "      <td>-1.556408</td>\n",
              "      <td>-1.303122</td>\n",
              "      <td>-1.114873</td>\n",
              "      <td>-1.261820</td>\n",
              "      <td>-2.744117</td>\n",
              "      <td>-1.102557</td>\n",
              "      <td>...</td>\n",
              "      <td>-0.900641</td>\n",
              "      <td>2.055541</td>\n",
              "      <td>-0.955268</td>\n",
              "      <td>-0.775210</td>\n",
              "      <td>-1.740223</td>\n",
              "      <td>-1.267986</td>\n",
              "      <td>-1.305831</td>\n",
              "      <td>-1.745063</td>\n",
              "      <td>-2.159342</td>\n",
              "      <td>-1.379622</td>\n",
              "    </tr>\n",
              "    <tr>\n",
              "      <th>562</th>\n",
              "      <td>0.310345</td>\n",
              "      <td>2.636649</td>\n",
              "      <td>0.470844</td>\n",
              "      <td>0.176365</td>\n",
              "      <td>0.600616</td>\n",
              "      <td>1.977758</td>\n",
              "      <td>2.086645</td>\n",
              "      <td>1.170295</td>\n",
              "      <td>1.155090</td>\n",
              "      <td>1.236490</td>\n",
              "      <td>...</td>\n",
              "      <td>0.259021</td>\n",
              "      <td>2.786709</td>\n",
              "      <td>0.638572</td>\n",
              "      <td>0.060502</td>\n",
              "      <td>0.409050</td>\n",
              "      <td>3.418837</td>\n",
              "      <td>4.307272</td>\n",
              "      <td>1.842324</td>\n",
              "      <td>1.922319</td>\n",
              "      <td>3.156163</td>\n",
              "    </tr>\n",
              "    <tr>\n",
              "      <th>563</th>\n",
              "      <td>1.929226</td>\n",
              "      <td>1.349781</td>\n",
              "      <td>2.101976</td>\n",
              "      <td>1.968434</td>\n",
              "      <td>0.963560</td>\n",
              "      <td>2.260135</td>\n",
              "      <td>2.870075</td>\n",
              "      <td>2.540213</td>\n",
              "      <td>1.231760</td>\n",
              "      <td>0.849484</td>\n",
              "      <td>...</td>\n",
              "      <td>1.660970</td>\n",
              "      <td>0.607860</td>\n",
              "      <td>2.139779</td>\n",
              "      <td>1.649655</td>\n",
              "      <td>0.365215</td>\n",
              "      <td>1.045400</td>\n",
              "      <td>1.860055</td>\n",
              "      <td>2.125538</td>\n",
              "      <td>0.045693</td>\n",
              "      <td>0.819278</td>\n",
              "    </tr>\n",
              "    <tr>\n",
              "      <th>564</th>\n",
              "      <td>2.110995</td>\n",
              "      <td>0.721473</td>\n",
              "      <td>2.060786</td>\n",
              "      <td>2.343856</td>\n",
              "      <td>1.041842</td>\n",
              "      <td>0.219060</td>\n",
              "      <td>1.947285</td>\n",
              "      <td>2.320965</td>\n",
              "      <td>-0.312589</td>\n",
              "      <td>-0.931027</td>\n",
              "      <td>...</td>\n",
              "      <td>1.901185</td>\n",
              "      <td>0.117700</td>\n",
              "      <td>1.752563</td>\n",
              "      <td>2.015301</td>\n",
              "      <td>0.378365</td>\n",
              "      <td>-0.273318</td>\n",
              "      <td>0.664512</td>\n",
              "      <td>1.629151</td>\n",
              "      <td>-1.360158</td>\n",
              "      <td>-0.709091</td>\n",
              "    </tr>\n",
              "    <tr>\n",
              "      <th>565</th>\n",
              "      <td>1.704854</td>\n",
              "      <td>2.085134</td>\n",
              "      <td>1.615931</td>\n",
              "      <td>1.723842</td>\n",
              "      <td>0.102458</td>\n",
              "      <td>-0.017833</td>\n",
              "      <td>0.693043</td>\n",
              "      <td>1.263669</td>\n",
              "      <td>-0.217664</td>\n",
              "      <td>-1.058611</td>\n",
              "      <td>...</td>\n",
              "      <td>1.536720</td>\n",
              "      <td>2.047399</td>\n",
              "      <td>1.421940</td>\n",
              "      <td>1.494959</td>\n",
              "      <td>-0.691230</td>\n",
              "      <td>-0.394820</td>\n",
              "      <td>0.236573</td>\n",
              "      <td>0.733827</td>\n",
              "      <td>-0.531855</td>\n",
              "      <td>-0.973978</td>\n",
              "    </tr>\n",
              "    <tr>\n",
              "      <th>566</th>\n",
              "      <td>0.702284</td>\n",
              "      <td>2.045574</td>\n",
              "      <td>0.672676</td>\n",
              "      <td>0.577953</td>\n",
              "      <td>-0.840484</td>\n",
              "      <td>-0.038680</td>\n",
              "      <td>0.046588</td>\n",
              "      <td>0.105777</td>\n",
              "      <td>-0.809117</td>\n",
              "      <td>-0.895587</td>\n",
              "      <td>...</td>\n",
              "      <td>0.561361</td>\n",
              "      <td>1.374854</td>\n",
              "      <td>0.579001</td>\n",
              "      <td>0.427906</td>\n",
              "      <td>-0.809587</td>\n",
              "      <td>0.350735</td>\n",
              "      <td>0.326767</td>\n",
              "      <td>0.414069</td>\n",
              "      <td>-1.104549</td>\n",
              "      <td>-0.318409</td>\n",
              "    </tr>\n",
              "    <tr>\n",
              "      <th>567</th>\n",
              "      <td>1.838341</td>\n",
              "      <td>2.336457</td>\n",
              "      <td>1.982524</td>\n",
              "      <td>1.735218</td>\n",
              "      <td>1.525767</td>\n",
              "      <td>3.272144</td>\n",
              "      <td>3.296944</td>\n",
              "      <td>2.658866</td>\n",
              "      <td>2.137194</td>\n",
              "      <td>1.043695</td>\n",
              "      <td>...</td>\n",
              "      <td>1.961239</td>\n",
              "      <td>2.237926</td>\n",
              "      <td>2.303601</td>\n",
              "      <td>1.653171</td>\n",
              "      <td>1.430427</td>\n",
              "      <td>3.904848</td>\n",
              "      <td>3.197605</td>\n",
              "      <td>2.289985</td>\n",
              "      <td>1.919083</td>\n",
              "      <td>2.219635</td>\n",
              "    </tr>\n",
              "    <tr>\n",
              "      <th>568</th>\n",
              "      <td>-1.808401</td>\n",
              "      <td>1.221792</td>\n",
              "      <td>-1.814389</td>\n",
              "      <td>-1.347789</td>\n",
              "      <td>-3.112085</td>\n",
              "      <td>-1.150752</td>\n",
              "      <td>-1.114873</td>\n",
              "      <td>-1.261820</td>\n",
              "      <td>-0.820070</td>\n",
              "      <td>-0.561032</td>\n",
              "      <td>...</td>\n",
              "      <td>-1.410893</td>\n",
              "      <td>0.764190</td>\n",
              "      <td>-1.432735</td>\n",
              "      <td>-1.075813</td>\n",
              "      <td>-1.859019</td>\n",
              "      <td>-1.207552</td>\n",
              "      <td>-1.305831</td>\n",
              "      <td>-1.745063</td>\n",
              "      <td>-0.048138</td>\n",
              "      <td>-0.751207</td>\n",
              "    </tr>\n",
              "  </tbody>\n",
              "</table>\n",
              "<p>10 rows × 30 columns</p>\n",
              "</div>\n",
              "    <div class=\"colab-df-buttons\">\n",
              "\n",
              "  <div class=\"colab-df-container\">\n",
              "    <button class=\"colab-df-convert\" onclick=\"convertToInteractive('df-04a07e4f-abeb-487f-bd06-f30fad0c5e26')\"\n",
              "            title=\"Convert this dataframe to an interactive table.\"\n",
              "            style=\"display:none;\">\n",
              "\n",
              "  <svg xmlns=\"http://www.w3.org/2000/svg\" height=\"24px\" viewBox=\"0 -960 960 960\">\n",
              "    <path d=\"M120-120v-720h720v720H120Zm60-500h600v-160H180v160Zm220 220h160v-160H400v160Zm0 220h160v-160H400v160ZM180-400h160v-160H180v160Zm440 0h160v-160H620v160ZM180-180h160v-160H180v160Zm440 0h160v-160H620v160Z\"/>\n",
              "  </svg>\n",
              "    </button>\n",
              "\n",
              "  <style>\n",
              "    .colab-df-container {\n",
              "      display:flex;\n",
              "      gap: 12px;\n",
              "    }\n",
              "\n",
              "    .colab-df-convert {\n",
              "      background-color: #E8F0FE;\n",
              "      border: none;\n",
              "      border-radius: 50%;\n",
              "      cursor: pointer;\n",
              "      display: none;\n",
              "      fill: #1967D2;\n",
              "      height: 32px;\n",
              "      padding: 0 0 0 0;\n",
              "      width: 32px;\n",
              "    }\n",
              "\n",
              "    .colab-df-convert:hover {\n",
              "      background-color: #E2EBFA;\n",
              "      box-shadow: 0px 1px 2px rgba(60, 64, 67, 0.3), 0px 1px 3px 1px rgba(60, 64, 67, 0.15);\n",
              "      fill: #174EA6;\n",
              "    }\n",
              "\n",
              "    .colab-df-buttons div {\n",
              "      margin-bottom: 4px;\n",
              "    }\n",
              "\n",
              "    [theme=dark] .colab-df-convert {\n",
              "      background-color: #3B4455;\n",
              "      fill: #D2E3FC;\n",
              "    }\n",
              "\n",
              "    [theme=dark] .colab-df-convert:hover {\n",
              "      background-color: #434B5C;\n",
              "      box-shadow: 0px 1px 3px 1px rgba(0, 0, 0, 0.15);\n",
              "      filter: drop-shadow(0px 1px 2px rgba(0, 0, 0, 0.3));\n",
              "      fill: #FFFFFF;\n",
              "    }\n",
              "  </style>\n",
              "\n",
              "    <script>\n",
              "      const buttonEl =\n",
              "        document.querySelector('#df-04a07e4f-abeb-487f-bd06-f30fad0c5e26 button.colab-df-convert');\n",
              "      buttonEl.style.display =\n",
              "        google.colab.kernel.accessAllowed ? 'block' : 'none';\n",
              "\n",
              "      async function convertToInteractive(key) {\n",
              "        const element = document.querySelector('#df-04a07e4f-abeb-487f-bd06-f30fad0c5e26');\n",
              "        const dataTable =\n",
              "          await google.colab.kernel.invokeFunction('convertToInteractive',\n",
              "                                                    [key], {});\n",
              "        if (!dataTable) return;\n",
              "\n",
              "        const docLinkHtml = 'Like what you see? Visit the ' +\n",
              "          '<a target=\"_blank\" href=https://colab.research.google.com/notebooks/data_table.ipynb>data table notebook</a>'\n",
              "          + ' to learn more about interactive tables.';\n",
              "        element.innerHTML = '';\n",
              "        dataTable['output_type'] = 'display_data';\n",
              "        await google.colab.output.renderOutput(dataTable, element);\n",
              "        const docLink = document.createElement('div');\n",
              "        docLink.innerHTML = docLinkHtml;\n",
              "        element.appendChild(docLink);\n",
              "      }\n",
              "    </script>\n",
              "  </div>\n",
              "\n",
              "\n",
              "<div id=\"df-73423b33-47e8-43b3-a4af-b07d7c3e2bb6\">\n",
              "  <button class=\"colab-df-quickchart\" onclick=\"quickchart('df-73423b33-47e8-43b3-a4af-b07d7c3e2bb6')\"\n",
              "            title=\"Suggest charts\"\n",
              "            style=\"display:none;\">\n",
              "\n",
              "<svg xmlns=\"http://www.w3.org/2000/svg\" height=\"24px\"viewBox=\"0 0 24 24\"\n",
              "     width=\"24px\">\n",
              "    <g>\n",
              "        <path d=\"M19 3H5c-1.1 0-2 .9-2 2v14c0 1.1.9 2 2 2h14c1.1 0 2-.9 2-2V5c0-1.1-.9-2-2-2zM9 17H7v-7h2v7zm4 0h-2V7h2v10zm4 0h-2v-4h2v4z\"/>\n",
              "    </g>\n",
              "</svg>\n",
              "  </button>\n",
              "\n",
              "<style>\n",
              "  .colab-df-quickchart {\n",
              "      --bg-color: #E8F0FE;\n",
              "      --fill-color: #1967D2;\n",
              "      --hover-bg-color: #E2EBFA;\n",
              "      --hover-fill-color: #174EA6;\n",
              "      --disabled-fill-color: #AAA;\n",
              "      --disabled-bg-color: #DDD;\n",
              "  }\n",
              "\n",
              "  [theme=dark] .colab-df-quickchart {\n",
              "      --bg-color: #3B4455;\n",
              "      --fill-color: #D2E3FC;\n",
              "      --hover-bg-color: #434B5C;\n",
              "      --hover-fill-color: #FFFFFF;\n",
              "      --disabled-bg-color: #3B4455;\n",
              "      --disabled-fill-color: #666;\n",
              "  }\n",
              "\n",
              "  .colab-df-quickchart {\n",
              "    background-color: var(--bg-color);\n",
              "    border: none;\n",
              "    border-radius: 50%;\n",
              "    cursor: pointer;\n",
              "    display: none;\n",
              "    fill: var(--fill-color);\n",
              "    height: 32px;\n",
              "    padding: 0;\n",
              "    width: 32px;\n",
              "  }\n",
              "\n",
              "  .colab-df-quickchart:hover {\n",
              "    background-color: var(--hover-bg-color);\n",
              "    box-shadow: 0 1px 2px rgba(60, 64, 67, 0.3), 0 1px 3px 1px rgba(60, 64, 67, 0.15);\n",
              "    fill: var(--button-hover-fill-color);\n",
              "  }\n",
              "\n",
              "  .colab-df-quickchart-complete:disabled,\n",
              "  .colab-df-quickchart-complete:disabled:hover {\n",
              "    background-color: var(--disabled-bg-color);\n",
              "    fill: var(--disabled-fill-color);\n",
              "    box-shadow: none;\n",
              "  }\n",
              "\n",
              "  .colab-df-spinner {\n",
              "    border: 2px solid var(--fill-color);\n",
              "    border-color: transparent;\n",
              "    border-bottom-color: var(--fill-color);\n",
              "    animation:\n",
              "      spin 1s steps(1) infinite;\n",
              "  }\n",
              "\n",
              "  @keyframes spin {\n",
              "    0% {\n",
              "      border-color: transparent;\n",
              "      border-bottom-color: var(--fill-color);\n",
              "      border-left-color: var(--fill-color);\n",
              "    }\n",
              "    20% {\n",
              "      border-color: transparent;\n",
              "      border-left-color: var(--fill-color);\n",
              "      border-top-color: var(--fill-color);\n",
              "    }\n",
              "    30% {\n",
              "      border-color: transparent;\n",
              "      border-left-color: var(--fill-color);\n",
              "      border-top-color: var(--fill-color);\n",
              "      border-right-color: var(--fill-color);\n",
              "    }\n",
              "    40% {\n",
              "      border-color: transparent;\n",
              "      border-right-color: var(--fill-color);\n",
              "      border-top-color: var(--fill-color);\n",
              "    }\n",
              "    60% {\n",
              "      border-color: transparent;\n",
              "      border-right-color: var(--fill-color);\n",
              "    }\n",
              "    80% {\n",
              "      border-color: transparent;\n",
              "      border-right-color: var(--fill-color);\n",
              "      border-bottom-color: var(--fill-color);\n",
              "    }\n",
              "    90% {\n",
              "      border-color: transparent;\n",
              "      border-bottom-color: var(--fill-color);\n",
              "    }\n",
              "  }\n",
              "</style>\n",
              "\n",
              "  <script>\n",
              "    async function quickchart(key) {\n",
              "      const quickchartButtonEl =\n",
              "        document.querySelector('#' + key + ' button');\n",
              "      quickchartButtonEl.disabled = true;  // To prevent multiple clicks.\n",
              "      quickchartButtonEl.classList.add('colab-df-spinner');\n",
              "      try {\n",
              "        const charts = await google.colab.kernel.invokeFunction(\n",
              "            'suggestCharts', [key], {});\n",
              "      } catch (error) {\n",
              "        console.error('Error during call to suggestCharts:', error);\n",
              "      }\n",
              "      quickchartButtonEl.classList.remove('colab-df-spinner');\n",
              "      quickchartButtonEl.classList.add('colab-df-quickchart-complete');\n",
              "    }\n",
              "    (() => {\n",
              "      let quickchartButtonEl =\n",
              "        document.querySelector('#df-73423b33-47e8-43b3-a4af-b07d7c3e2bb6 button');\n",
              "      quickchartButtonEl.style.display =\n",
              "        google.colab.kernel.accessAllowed ? 'block' : 'none';\n",
              "    })();\n",
              "  </script>\n",
              "</div>\n",
              "\n",
              "    </div>\n",
              "  </div>\n"
            ],
            "application/vnd.google.colaboratory.intrinsic+json": {
              "type": "dataframe"
            }
          },
          "metadata": {},
          "execution_count": 14
        }
      ]
    },
    {
      "cell_type": "code",
      "source": [
        "# Split breast cancer dataset into train and test sets       #scsc\n",
        "x_train, x_test, y_train, y_test = train_test_split(normalised_breast_cancer, breast_cancer_dataset['label'], test_size=0.2, random_state=1)"
      ],
      "metadata": {
        "id": "MjtZ3JSp_96z"
      },
      "execution_count": null,
      "outputs": []
    },
    {
      "cell_type": "markdown",
      "source": [
        "#### Load CIFAR-10 dataset"
      ],
      "metadata": {
        "id": "vTlWsiUWxCVx"
      }
    },
    {
      "cell_type": "code",
      "source": [
        "# Intialize the x_train, y_train, x_test, and y_test sets                  #SCSC\n",
        "(cifar10_x_train, cifar10_y_train), (cifar10_x_test, cifar10_y_test) = cifar10.load_data()"
      ],
      "metadata": {
        "id": "AHqvvV-5xIM-"
      },
      "execution_count": null,
      "outputs": []
    },
    {
      "cell_type": "code",
      "source": [
        "# Print the shape of cifare10 dataset\n",
        "print('The CIFAR10 x train shape', cifar10_x_train.shape)\n",
        "print('The CIFAR10 y train shape', cifar10_y_train.shape)            #SCSC\n",
        "print('The CIFAR10 x test shape', cifar10_x_test.shape)\n",
        "print('The CIFAR10 y test shape', cifar10_y_test.shape)"
      ],
      "metadata": {
        "colab": {
          "base_uri": "https://localhost:8080/"
        },
        "id": "uwqM4yK1zSvd",
        "outputId": "3ef83a7d-5f5e-443b-cd88-c332777815a4"
      },
      "execution_count": null,
      "outputs": [
        {
          "output_type": "stream",
          "name": "stdout",
          "text": [
            "The CIFAR10 x train shape (50000, 32, 32, 3)\n",
            "The CIFAR10 y train shape (50000, 1)\n",
            "The CIFAR10 x test shape (10000, 32, 32, 3)\n",
            "The CIFAR10 y test shape (10000, 1)\n"
          ]
        }
      ]
    },
    {
      "cell_type": "code",
      "source": [
        "# Getting the number of classes in the CIFAR10 dataset\n",
        "cifar10_classes = np.unique(cifar10_y_train)                      #SCSC\n",
        "print('The number of classes:', len(cifar10_classes))\n",
        "print('Classes:',cifar10_classes)"
      ],
      "metadata": {
        "colab": {
          "base_uri": "https://localhost:8080/"
        },
        "id": "AP3mkWST0NUU",
        "outputId": "ca68cce1-c441-4190-aa08-8bd48a73fd97"
      },
      "execution_count": null,
      "outputs": [
        {
          "output_type": "stream",
          "name": "stdout",
          "text": [
            "The number of classes: 10\n",
            "Classes: [0 1 2 3 4 5 6 7 8 9]\n"
          ]
        }
      ]
    },
    {
      "cell_type": "code",
      "source": [
        "# Creating dictionary contains class names with their corresponding categorical class labels.\n",
        "cifar10_label_dict = {\n",
        " 0: 'airplane',\n",
        " 1: 'automobile',\n",
        " 2: 'bird',                                                     #SCSC\n",
        " 3: 'cat',\n",
        " 4: 'deer',\n",
        " 5: 'dog',\n",
        " 6: 'frog',\n",
        " 7: 'horse',\n",
        " 8: 'ship',\n",
        " 9: 'truck',\n",
        "}"
      ],
      "metadata": {
        "id": "6ualSlCw1NSZ"
      },
      "execution_count": null,
      "outputs": []
    },
    {
      "cell_type": "code",
      "source": [
        "# Display some images from CIFAR-10\n",
        "fig, axes = plt.subplots(2, 3, figsize=(10, 6))\n",
        "for i, ax in enumerate(axes.flat):\n",
        "    ax.imshow(cifar10_x_train[i])                          #SCSC\n",
        "    ax.axis('off')\n",
        "    ax.set_title(cifar10_label_dict[cifar10_y_train[i][0]])\n",
        "plt.tight_layout()\n",
        "plt.show()"
      ],
      "metadata": {
        "colab": {
          "base_uri": "https://localhost:8080/"
        },
        "id": "cDdAVbtJ2qwF",
        "outputId": "4edc2e9e-9de7-40d4-dd88-6d2e98dc7bda"
      },
      "execution_count": null,
      "outputs": [
        {
          "output_type": "display_data",
          "data": {
            "text/plain": [
              "<Figure size 1000x600 with 6 Axes>"
            ],
            "image/png": "[encoded data removed]"
          },
          "metadata": {}
        }
      ]
    },
    {
      "cell_type": "code",
      "source": [
        "# Normalize the pixel values of cifar10_x_train by dividing by 255.0\n",
        "cifar10_x_train = cifar10_x_train / 255.0"
      ],
      "metadata": {
        "id": "KvoniuCIKml7"
      },
      "execution_count": null,
      "outputs": []
    },
    {
      "cell_type": "code",
      "source": [
        "# Flatten the cifar10_x_train images into a 2D array\n",
        "cifar10_x_train_flat = cifar10_x_train.reshape(-1, 3072)"
      ],
      "metadata": {
        "id": "fLzUfnnSKpw9"
      },
      "execution_count": null,
      "outputs": []
    },
    {
      "cell_type": "code",
      "source": [
        "# Create column names for the DataFrame based on pixel indices\n",
        "feat_cols = ['pixel' + str(i) for i in range(cifar10_x_train_flat.shape[1])]"
      ],
      "metadata": {
        "id": "lxODgbu6KsoL"
      },
      "execution_count": null,
      "outputs": []
    },
    {
      "cell_type": "code",
      "source": [
        "# Create a DataFrame 'df_cifar' from the flattened cifar10_x_train data with column names 'feat_cols'\n",
        "df_cifar = pd.DataFrame(cifar10_x_train_flat, columns=feat_cols)"
      ],
      "metadata": {
        "id": "lpTMsr20Kvjp"
      },
      "execution_count": null,
      "outputs": []
    },
    {
      "cell_type": "code",
      "source": [
        "# Add a 'label' column to df_cifar containing the corresponding cifar10_y_train labels\n",
        "df_cifar['label'] = cifar10_y_train"
      ],
      "metadata": {
        "id": "2cxqYhI4KxNL"
      },
      "execution_count": null,
      "outputs": []
    },
    {
      "cell_type": "code",
      "source": [
        "# Print the size (shape) of the DataFrame 'df_cifar'\n",
        "print('Size of the dataframe: {}'.format(df_cifar.shape))"
      ],
      "metadata": {
        "colab": {
          "base_uri": "https://localhost:8080/"
        },
        "id": "pamL7U7GK01v",
        "outputId": "10b0c28e-d299-4b8b-e0e3-129c027dc4b9"
      },
      "execution_count": null,
      "outputs": [
        {
          "output_type": "stream",
          "name": "stdout",
          "text": [
            "Size of the dataframe: (50000, 3073)\n"
          ]
        }
      ]
    },
    {
      "cell_type": "code",
      "source": [
        "# Display the first 10 rows of the DataFrame 'df_cifar'\n",
        "df_cifar.head(10)"
      ],
      "metadata": {
        "colab": {
          "base_uri": "https://localhost:8080/"
        },
        "id": "a-GUt7NcK3Zx",
        "outputId": "0d184ba0-d7ff-4d09-f2fd-590942ab21e5"
      },
      "execution_count": null,
      "outputs": [
        {
          "output_type": "execute_result",
          "data": {
            "text/plain": [
              "     pixel0    pixel1    pixel2    pixel3    pixel4    pixel5    pixel6  \\\n",
              "0  0.231373  0.243137  0.247059  0.168627  0.180392  0.176471  0.196078   \n",
              "1  0.603922  0.694118  0.733333  0.494118  0.537255  0.533333  0.411765   \n",
              "2  1.000000  1.000000  1.000000  0.992157  0.992157  0.992157  0.992157   \n",
              "3  0.109804  0.098039  0.039216  0.145098  0.133333  0.074510  0.149020   \n",
              "4  0.666667  0.705882  0.776471  0.658824  0.698039  0.768627  0.694118   \n",
              "5  0.623529  0.400000  0.396078  0.588235  0.356863  0.372549  0.600000   \n",
              "6  0.643137  0.807843  0.329412  0.411765  0.549020  0.239216  0.462745   \n",
              "7  0.109804  0.137255  0.152941  0.117647  0.133333  0.172549  0.129412   \n",
              "8  0.525490  0.729412  0.874510  0.513725  0.721569  0.862745  0.501961   \n",
              "9  0.490196  0.490196  0.454902  0.431373  0.396078  0.356863  0.400000   \n",
              "\n",
              "     pixel7    pixel8    pixel9  ...  pixel3063  pixel3064  pixel3065  \\\n",
              "0  0.188235  0.168627  0.266667  ...   0.847059   0.721569   0.549020   \n",
              "1  0.407843  0.372549  0.400000  ...   0.560784   0.521569   0.545098   \n",
              "2  0.992157  0.992157  0.992157  ...   0.305882   0.333333   0.325490   \n",
              "3  0.137255  0.078431  0.164706  ...   0.211765   0.184314   0.109804   \n",
              "4  0.725490  0.796078  0.717647  ...   0.294118   0.309804   0.321569   \n",
              "5  0.372549  0.380392  0.603922  ...   0.650980   0.184314   0.054902   \n",
              "6  0.580392  0.396078  0.505882  ...   0.368627   0.525490   0.113725   \n",
              "7  0.172549  0.184314  0.243137  ...   0.415686   0.564706   0.392157   \n",
              "8  0.713725  0.854902  0.521569  ...   0.121569   0.368627   0.533333   \n",
              "9  0.352941  0.325490  0.415686  ...   0.560784   0.458824   0.321569   \n",
              "\n",
              "   pixel3066  pixel3067  pixel3068  pixel3069  pixel3070  pixel3071  label  \n",
              "0   0.592157   0.462745   0.329412   0.482353   0.360784   0.282353      6  \n",
              "1   0.560784   0.525490   0.556863   0.560784   0.521569   0.564706      9  \n",
              "2   0.309804   0.333333   0.325490   0.313725   0.337255   0.329412      9  \n",
              "3   0.247059   0.219608   0.145098   0.282353   0.254902   0.180392      4  \n",
              "4   0.278431   0.294118   0.305882   0.286275   0.301961   0.313725      1  \n",
              "5   0.678431   0.200000   0.066667   0.713725   0.223529   0.074510      1  \n",
              "6   0.356863   0.521569   0.101961   0.478431   0.666667   0.172549      2  \n",
              "7   0.407843   0.556863   0.388235   0.396078   0.549020   0.376471      7  \n",
              "8   0.125490   0.368627   0.537255   0.125490   0.368627   0.541176      8  \n",
              "9   0.560784   0.454902   0.329412   0.564706   0.454902   0.337255      3  \n",
              "\n",
              "[10 rows x 3073 columns]"
            ],
            "text/html": [
              "\n",
              "  <div id=\"df-c602662c-e68d-4719-a5b0-560cf7e7fd87\" class=\"colab-df-container\">\n",
              "    <div>\n",
              "<style scoped>\n",
              "    .dataframe tbody tr th:only-of-type {\n",
              "        vertical-align: middle;\n",
              "    }\n",
              "\n",
              "    .dataframe tbody tr th {\n",
              "        vertical-align: top;\n",
              "    }\n",
              "\n",
              "    .dataframe thead th {\n",
              "        text-align: right;\n",
              "    }\n",
              "</style>\n",
              "<table border=\"1\" class=\"dataframe\">\n",
              "  <thead>\n",
              "    <tr style=\"text-align: right;\">\n",
              "      <th></th>\n",
              "      <th>pixel0</th>\n",
              "      <th>pixel1</th>\n",
              "      <th>pixel2</th>\n",
              "      <th>pixel3</th>\n",
              "      <th>pixel4</th>\n",
              "      <th>pixel5</th>\n",
              "      <th>pixel6</th>\n",
              "      <th>pixel7</th>\n",
              "      <th>pixel8</th>\n",
              "      <th>pixel9</th>\n",
              "      <th>...</th>\n",
              "      <th>pixel3063</th>\n",
              "      <th>pixel3064</th>\n",
              "      <th>pixel3065</th>\n",
              "      <th>pixel3066</th>\n",
              "      <th>pixel3067</th>\n",
              "      <th>pixel3068</th>\n",
              "      <th>pixel3069</th>\n",
              "      <th>pixel3070</th>\n",
              "      <th>pixel3071</th>\n",
              "      <th>label</th>\n",
              "    </tr>\n",
              "  </thead>\n",
              "  <tbody>\n",
              "    <tr>\n",
              "      <th>0</th>\n",
              "      <td>0.231373</td>\n",
              "      <td>0.243137</td>\n",
              "      <td>0.247059</td>\n",
              "      <td>0.168627</td>\n",
              "      <td>0.180392</td>\n",
              "      <td>0.176471</td>\n",
              "      <td>0.196078</td>\n",
              "      <td>0.188235</td>\n",
              "      <td>0.168627</td>\n",
              "      <td>0.266667</td>\n",
              "      <td>...</td>\n",
              "      <td>0.847059</td>\n",
              "      <td>0.721569</td>\n",
              "      <td>0.549020</td>\n",
              "      <td>0.592157</td>\n",
              "      <td>0.462745</td>\n",
              "      <td>0.329412</td>\n",
              "      <td>0.482353</td>\n",
              "      <td>0.360784</td>\n",
              "      <td>0.282353</td>\n",
              "      <td>6</td>\n",
              "    </tr>\n",
              "    <tr>\n",
              "      <th>1</th>\n",
              "      <td>0.603922</td>\n",
              "      <td>0.694118</td>\n",
              "      <td>0.733333</td>\n",
              "      <td>0.494118</td>\n",
              "      <td>0.537255</td>\n",
              "      <td>0.533333</td>\n",
              "      <td>0.411765</td>\n",
              "      <td>0.407843</td>\n",
              "      <td>0.372549</td>\n",
              "      <td>0.400000</td>\n",
              "      <td>...</td>\n",
              "      <td>0.560784</td>\n",
              "      <td>0.521569</td>\n",
              "      <td>0.545098</td>\n",
              "      <td>0.560784</td>\n",
              "      <td>0.525490</td>\n",
              "      <td>0.556863</td>\n",
              "      <td>0.560784</td>\n",
              "      <td>0.521569</td>\n",
              "      <td>0.564706</td>\n",
              "      <td>9</td>\n",
              "    </tr>\n",
              "    <tr>\n",
              "      <th>2</th>\n",
              "      <td>1.000000</td>\n",
              "      <td>1.000000</td>\n",
              "      <td>1.000000</td>\n",
              "      <td>0.992157</td>\n",
              "      <td>0.992157</td>\n",
              "      <td>0.992157</td>\n",
              "      <td>0.992157</td>\n",
              "      <td>0.992157</td>\n",
              "      <td>0.992157</td>\n",
              "      <td>0.992157</td>\n",
              "      <td>...</td>\n",
              "      <td>0.305882</td>\n",
              "      <td>0.333333</td>\n",
              "      <td>0.325490</td>\n",
              "      <td>0.309804</td>\n",
              "      <td>0.333333</td>\n",
              "      <td>0.325490</td>\n",
              "      <td>0.313725</td>\n",
              "      <td>0.337255</td>\n",
              "      <td>0.329412</td>\n",
              "      <td>9</td>\n",
              "    </tr>\n",
              "    <tr>\n",
              "      <th>3</th>\n",
              "      <td>0.109804</td>\n",
              "      <td>0.098039</td>\n",
              "      <td>0.039216</td>\n",
              "      <td>0.145098</td>\n",
              "      <td>0.133333</td>\n",
              "      <td>0.074510</td>\n",
              "      <td>0.149020</td>\n",
              "      <td>0.137255</td>\n",
              "      <td>0.078431</td>\n",
              "      <td>0.164706</td>\n",
              "      <td>...</td>\n",
              "      <td>0.211765</td>\n",
              "      <td>0.184314</td>\n",
              "      <td>0.109804</td>\n",
              "      <td>0.247059</td>\n",
              "      <td>0.219608</td>\n",
              "      <td>0.145098</td>\n",
              "      <td>0.282353</td>\n",
              "      <td>0.254902</td>\n",
              "      <td>0.180392</td>\n",
              "      <td>4</td>\n",
              "    </tr>\n",
              "    <tr>\n",
              "      <th>4</th>\n",
              "      <td>0.666667</td>\n",
              "      <td>0.705882</td>\n",
              "      <td>0.776471</td>\n",
              "      <td>0.658824</td>\n",
              "      <td>0.698039</td>\n",
              "      <td>0.768627</td>\n",
              "      <td>0.694118</td>\n",
              "      <td>0.725490</td>\n",
              "      <td>0.796078</td>\n",
              "      <td>0.717647</td>\n",
              "      <td>...</td>\n",
              "      <td>0.294118</td>\n",
              "      <td>0.309804</td>\n",
              "      <td>0.321569</td>\n",
              "      <td>0.278431</td>\n",
              "      <td>0.294118</td>\n",
              "      <td>0.305882</td>\n",
              "      <td>0.286275</td>\n",
              "      <td>0.301961</td>\n",
              "      <td>0.313725</td>\n",
              "      <td>1</td>\n",
              "    </tr>\n",
              "    <tr>\n",
              "      <th>5</th>\n",
              "      <td>0.623529</td>\n",
              "      <td>0.400000</td>\n",
              "      <td>0.396078</td>\n",
              "      <td>0.588235</td>\n",
              "      <td>0.356863</td>\n",
              "      <td>0.372549</td>\n",
              "      <td>0.600000</td>\n",
              "      <td>0.372549</td>\n",
              "      <td>0.380392</td>\n",
              "      <td>0.603922</td>\n",
              "      <td>...</td>\n",
              "      <td>0.650980</td>\n",
              "      <td>0.184314</td>\n",
              "      <td>0.054902</td>\n",
              "      <td>0.678431</td>\n",
              "      <td>0.200000</td>\n",
              "      <td>0.066667</td>\n",
              "      <td>0.713725</td>\n",
              "      <td>0.223529</td>\n",
              "      <td>0.074510</td>\n",
              "      <td>1</td>\n",
              "    </tr>\n",
              "    <tr>\n",
              "      <th>6</th>\n",
              "      <td>0.643137</td>\n",
              "      <td>0.807843</td>\n",
              "      <td>0.329412</td>\n",
              "      <td>0.411765</td>\n",
              "      <td>0.549020</td>\n",
              "      <td>0.239216</td>\n",
              "      <td>0.462745</td>\n",
              "      <td>0.580392</td>\n",
              "      <td>0.396078</td>\n",
              "      <td>0.505882</td>\n",
              "      <td>...</td>\n",
              "      <td>0.368627</td>\n",
              "      <td>0.525490</td>\n",
              "      <td>0.113725</td>\n",
              "      <td>0.356863</td>\n",
              "      <td>0.521569</td>\n",
              "      <td>0.101961</td>\n",
              "      <td>0.478431</td>\n",
              "      <td>0.666667</td>\n",
              "      <td>0.172549</td>\n",
              "      <td>2</td>\n",
              "    </tr>\n",
              "    <tr>\n",
              "      <th>7</th>\n",
              "      <td>0.109804</td>\n",
              "      <td>0.137255</td>\n",
              "      <td>0.152941</td>\n",
              "      <td>0.117647</td>\n",
              "      <td>0.133333</td>\n",
              "      <td>0.172549</td>\n",
              "      <td>0.129412</td>\n",
              "      <td>0.172549</td>\n",
              "      <td>0.184314</td>\n",
              "      <td>0.243137</td>\n",
              "      <td>...</td>\n",
              "      <td>0.415686</td>\n",
              "      <td>0.564706</td>\n",
              "      <td>0.392157</td>\n",
              "      <td>0.407843</td>\n",
              "      <td>0.556863</td>\n",
              "      <td>0.388235</td>\n",
              "      <td>0.396078</td>\n",
              "      <td>0.549020</td>\n",
              "      <td>0.376471</td>\n",
              "      <td>7</td>\n",
              "    </tr>\n",
              "    <tr>\n",
              "      <th>8</th>\n",
              "      <td>0.525490</td>\n",
              "      <td>0.729412</td>\n",
              "      <td>0.874510</td>\n",
              "      <td>0.513725</td>\n",
              "      <td>0.721569</td>\n",
              "      <td>0.862745</td>\n",
              "      <td>0.501961</td>\n",
              "      <td>0.713725</td>\n",
              "      <td>0.854902</td>\n",
              "      <td>0.521569</td>\n",
              "      <td>...</td>\n",
              "      <td>0.121569</td>\n",
              "      <td>0.368627</td>\n",
              "      <td>0.533333</td>\n",
              "      <td>0.125490</td>\n",
              "      <td>0.368627</td>\n",
              "      <td>0.537255</td>\n",
              "      <td>0.125490</td>\n",
              "      <td>0.368627</td>\n",
              "      <td>0.541176</td>\n",
              "      <td>8</td>\n",
              "    </tr>\n",
              "    <tr>\n",
              "      <th>9</th>\n",
              "      <td>0.490196</td>\n",
              "      <td>0.490196</td>\n",
              "      <td>0.454902</td>\n",
              "      <td>0.431373</td>\n",
              "      <td>0.396078</td>\n",
              "      <td>0.356863</td>\n",
              "      <td>0.400000</td>\n",
              "      <td>0.352941</td>\n",
              "      <td>0.325490</td>\n",
              "      <td>0.415686</td>\n",
              "      <td>...</td>\n",
              "      <td>0.560784</td>\n",
              "      <td>0.458824</td>\n",
              "      <td>0.321569</td>\n",
              "      <td>0.560784</td>\n",
              "      <td>0.454902</td>\n",
              "      <td>0.329412</td>\n",
              "      <td>0.564706</td>\n",
              "      <td>0.454902</td>\n",
              "      <td>0.337255</td>\n",
              "      <td>3</td>\n",
              "    </tr>\n",
              "  </tbody>\n",
              "</table>\n",
              "<p>10 rows × 3073 columns</p>\n",
              "</div>\n",
              "    <div class=\"colab-df-buttons\">\n",
              "\n",
              "  <div class=\"colab-df-container\">\n",
              "    <button class=\"colab-df-convert\" onclick=\"convertToInteractive('df-c602662c-e68d-4719-a5b0-560cf7e7fd87')\"\n",
              "            title=\"Convert this dataframe to an interactive table.\"\n",
              "            style=\"display:none;\">\n",
              "\n",
              "  <svg xmlns=\"http://www.w3.org/2000/svg\" height=\"24px\" viewBox=\"0 -960 960 960\">\n",
              "    <path d=\"M120-120v-720h720v720H120Zm60-500h600v-160H180v160Zm220 220h160v-160H400v160Zm0 220h160v-160H400v160ZM180-400h160v-160H180v160Zm440 0h160v-160H620v160ZM180-180h160v-160H180v160Zm440 0h160v-160H620v160Z\"/>\n",
              "  </svg>\n",
              "    </button>\n",
              "\n",
              "  <style>\n",
              "    .colab-df-container {\n",
              "      display:flex;\n",
              "      gap: 12px;\n",
              "    }\n",
              "\n",
              "    .colab-df-convert {\n",
              "      background-color: #E8F0FE;\n",
              "      border: none;\n",
              "      border-radius: 50%;\n",
              "      cursor: pointer;\n",
              "      display: none;\n",
              "      fill: #1967D2;\n",
              "      height: 32px;\n",
              "      padding: 0 0 0 0;\n",
              "      width: 32px;\n",
              "    }\n",
              "\n",
              "    .colab-df-convert:hover {\n",
              "      background-color: #E2EBFA;\n",
              "      box-shadow: 0px 1px 2px rgba(60, 64, 67, 0.3), 0px 1px 3px 1px rgba(60, 64, 67, 0.15);\n",
              "      fill: #174EA6;\n",
              "    }\n",
              "\n",
              "    .colab-df-buttons div {\n",
              "      margin-bottom: 4px;\n",
              "    }\n",
              "\n",
              "    [theme=dark] .colab-df-convert {\n",
              "      background-color: #3B4455;\n",
              "      fill: #D2E3FC;\n",
              "    }\n",
              "\n",
              "    [theme=dark] .colab-df-convert:hover {\n",
              "      background-color: #434B5C;\n",
              "      box-shadow: 0px 1px 3px 1px rgba(0, 0, 0, 0.15);\n",
              "      filter: drop-shadow(0px 1px 2px rgba(0, 0, 0, 0.3));\n",
              "      fill: #FFFFFF;\n",
              "    }\n",
              "  </style>\n",
              "\n",
              "    <script>\n",
              "      const buttonEl =\n",
              "        document.querySelector('#df-c602662c-e68d-4719-a5b0-560cf7e7fd87 button.colab-df-convert');\n",
              "      buttonEl.style.display =\n",
              "        google.colab.kernel.accessAllowed ? 'block' : 'none';\n",
              "\n",
              "      async function convertToInteractive(key) {\n",
              "        const element = document.querySelector('#df-c602662c-e68d-4719-a5b0-560cf7e7fd87');\n",
              "        const dataTable =\n",
              "          await google.colab.kernel.invokeFunction('convertToInteractive',\n",
              "                                                    [key], {});\n",
              "        if (!dataTable) return;\n",
              "\n",
              "        const docLinkHtml = 'Like what you see? Visit the ' +\n",
              "          '<a target=\"_blank\" href=https://colab.research.google.com/notebooks/data_table.ipynb>data table notebook</a>'\n",
              "          + ' to learn more about interactive tables.';\n",
              "        element.innerHTML = '';\n",
              "        dataTable['output_type'] = 'display_data';\n",
              "        await google.colab.output.renderOutput(dataTable, element);\n",
              "        const docLink = document.createElement('div');\n",
              "        docLink.innerHTML = docLinkHtml;\n",
              "        element.appendChild(docLink);\n",
              "      }\n",
              "    </script>\n",
              "  </div>\n",
              "\n",
              "\n",
              "<div id=\"df-19dd83f8-849b-44ae-9c1c-802206ece818\">\n",
              "  <button class=\"colab-df-quickchart\" onclick=\"quickchart('df-19dd83f8-849b-44ae-9c1c-802206ece818')\"\n",
              "            title=\"Suggest charts\"\n",
              "            style=\"display:none;\">\n",
              "\n",
              "<svg xmlns=\"http://www.w3.org/2000/svg\" height=\"24px\"viewBox=\"0 0 24 24\"\n",
              "     width=\"24px\">\n",
              "    <g>\n",
              "        <path d=\"M19 3H5c-1.1 0-2 .9-2 2v14c0 1.1.9 2 2 2h14c1.1 0 2-.9 2-2V5c0-1.1-.9-2-2-2zM9 17H7v-7h2v7zm4 0h-2V7h2v10zm4 0h-2v-4h2v4z\"/>\n",
              "    </g>\n",
              "</svg>\n",
              "  </button>\n",
              "\n",
              "<style>\n",
              "  .colab-df-quickchart {\n",
              "      --bg-color: #E8F0FE;\n",
              "      --fill-color: #1967D2;\n",
              "      --hover-bg-color: #E2EBFA;\n",
              "      --hover-fill-color: #174EA6;\n",
              "      --disabled-fill-color: #AAA;\n",
              "      --disabled-bg-color: #DDD;\n",
              "  }\n",
              "\n",
              "  [theme=dark] .colab-df-quickchart {\n",
              "      --bg-color: #3B4455;\n",
              "      --fill-color: #D2E3FC;\n",
              "      --hover-bg-color: #434B5C;\n",
              "      --hover-fill-color: #FFFFFF;\n",
              "      --disabled-bg-color: #3B4455;\n",
              "      --disabled-fill-color: #666;\n",
              "  }\n",
              "\n",
              "  .colab-df-quickchart {\n",
              "    background-color: var(--bg-color);\n",
              "    border: none;\n",
              "    border-radius: 50%;\n",
              "    cursor: pointer;\n",
              "    display: none;\n",
              "    fill: var(--fill-color);\n",
              "    height: 32px;\n",
              "    padding: 0;\n",
              "    width: 32px;\n",
              "  }\n",
              "\n",
              "  .colab-df-quickchart:hover {\n",
              "    background-color: var(--hover-bg-color);\n",
              "    box-shadow: 0 1px 2px rgba(60, 64, 67, 0.3), 0 1px 3px 1px rgba(60, 64, 67, 0.15);\n",
              "    fill: var(--button-hover-fill-color);\n",
              "  }\n",
              "\n",
              "  .colab-df-quickchart-complete:disabled,\n",
              "  .colab-df-quickchart-complete:disabled:hover {\n",
              "    background-color: var(--disabled-bg-color);\n",
              "    fill: var(--disabled-fill-color);\n",
              "    box-shadow: none;\n",
              "  }\n",
              "\n",
              "  .colab-df-spinner {\n",
              "    border: 2px solid var(--fill-color);\n",
              "    border-color: transparent;\n",
              "    border-bottom-color: var(--fill-color);\n",
              "    animation:\n",
              "      spin 1s steps(1) infinite;\n",
              "  }\n",
              "\n",
              "  @keyframes spin {\n",
              "    0% {\n",
              "      border-color: transparent;\n",
              "      border-bottom-color: var(--fill-color);\n",
              "      border-left-color: var(--fill-color);\n",
              "    }\n",
              "    20% {\n",
              "      border-color: transparent;\n",
              "      border-left-color: var(--fill-color);\n",
              "      border-top-color: var(--fill-color);\n",
              "    }\n",
              "    30% {\n",
              "      border-color: transparent;\n",
              "      border-left-color: var(--fill-color);\n",
              "      border-top-color: var(--fill-color);\n",
              "      border-right-color: var(--fill-color);\n",
              "    }\n",
              "    40% {\n",
              "      border-color: transparent;\n",
              "      border-right-color: var(--fill-color);\n",
              "      border-top-color: var(--fill-color);\n",
              "    }\n",
              "    60% {\n",
              "      border-color: transparent;\n",
              "      border-right-color: var(--fill-color);\n",
              "    }\n",
              "    80% {\n",
              "      border-color: transparent;\n",
              "      border-right-color: var(--fill-color);\n",
              "      border-bottom-color: var(--fill-color);\n",
              "    }\n",
              "    90% {\n",
              "      border-color: transparent;\n",
              "      border-bottom-color: var(--fill-color);\n",
              "    }\n",
              "  }\n",
              "</style>\n",
              "\n",
              "  <script>\n",
              "    async function quickchart(key) {\n",
              "      const quickchartButtonEl =\n",
              "        document.querySelector('#' + key + ' button');\n",
              "      quickchartButtonEl.disabled = true;  // To prevent multiple clicks.\n",
              "      quickchartButtonEl.classList.add('colab-df-spinner');\n",
              "      try {\n",
              "        const charts = await google.colab.kernel.invokeFunction(\n",
              "            'suggestCharts', [key], {});\n",
              "      } catch (error) {\n",
              "        console.error('Error during call to suggestCharts:', error);\n",
              "      }\n",
              "      quickchartButtonEl.classList.remove('colab-df-spinner');\n",
              "      quickchartButtonEl.classList.add('colab-df-quickchart-complete');\n",
              "    }\n",
              "    (() => {\n",
              "      let quickchartButtonEl =\n",
              "        document.querySelector('#df-19dd83f8-849b-44ae-9c1c-802206ece818 button');\n",
              "      quickchartButtonEl.style.display =\n",
              "        google.colab.kernel.accessAllowed ? 'block' : 'none';\n",
              "    })();\n",
              "  </script>\n",
              "</div>\n",
              "\n",
              "    </div>\n",
              "  </div>\n"
            ],
            "application/vnd.google.colaboratory.intrinsic+json": {
              "type": "dataframe",
              "variable_name": "df_cifar"
            }
          },
          "metadata": {},
          "execution_count": 27
        }
      ]
    },
    {
      "cell_type": "markdown",
      "source": [
        "# Part 1"
      ],
      "metadata": {
        "id": "xuooGuPFlvGH"
      }
    },
    {
      "cell_type": "markdown",
      "source": [
        "### Task 1"
      ],
      "metadata": {
        "id": "5CAdhpDN68kF"
      }
    },
    {
      "cell_type": "markdown",
      "source": [
        "#### Breast Cancer Data Visualization"
      ],
      "metadata": {
        "id": "e-VuwqAE6-wX"
      }
    },
    {
      "cell_type": "code",
      "source": [
        "# Set the style and size of plots\n",
        "sns.set_style('whitegrid')\n",
        "plt.figure(figsize=(10, 6))    #scsc\n",
        "\n",
        "# Plot histograms for selected features\n",
        "sns.histplot(data=breast_cancer_dataset, x='mean radius', hue='label', kde=True, alpha=0.5, bins=30, label='Mean Radius')\n",
        "sns.histplot(data=breast_cancer_dataset, x='mean texture', hue='label', kde=True, alpha=0.5, bins=30, label='Mean Texture')\n",
        "sns.histplot(data=breast_cancer_dataset, x='mean perimeter', hue='label', kde=True, alpha=0.5, bins=30, label='Mean Perimeter')\n",
        "\n",
        "# Set plot labels and title\n",
        "plt.xlabel('Feature Value')\n",
        "plt.ylabel('Frequency')\n",
        "plt.title('Distribution of Features in Breast Cancer Dataset')\n",
        "plt.legend()\n",
        "plt.show()\n"
      ],
      "metadata": {
        "id": "Wrd-toLp6aYJ",
        "colab": {
          "base_uri": "https://localhost:8080/"
        },
        "outputId": "9e58d37c-ada6-4104-e48c-c151833d6c89"
      },
      "execution_count": null,
      "outputs": [
        {
          "output_type": "display_data",
          "data": {
            "text/plain": [
              "<Figure size 1000x600 with 1 Axes>"
            ],
            "image/png": "[encoded data removed]"
          },
          "metadata": {}
        }
      ]
    },
    {
      "cell_type": "markdown",
      "source": [
        "#### CIFAR-10 Data Visualization"
      ],
      "metadata": {
        "id": "Wy66Jcvg7Mjn"
      }
    },
    {
      "cell_type": "code",
      "source": [
        "# Display some images from CIFAR-10 x train\n",
        "fig, axes = plt.subplots(2, 3, figsize=(10, 6))\n",
        "for i, ax in enumerate(axes.flat):\n",
        "    ax.imshow(cifar10_x_train[i])     #scsc\n",
        "    ax.axis('off')\n",
        "    ax.set_title(cifar10_label_dict[cifar10_y_train[i][0]])\n",
        "plt.tight_layout()\n",
        "plt.show()"
      ],
      "metadata": {
        "id": "GKx3ElA07O1F",
        "colab": {
          "base_uri": "https://localhost:8080/"
        },
        "outputId": "f4da43ec-0029-40ad-b5f4-59330c23559e"
      },
      "execution_count": null,
      "outputs": [
        {
          "output_type": "display_data",
          "data": {
            "text/plain": [
              "<Figure size 1000x600 with 6 Axes>"
            ],
            "image/png": "[encoded data removed]"
          },
          "metadata": {}
        }
      ]
    },
    {
      "cell_type": "code",
      "source": [
        "# Display some images from CIFAR-10 x test\n",
        "fig, axes = plt.subplots(2, 3, figsize=(10, 6))    #scsc\n",
        "for i, ax in enumerate(axes.flat):\n",
        "    ax.imshow(cifar10_x_test[i])\n",
        "    ax.axis('off')\n",
        "    ax.set_title(cifar10_label_dict[cifar10_y_test[i][0]])\n",
        "plt.tight_layout()\n",
        "plt.show()"
      ],
      "metadata": {
        "id": "d6hgxFcs_VT9",
        "colab": {
          "base_uri": "https://localhost:8080/"
        },
        "outputId": "af48c28a-7b35-4967-99fa-72bc96481783"
      },
      "execution_count": null,
      "outputs": [
        {
          "output_type": "display_data",
          "data": {
            "text/plain": [
              "<Figure size 1000x600 with 6 Axes>"
            ],
            "image/png": "[encoded data removed]"
          },
          "metadata": {}
        }
      ]
    },
    {
      "cell_type": "markdown",
      "source": [],
      "metadata": {
        "id": "4TdIFlU-_YJF"
      }
    },
    {
      "cell_type": "markdown",
      "source": [
        "### Task 2"
      ],
      "metadata": {
        "id": "IQ0Ys3DO_Zs0"
      }
    },
    {
      "cell_type": "markdown",
      "source": [
        "#### ML Algorithm For Breast Cancer"
      ],
      "metadata": {
        "id": "PHOMy4U2_eFc"
      }
    },
    {
      "cell_type": "code",
      "source": [
        "from sklearn.linear_model import LogisticRegression    #scsc\n",
        "\n",
        "# Create a logistic regression model\n",
        "model = LogisticRegression()\n",
        "\n",
        "# Start recording the time before training\n",
        "start_time = time.time()\n",
        "\n",
        "# Fit the model to the training data\n",
        "model.fit(x_train, y_train)\n",
        "\n",
        "# Calculate the training time\n",
        "training_time = time.time() - start_time\n",
        "\n",
        "# Evaluate the model on the test data\n",
        "score = model.score(x_test, y_test)\n",
        "\n",
        "print(f\"Brest cancer model training time: {training_time:.2f} seconds\")\n",
        "print(\"The accuracy of the model is:\", score)"
      ],
      "metadata": {
        "id": "fugZep_W_c29",
        "colab": {
          "base_uri": "https://localhost:8080/"
        },
        "outputId": "91d44b5b-45d8-45a4-ada2-14e202433c0e"
      },
      "execution_count": null,
      "outputs": [
        {
          "output_type": "stream",
          "name": "stdout",
          "text": [
            "Brest cancer model training time: 0.08 seconds\n",
            "The accuracy of the model is: 0.9736842105263158\n"
          ]
        }
      ]
    },
    {
      "cell_type": "markdown",
      "source": [
        "#### CIFAR-10 Algorithm"
      ],
      "metadata": {
        "id": "eVXS9Ob7G-Mw"
      }
    },
    {
      "cell_type": "code",
      "source": [
        "# Importing necessary libraries\n",
        "from tensorflow.keras.models import Sequential                 #scsc\n",
        "from tensorflow.keras.layers import Conv2D, MaxPooling2D, Flatten, Dense, Dropout"
      ],
      "metadata": {
        "id": "rOI-8pGwHs_a"
      },
      "execution_count": null,
      "outputs": []
    },
    {
      "cell_type": "code",
      "source": [
        "# Create a sequential model\n",
        "model = Sequential()                    #scsc"
      ],
      "metadata": {
        "id": "oJ9o1LLmHtlZ"
      },
      "execution_count": null,
      "outputs": []
    },
    {
      "cell_type": "code",
      "source": [
        "# Add convolutional layers\n",
        "model.add(Conv2D(32, (3, 3), activation='relu', input_shape=(32, 32, 3)))\n",
        "model.add(MaxPooling2D((2, 2)))\n",
        "model.add(Conv2D(64, (3, 3), activation='relu'))              #scsc\n",
        "model.add(MaxPooling2D((2, 2)))\n",
        "model.add(Conv2D(128, (3, 3), activation='relu'))"
      ],
      "metadata": {
        "id": "v36hscZQHxRw"
      },
      "execution_count": null,
      "outputs": []
    },
    {
      "cell_type": "code",
      "source": [
        "# Add dense layers\n",
        "model.add(Flatten())\n",
        "model.add(Dense(128, activation='relu'))          #scsc\n",
        "model.add(Dropout(0.5))\n",
        "model.add(Dense(10, activation='softmax'))"
      ],
      "metadata": {
        "id": "wNMYrCaWHyAp"
      },
      "execution_count": null,
      "outputs": []
    },
    {
      "cell_type": "code",
      "source": [
        "# Compile the model\n",
        "model.compile(optimizer='adam', loss='sparse_categorical_crossentropy', metrics=['accuracy'])      #scsc"
      ],
      "metadata": {
        "id": "I3eKtC4iH2RK"
      },
      "execution_count": null,
      "outputs": []
    },
    {
      "cell_type": "code",
      "source": [
        "# Start recording the time before training\n",
        "start_time = time.time()\n",
        "                                                             # scsc\n",
        "# Train the model\n",
        "model.fit(cifar10_x_train, cifar10_y_train, epochs=5, batch_size=64, validation_data=(cifar10_x_test, cifar10_y_test))\n",
        "\n",
        "# Calculate the training time\n",
        "training_time = time.time() - start_time"
      ],
      "metadata": {
        "colab": {
          "base_uri": "https://localhost:8080/"
        },
        "id": "d5dAliCpH5ds",
        "outputId": "81eeb101-20e1-41d3-89e8-4b0e1b3f4a2c"
      },
      "execution_count": null,
      "outputs": [
        {
          "output_type": "stream",
          "name": "stdout",
          "text": [
            "Epoch 1/5\n",
            "782/782 [==============================] - 84s 106ms/step - loss: 1.6666 - accuracy: 0.3870 - val_loss: 166.3283 - val_accuracy: 0.4023\n",
            "Epoch 2/5\n",
            "782/782 [==============================] - 75s 95ms/step - loss: 1.3322 - accuracy: 0.5248 - val_loss: 217.7148 - val_accuracy: 0.4012\n",
            "Epoch 3/5\n",
            "782/782 [==============================] - 76s 97ms/step - loss: 1.1744 - accuracy: 0.5857 - val_loss: 250.5486 - val_accuracy: 0.4013\n",
            "Epoch 4/5\n",
            "782/782 [==============================] - 75s 96ms/step - loss: 1.0575 - accuracy: 0.6303 - val_loss: 235.2311 - val_accuracy: 0.4171\n",
            "Epoch 5/5\n",
            "782/782 [==============================] - 76s 97ms/step - loss: 0.9698 - accuracy: 0.6642 - val_loss: 174.5882 - val_accuracy: 0.4869\n"
          ]
        }
      ]
    },
    {
      "cell_type": "code",
      "source": [
        "# Calcuate the time to get how many minutes takes to train the model without using PCA           #scsc\n",
        "training_time = (time.time() - start_time)/60\n",
        "print(f\"Brest cancer model training time: {training_time:.2f} mins\")"
      ],
      "metadata": {
        "id": "uHBvYA6eH_uc",
        "colab": {
          "base_uri": "https://localhost:8080/"
        },
        "outputId": "c042d3d1-a702-4084-8dcb-9e5d44cf40ba"
      },
      "execution_count": null,
      "outputs": [
        {
          "output_type": "stream",
          "name": "stdout",
          "text": [
            "Brest cancer model training time: 7.51 mins\n"
          ]
        }
      ]
    },
    {
      "cell_type": "markdown",
      "source": [
        "# Part 2"
      ],
      "metadata": {
        "id": "9JRQsplTBoHl"
      }
    },
    {
      "cell_type": "markdown",
      "source": [
        "### Task 1"
      ],
      "metadata": {
        "id": "1C7P5iO8Byk9"
      }
    },
    {
      "cell_type": "markdown",
      "source": [
        "#### Breast Cancer"
      ],
      "metadata": {
        "id": "NXF0hIMOCLLJ"
      }
    },
    {
      "cell_type": "markdown",
      "source": [
        "##### Case 1: Number of components will be set to 2"
      ],
      "metadata": {
        "id": "EsiTO7JjB0t4"
      }
    },
    {
      "cell_type": "code",
      "source": [
        "# Initialize PCA with 2 components\n",
        "pca_breast_comp_2 = PCA(n_components=2)\n",
        "\n",
        "# Fit and transform the original data 'x' using PCA with 2 components\n",
        "# This reduces the dimensions of the data to 2 principal components\n",
        "pca_breast_2_comp = pca_breast_comp_2.fit(x)\n",
        "\n",
        "# Transform the data into a NumPy array\n",
        "pca_breast_2_comp_transform = pca_breast_2_comp.transform(x)"
      ],
      "metadata": {
        "id": "VVoQ1C1GBqQB"
      },
      "execution_count": null,
      "outputs": []
    },
    {
      "cell_type": "code",
      "source": [
        "# Create a DataFrame from the PCA-transformed data 'pca_breast_2_comp'\n",
        "pca_breast_Df_2_comp = pd.DataFrame(data=pca_breast_2_comp_transform, columns=['pca 1', 'pca 2'])"
      ],
      "metadata": {
        "id": "-7F4uF6JCkdQ"
      },
      "execution_count": null,
      "outputs": []
    },
    {
      "cell_type": "code",
      "source": [
        "# Display the first 10 rows of the new pca_breast_DF\n",
        "pca_breast_Df_2_comp.head(10)"
      ],
      "metadata": {
        "id": "WyvusiGSE2Iv",
        "colab": {
          "base_uri": "https://localhost:8080/",
          "height": 363
        },
        "outputId": "1422a4a3-d0a8-4938-892b-16fa4a322968"
      },
      "execution_count": null,
      "outputs": [
        {
          "output_type": "execute_result",
          "data": {
            "text/plain": [
              "      pca 1      pca 2\n",
              "0  9.192837   1.948583\n",
              "1  2.387802  -3.768172\n",
              "2  5.733896  -1.075174\n",
              "3  7.122953  10.275589\n",
              "4  3.935302  -1.948072\n",
              "5  2.380247   3.949929\n",
              "6  2.238883  -2.690031\n",
              "7  2.143299   2.340244\n",
              "8  3.174924   3.391813\n",
              "9  6.351747   7.727174"
            ],
            "text/html": [
              "\n",
              "  <div id=\"df-c108ddb9-f419-4cf1-ac57-64d41560bee9\" class=\"colab-df-container\">\n",
              "    <div>\n",
              "<style scoped>\n",
              "    .dataframe tbody tr th:only-of-type {\n",
              "        vertical-align: middle;\n",
              "    }\n",
              "\n",
              "    .dataframe tbody tr th {\n",
              "        vertical-align: top;\n",
              "    }\n",
              "\n",
              "    .dataframe thead th {\n",
              "        text-align: right;\n",
              "    }\n",
              "</style>\n",
              "<table border=\"1\" class=\"dataframe\">\n",
              "  <thead>\n",
              "    <tr style=\"text-align: right;\">\n",
              "      <th></th>\n",
              "      <th>pca 1</th>\n",
              "      <th>pca 2</th>\n",
              "    </tr>\n",
              "  </thead>\n",
              "  <tbody>\n",
              "    <tr>\n",
              "      <th>0</th>\n",
              "      <td>9.192837</td>\n",
              "      <td>1.948583</td>\n",
              "    </tr>\n",
              "    <tr>\n",
              "      <th>1</th>\n",
              "      <td>2.387802</td>\n",
              "      <td>-3.768172</td>\n",
              "    </tr>\n",
              "    <tr>\n",
              "      <th>2</th>\n",
              "      <td>5.733896</td>\n",
              "      <td>-1.075174</td>\n",
              "    </tr>\n",
              "    <tr>\n",
              "      <th>3</th>\n",
              "      <td>7.122953</td>\n",
              "      <td>10.275589</td>\n",
              "    </tr>\n",
              "    <tr>\n",
              "      <th>4</th>\n",
              "      <td>3.935302</td>\n",
              "      <td>-1.948072</td>\n",
              "    </tr>\n",
              "    <tr>\n",
              "      <th>5</th>\n",
              "      <td>2.380247</td>\n",
              "      <td>3.949929</td>\n",
              "    </tr>\n",
              "    <tr>\n",
              "      <th>6</th>\n",
              "      <td>2.238883</td>\n",
              "      <td>-2.690031</td>\n",
              "    </tr>\n",
              "    <tr>\n",
              "      <th>7</th>\n",
              "      <td>2.143299</td>\n",
              "      <td>2.340244</td>\n",
              "    </tr>\n",
              "    <tr>\n",
              "      <th>8</th>\n",
              "      <td>3.174924</td>\n",
              "      <td>3.391813</td>\n",
              "    </tr>\n",
              "    <tr>\n",
              "      <th>9</th>\n",
              "      <td>6.351747</td>\n",
              "      <td>7.727174</td>\n",
              "    </tr>\n",
              "  </tbody>\n",
              "</table>\n",
              "</div>\n",
              "    <div class=\"colab-df-buttons\">\n",
              "\n",
              "  <div class=\"colab-df-container\">\n",
              "    <button class=\"colab-df-convert\" onclick=\"convertToInteractive('df-c108ddb9-f419-4cf1-ac57-64d41560bee9')\"\n",
              "            title=\"Convert this dataframe to an interactive table.\"\n",
              "            style=\"display:none;\">\n",
              "\n",
              "  <svg xmlns=\"http://www.w3.org/2000/svg\" height=\"24px\" viewBox=\"0 -960 960 960\">\n",
              "    <path d=\"M120-120v-720h720v720H120Zm60-500h600v-160H180v160Zm220 220h160v-160H400v160Zm0 220h160v-160H400v160ZM180-400h160v-160H180v160Zm440 0h160v-160H620v160ZM180-180h160v-160H180v160Zm440 0h160v-160H620v160Z\"/>\n",
              "  </svg>\n",
              "    </button>\n",
              "\n",
              "  <style>\n",
              "    .colab-df-container {\n",
              "      display:flex;\n",
              "      gap: 12px;\n",
              "    }\n",
              "\n",
              "    .colab-df-convert {\n",
              "      background-color: #E8F0FE;\n",
              "      border: none;\n",
              "      border-radius: 50%;\n",
              "      cursor: pointer;\n",
              "      display: none;\n",
              "      fill: #1967D2;\n",
              "      height: 32px;\n",
              "      padding: 0 0 0 0;\n",
              "      width: 32px;\n",
              "    }\n",
              "\n",
              "    .colab-df-convert:hover {\n",
              "      background-color: #E2EBFA;\n",
              "      box-shadow: 0px 1px 2px rgba(60, 64, 67, 0.3), 0px 1px 3px 1px rgba(60, 64, 67, 0.15);\n",
              "      fill: #174EA6;\n",
              "    }\n",
              "\n",
              "    .colab-df-buttons div {\n",
              "      margin-bottom: 4px;\n",
              "    }\n",
              "\n",
              "    [theme=dark] .colab-df-convert {\n",
              "      background-color: #3B4455;\n",
              "      fill: #D2E3FC;\n",
              "    }\n",
              "\n",
              "    [theme=dark] .colab-df-convert:hover {\n",
              "      background-color: #434B5C;\n",
              "      box-shadow: 0px 1px 3px 1px rgba(0, 0, 0, 0.15);\n",
              "      filter: drop-shadow(0px 1px 2px rgba(0, 0, 0, 0.3));\n",
              "      fill: #FFFFFF;\n",
              "    }\n",
              "  </style>\n",
              "\n",
              "    <script>\n",
              "      const buttonEl =\n",
              "        document.querySelector('#df-c108ddb9-f419-4cf1-ac57-64d41560bee9 button.colab-df-convert');\n",
              "      buttonEl.style.display =\n",
              "        google.colab.kernel.accessAllowed ? 'block' : 'none';\n",
              "\n",
              "      async function convertToInteractive(key) {\n",
              "        const element = document.querySelector('#df-c108ddb9-f419-4cf1-ac57-64d41560bee9');\n",
              "        const dataTable =\n",
              "          await google.colab.kernel.invokeFunction('convertToInteractive',\n",
              "                                                    [key], {});\n",
              "        if (!dataTable) return;\n",
              "\n",
              "        const docLinkHtml = 'Like what you see? Visit the ' +\n",
              "          '<a target=\"_blank\" href=https://colab.research.google.com/notebooks/data_table.ipynb>data table notebook</a>'\n",
              "          + ' to learn more about interactive tables.';\n",
              "        element.innerHTML = '';\n",
              "        dataTable['output_type'] = 'display_data';\n",
              "        await google.colab.output.renderOutput(dataTable, element);\n",
              "        const docLink = document.createElement('div');\n",
              "        docLink.innerHTML = docLinkHtml;\n",
              "        element.appendChild(docLink);\n",
              "      }\n",
              "    </script>\n",
              "  </div>\n",
              "\n",
              "\n",
              "<div id=\"df-95ff0765-7aff-4913-a4f0-efd8252d79fb\">\n",
              "  <button class=\"colab-df-quickchart\" onclick=\"quickchart('df-95ff0765-7aff-4913-a4f0-efd8252d79fb')\"\n",
              "            title=\"Suggest charts\"\n",
              "            style=\"display:none;\">\n",
              "\n",
              "<svg xmlns=\"http://www.w3.org/2000/svg\" height=\"24px\"viewBox=\"0 0 24 24\"\n",
              "     width=\"24px\">\n",
              "    <g>\n",
              "        <path d=\"M19 3H5c-1.1 0-2 .9-2 2v14c0 1.1.9 2 2 2h14c1.1 0 2-.9 2-2V5c0-1.1-.9-2-2-2zM9 17H7v-7h2v7zm4 0h-2V7h2v10zm4 0h-2v-4h2v4z\"/>\n",
              "    </g>\n",
              "</svg>\n",
              "  </button>\n",
              "\n",
              "<style>\n",
              "  .colab-df-quickchart {\n",
              "      --bg-color: #E8F0FE;\n",
              "      --fill-color: #1967D2;\n",
              "      --hover-bg-color: #E2EBFA;\n",
              "      --hover-fill-color: #174EA6;\n",
              "      --disabled-fill-color: #AAA;\n",
              "      --disabled-bg-color: #DDD;\n",
              "  }\n",
              "\n",
              "  [theme=dark] .colab-df-quickchart {\n",
              "      --bg-color: #3B4455;\n",
              "      --fill-color: #D2E3FC;\n",
              "      --hover-bg-color: #434B5C;\n",
              "      --hover-fill-color: #FFFFFF;\n",
              "      --disabled-bg-color: #3B4455;\n",
              "      --disabled-fill-color: #666;\n",
              "  }\n",
              "\n",
              "  .colab-df-quickchart {\n",
              "    background-color: var(--bg-color);\n",
              "    border: none;\n",
              "    border-radius: 50%;\n",
              "    cursor: pointer;\n",
              "    display: none;\n",
              "    fill: var(--fill-color);\n",
              "    height: 32px;\n",
              "    padding: 0;\n",
              "    width: 32px;\n",
              "  }\n",
              "\n",
              "  .colab-df-quickchart:hover {\n",
              "    background-color: var(--hover-bg-color);\n",
              "    box-shadow: 0 1px 2px rgba(60, 64, 67, 0.3), 0 1px 3px 1px rgba(60, 64, 67, 0.15);\n",
              "    fill: var(--button-hover-fill-color);\n",
              "  }\n",
              "\n",
              "  .colab-df-quickchart-complete:disabled,\n",
              "  .colab-df-quickchart-complete:disabled:hover {\n",
              "    background-color: var(--disabled-bg-color);\n",
              "    fill: var(--disabled-fill-color);\n",
              "    box-shadow: none;\n",
              "  }\n",
              "\n",
              "  .colab-df-spinner {\n",
              "    border: 2px solid var(--fill-color);\n",
              "    border-color: transparent;\n",
              "    border-bottom-color: var(--fill-color);\n",
              "    animation:\n",
              "      spin 1s steps(1) infinite;\n",
              "  }\n",
              "\n",
              "  @keyframes spin {\n",
              "    0% {\n",
              "      border-color: transparent;\n",
              "      border-bottom-color: var(--fill-color);\n",
              "      border-left-color: var(--fill-color);\n",
              "    }\n",
              "    20% {\n",
              "      border-color: transparent;\n",
              "      border-left-color: var(--fill-color);\n",
              "      border-top-color: var(--fill-color);\n",
              "    }\n",
              "    30% {\n",
              "      border-color: transparent;\n",
              "      border-left-color: var(--fill-color);\n",
              "      border-top-color: var(--fill-color);\n",
              "      border-right-color: var(--fill-color);\n",
              "    }\n",
              "    40% {\n",
              "      border-color: transparent;\n",
              "      border-right-color: var(--fill-color);\n",
              "      border-top-color: var(--fill-color);\n",
              "    }\n",
              "    60% {\n",
              "      border-color: transparent;\n",
              "      border-right-color: var(--fill-color);\n",
              "    }\n",
              "    80% {\n",
              "      border-color: transparent;\n",
              "      border-right-color: var(--fill-color);\n",
              "      border-bottom-color: var(--fill-color);\n",
              "    }\n",
              "    90% {\n",
              "      border-color: transparent;\n",
              "      border-bottom-color: var(--fill-color);\n",
              "    }\n",
              "  }\n",
              "</style>\n",
              "\n",
              "  <script>\n",
              "    async function quickchart(key) {\n",
              "      const quickchartButtonEl =\n",
              "        document.querySelector('#' + key + ' button');\n",
              "      quickchartButtonEl.disabled = true;  // To prevent multiple clicks.\n",
              "      quickchartButtonEl.classList.add('colab-df-spinner');\n",
              "      try {\n",
              "        const charts = await google.colab.kernel.invokeFunction(\n",
              "            'suggestCharts', [key], {});\n",
              "      } catch (error) {\n",
              "        console.error('Error during call to suggestCharts:', error);\n",
              "      }\n",
              "      quickchartButtonEl.classList.remove('colab-df-spinner');\n",
              "      quickchartButtonEl.classList.add('colab-df-quickchart-complete');\n",
              "    }\n",
              "    (() => {\n",
              "      let quickchartButtonEl =\n",
              "        document.querySelector('#df-95ff0765-7aff-4913-a4f0-efd8252d79fb button');\n",
              "      quickchartButtonEl.style.display =\n",
              "        google.colab.kernel.accessAllowed ? 'block' : 'none';\n",
              "    })();\n",
              "  </script>\n",
              "</div>\n",
              "\n",
              "    </div>\n",
              "  </div>\n"
            ],
            "application/vnd.google.colaboratory.intrinsic+json": {
              "type": "dataframe",
              "variable_name": "pca_breast_Df_2_comp",
              "summary": "{\n  \"name\": \"pca_breast_Df_2_comp\",\n  \"rows\": 569,\n  \"fields\": [\n    {\n      \"column\": \"pca 1\",\n      \"properties\": {\n        \"dtype\": \"number\",\n        \"std\": 3.6476006900940443,\n        \"min\": -5.56573589898108,\n        \"max\": 16.319233231031987,\n        \"num_unique_values\": 569,\n        \"samples\": [\n          -0.7811899668984476,\n          2.7045961726303496,\n          1.4320694267974388\n        ],\n        \"semantic_type\": \"\",\n        \"description\": \"\"\n      }\n    },\n    {\n      \"column\": \"pca 2\",\n      \"properties\": {\n        \"dtype\": \"number\",\n        \"std\": 2.387755138980153,\n        \"min\": -7.775852804251489,\n        \"max\": 12.573194228696,\n        \"num_unique_values\": 569,\n        \"samples\": [\n          0.6528492587498842,\n          -4.437141769616345,\n          -1.0496039490924645\n        ],\n        \"semantic_type\": \"\",\n        \"description\": \"\"\n      }\n    }\n  ]\n}"
            }
          },
          "metadata": {},
          "execution_count": 100
        }
      ]
    },
    {
      "cell_type": "markdown",
      "source": [
        "##### Case 2: Number of components will be set to 3"
      ],
      "metadata": {
        "id": "RWyIlv-sFSRX"
      }
    },
    {
      "cell_type": "code",
      "source": [
        "# Initialize PCA with 3 components\n",
        "pca_breast_comp_3 = PCA(n_components=3)\n",
        "\n",
        "# Fit and transform the original data 'x' using PCA with 3 components\n",
        "# This reduces the dimensions of the data to 3 principal components\n",
        "pca_breast_3_comp = pca_breast_comp_3.fit(x)\n",
        "\n",
        "# Transform the data into a NumPy array\n",
        "pca_breast_3_comp_transform = pca_breast_3_comp.transform(x)"
      ],
      "metadata": {
        "id": "S4K8oA_8FSRY"
      },
      "execution_count": null,
      "outputs": []
    },
    {
      "cell_type": "code",
      "source": [
        "# Create a DataFrame from the PCA-transformed data 'pca_breast_3_comp'\n",
        "pca_breast_Df_3_comp = pd.DataFrame(data=pca_breast_3_comp_transform, columns=['pca 1', 'pca 2', 'pca 3'])"
      ],
      "metadata": {
        "id": "w-6XVyOfFSRY"
      },
      "execution_count": null,
      "outputs": []
    },
    {
      "cell_type": "code",
      "source": [
        "# Display the first 10 rows of the new pca_breast_DF\n",
        "pca_breast_Df_3_comp.head(10)"
      ],
      "metadata": {
        "id": "ewQJTjnMFSRY",
        "colab": {
          "base_uri": "https://localhost:8080/",
          "height": 363
        },
        "outputId": "ae655bfe-ce25-4dd0-a4cc-c273395a9973"
      },
      "execution_count": null,
      "outputs": [
        {
          "output_type": "execute_result",
          "data": {
            "text/plain": [
              "      pca 1      pca 2     pca 3\n",
              "0  9.192837   1.948583 -1.123166\n",
              "1  2.387802  -3.768172 -0.529293\n",
              "2  5.733896  -1.075174 -0.551748\n",
              "3  7.122953  10.275589 -3.232790\n",
              "4  3.935302  -1.948072  1.389766\n",
              "5  2.380247   3.949929 -2.934877\n",
              "6  2.238883  -2.690031 -1.639913\n",
              "7  2.143299   2.340244 -0.871947\n",
              "8  3.174924   3.391813 -3.119986\n",
              "9  6.351747   7.727174 -4.341916"
            ],
            "text/html": [
              "\n",
              "  <div id=\"df-d662614c-bb4f-403f-bda0-3c6ae8a7bcd6\" class=\"colab-df-container\">\n",
              "    <div>\n",
              "<style scoped>\n",
              "    .dataframe tbody tr th:only-of-type {\n",
              "        vertical-align: middle;\n",
              "    }\n",
              "\n",
              "    .dataframe tbody tr th {\n",
              "        vertical-align: top;\n",
              "    }\n",
              "\n",
              "    .dataframe thead th {\n",
              "        text-align: right;\n",
              "    }\n",
              "</style>\n",
              "<table border=\"1\" class=\"dataframe\">\n",
              "  <thead>\n",
              "    <tr style=\"text-align: right;\">\n",
              "      <th></th>\n",
              "      <th>pca 1</th>\n",
              "      <th>pca 2</th>\n",
              "      <th>pca 3</th>\n",
              "    </tr>\n",
              "  </thead>\n",
              "  <tbody>\n",
              "    <tr>\n",
              "      <th>0</th>\n",
              "      <td>9.192837</td>\n",
              "      <td>1.948583</td>\n",
              "      <td>-1.123166</td>\n",
              "    </tr>\n",
              "    <tr>\n",
              "      <th>1</th>\n",
              "      <td>2.387802</td>\n",
              "      <td>-3.768172</td>\n",
              "      <td>-0.529293</td>\n",
              "    </tr>\n",
              "    <tr>\n",
              "      <th>2</th>\n",
              "      <td>5.733896</td>\n",
              "      <td>-1.075174</td>\n",
              "      <td>-0.551748</td>\n",
              "    </tr>\n",
              "    <tr>\n",
              "      <th>3</th>\n",
              "      <td>7.122953</td>\n",
              "      <td>10.275589</td>\n",
              "      <td>-3.232790</td>\n",
              "    </tr>\n",
              "    <tr>\n",
              "      <th>4</th>\n",
              "      <td>3.935302</td>\n",
              "      <td>-1.948072</td>\n",
              "      <td>1.389766</td>\n",
              "    </tr>\n",
              "    <tr>\n",
              "      <th>5</th>\n",
              "      <td>2.380247</td>\n",
              "      <td>3.949929</td>\n",
              "      <td>-2.934877</td>\n",
              "    </tr>\n",
              "    <tr>\n",
              "      <th>6</th>\n",
              "      <td>2.238883</td>\n",
              "      <td>-2.690031</td>\n",
              "      <td>-1.639913</td>\n",
              "    </tr>\n",
              "    <tr>\n",
              "      <th>7</th>\n",
              "      <td>2.143299</td>\n",
              "      <td>2.340244</td>\n",
              "      <td>-0.871947</td>\n",
              "    </tr>\n",
              "    <tr>\n",
              "      <th>8</th>\n",
              "      <td>3.174924</td>\n",
              "      <td>3.391813</td>\n",
              "      <td>-3.119986</td>\n",
              "    </tr>\n",
              "    <tr>\n",
              "      <th>9</th>\n",
              "      <td>6.351747</td>\n",
              "      <td>7.727174</td>\n",
              "      <td>-4.341916</td>\n",
              "    </tr>\n",
              "  </tbody>\n",
              "</table>\n",
              "</div>\n",
              "    <div class=\"colab-df-buttons\">\n",
              "\n",
              "  <div class=\"colab-df-container\">\n",
              "    <button class=\"colab-df-convert\" onclick=\"convertToInteractive('df-d662614c-bb4f-403f-bda0-3c6ae8a7bcd6')\"\n",
              "            title=\"Convert this dataframe to an interactive table.\"\n",
              "            style=\"display:none;\">\n",
              "\n",
              "  <svg xmlns=\"http://www.w3.org/2000/svg\" height=\"24px\" viewBox=\"0 -960 960 960\">\n",
              "    <path d=\"M120-120v-720h720v720H120Zm60-500h600v-160H180v160Zm220 220h160v-160H400v160Zm0 220h160v-160H400v160ZM180-400h160v-160H180v160Zm440 0h160v-160H620v160ZM180-180h160v-160H180v160Zm440 0h160v-160H620v160Z\"/>\n",
              "  </svg>\n",
              "    </button>\n",
              "\n",
              "  <style>\n",
              "    .colab-df-container {\n",
              "      display:flex;\n",
              "      gap: 12px;\n",
              "    }\n",
              "\n",
              "    .colab-df-convert {\n",
              "      background-color: #E8F0FE;\n",
              "      border: none;\n",
              "      border-radius: 50%;\n",
              "      cursor: pointer;\n",
              "      display: none;\n",
              "      fill: #1967D2;\n",
              "      height: 32px;\n",
              "      padding: 0 0 0 0;\n",
              "      width: 32px;\n",
              "    }\n",
              "\n",
              "    .colab-df-convert:hover {\n",
              "      background-color: #E2EBFA;\n",
              "      box-shadow: 0px 1px 2px rgba(60, 64, 67, 0.3), 0px 1px 3px 1px rgba(60, 64, 67, 0.15);\n",
              "      fill: #174EA6;\n",
              "    }\n",
              "\n",
              "    .colab-df-buttons div {\n",
              "      margin-bottom: 4px;\n",
              "    }\n",
              "\n",
              "    [theme=dark] .colab-df-convert {\n",
              "      background-color: #3B4455;\n",
              "      fill: #D2E3FC;\n",
              "    }\n",
              "\n",
              "    [theme=dark] .colab-df-convert:hover {\n",
              "      background-color: #434B5C;\n",
              "      box-shadow: 0px 1px 3px 1px rgba(0, 0, 0, 0.15);\n",
              "      filter: drop-shadow(0px 1px 2px rgba(0, 0, 0, 0.3));\n",
              "      fill: #FFFFFF;\n",
              "    }\n",
              "  </style>\n",
              "\n",
              "    <script>\n",
              "      const buttonEl =\n",
              "        document.querySelector('#df-d662614c-bb4f-403f-bda0-3c6ae8a7bcd6 button.colab-df-convert');\n",
              "      buttonEl.style.display =\n",
              "        google.colab.kernel.accessAllowed ? 'block' : 'none';\n",
              "\n",
              "      async function convertToInteractive(key) {\n",
              "        const element = document.querySelector('#df-d662614c-bb4f-403f-bda0-3c6ae8a7bcd6');\n",
              "        const dataTable =\n",
              "          await google.colab.kernel.invokeFunction('convertToInteractive',\n",
              "                                                    [key], {});\n",
              "        if (!dataTable) return;\n",
              "\n",
              "        const docLinkHtml = 'Like what you see? Visit the ' +\n",
              "          '<a target=\"_blank\" href=https://colab.research.google.com/notebooks/data_table.ipynb>data table notebook</a>'\n",
              "          + ' to learn more about interactive tables.';\n",
              "        element.innerHTML = '';\n",
              "        dataTable['output_type'] = 'display_data';\n",
              "        await google.colab.output.renderOutput(dataTable, element);\n",
              "        const docLink = document.createElement('div');\n",
              "        docLink.innerHTML = docLinkHtml;\n",
              "        element.appendChild(docLink);\n",
              "      }\n",
              "    </script>\n",
              "  </div>\n",
              "\n",
              "\n",
              "<div id=\"df-d2bb28b7-ba9f-4924-be93-080269adda43\">\n",
              "  <button class=\"colab-df-quickchart\" onclick=\"quickchart('df-d2bb28b7-ba9f-4924-be93-080269adda43')\"\n",
              "            title=\"Suggest charts\"\n",
              "            style=\"display:none;\">\n",
              "\n",
              "<svg xmlns=\"http://www.w3.org/2000/svg\" height=\"24px\"viewBox=\"0 0 24 24\"\n",
              "     width=\"24px\">\n",
              "    <g>\n",
              "        <path d=\"M19 3H5c-1.1 0-2 .9-2 2v14c0 1.1.9 2 2 2h14c1.1 0 2-.9 2-2V5c0-1.1-.9-2-2-2zM9 17H7v-7h2v7zm4 0h-2V7h2v10zm4 0h-2v-4h2v4z\"/>\n",
              "    </g>\n",
              "</svg>\n",
              "  </button>\n",
              "\n",
              "<style>\n",
              "  .colab-df-quickchart {\n",
              "      --bg-color: #E8F0FE;\n",
              "      --fill-color: #1967D2;\n",
              "      --hover-bg-color: #E2EBFA;\n",
              "      --hover-fill-color: #174EA6;\n",
              "      --disabled-fill-color: #AAA;\n",
              "      --disabled-bg-color: #DDD;\n",
              "  }\n",
              "\n",
              "  [theme=dark] .colab-df-quickchart {\n",
              "      --bg-color: #3B4455;\n",
              "      --fill-color: #D2E3FC;\n",
              "      --hover-bg-color: #434B5C;\n",
              "      --hover-fill-color: #FFFFFF;\n",
              "      --disabled-bg-color: #3B4455;\n",
              "      --disabled-fill-color: #666;\n",
              "  }\n",
              "\n",
              "  .colab-df-quickchart {\n",
              "    background-color: var(--bg-color);\n",
              "    border: none;\n",
              "    border-radius: 50%;\n",
              "    cursor: pointer;\n",
              "    display: none;\n",
              "    fill: var(--fill-color);\n",
              "    height: 32px;\n",
              "    padding: 0;\n",
              "    width: 32px;\n",
              "  }\n",
              "\n",
              "  .colab-df-quickchart:hover {\n",
              "    background-color: var(--hover-bg-color);\n",
              "    box-shadow: 0 1px 2px rgba(60, 64, 67, 0.3), 0 1px 3px 1px rgba(60, 64, 67, 0.15);\n",
              "    fill: var(--button-hover-fill-color);\n",
              "  }\n",
              "\n",
              "  .colab-df-quickchart-complete:disabled,\n",
              "  .colab-df-quickchart-complete:disabled:hover {\n",
              "    background-color: var(--disabled-bg-color);\n",
              "    fill: var(--disabled-fill-color);\n",
              "    box-shadow: none;\n",
              "  }\n",
              "\n",
              "  .colab-df-spinner {\n",
              "    border: 2px solid var(--fill-color);\n",
              "    border-color: transparent;\n",
              "    border-bottom-color: var(--fill-color);\n",
              "    animation:\n",
              "      spin 1s steps(1) infinite;\n",
              "  }\n",
              "\n",
              "  @keyframes spin {\n",
              "    0% {\n",
              "      border-color: transparent;\n",
              "      border-bottom-color: var(--fill-color);\n",
              "      border-left-color: var(--fill-color);\n",
              "    }\n",
              "    20% {\n",
              "      border-color: transparent;\n",
              "      border-left-color: var(--fill-color);\n",
              "      border-top-color: var(--fill-color);\n",
              "    }\n",
              "    30% {\n",
              "      border-color: transparent;\n",
              "      border-left-color: var(--fill-color);\n",
              "      border-top-color: var(--fill-color);\n",
              "      border-right-color: var(--fill-color);\n",
              "    }\n",
              "    40% {\n",
              "      border-color: transparent;\n",
              "      border-right-color: var(--fill-color);\n",
              "      border-top-color: var(--fill-color);\n",
              "    }\n",
              "    60% {\n",
              "      border-color: transparent;\n",
              "      border-right-color: var(--fill-color);\n",
              "    }\n",
              "    80% {\n",
              "      border-color: transparent;\n",
              "      border-right-color: var(--fill-color);\n",
              "      border-bottom-color: var(--fill-color);\n",
              "    }\n",
              "    90% {\n",
              "      border-color: transparent;\n",
              "      border-bottom-color: var(--fill-color);\n",
              "    }\n",
              "  }\n",
              "</style>\n",
              "\n",
              "  <script>\n",
              "    async function quickchart(key) {\n",
              "      const quickchartButtonEl =\n",
              "        document.querySelector('#' + key + ' button');\n",
              "      quickchartButtonEl.disabled = true;  // To prevent multiple clicks.\n",
              "      quickchartButtonEl.classList.add('colab-df-spinner');\n",
              "      try {\n",
              "        const charts = await google.colab.kernel.invokeFunction(\n",
              "            'suggestCharts', [key], {});\n",
              "      } catch (error) {\n",
              "        console.error('Error during call to suggestCharts:', error);\n",
              "      }\n",
              "      quickchartButtonEl.classList.remove('colab-df-spinner');\n",
              "      quickchartButtonEl.classList.add('colab-df-quickchart-complete');\n",
              "    }\n",
              "    (() => {\n",
              "      let quickchartButtonEl =\n",
              "        document.querySelector('#df-d2bb28b7-ba9f-4924-be93-080269adda43 button');\n",
              "      quickchartButtonEl.style.display =\n",
              "        google.colab.kernel.accessAllowed ? 'block' : 'none';\n",
              "    })();\n",
              "  </script>\n",
              "</div>\n",
              "\n",
              "    </div>\n",
              "  </div>\n"
            ],
            "application/vnd.google.colaboratory.intrinsic+json": {
              "type": "dataframe",
              "variable_name": "pca_breast_Df_3_comp",
              "summary": "{\n  \"name\": \"pca_breast_Df_3_comp\",\n  \"rows\": 569,\n  \"fields\": [\n    {\n      \"column\": \"pca 1\",\n      \"properties\": {\n        \"dtype\": \"number\",\n        \"std\": 3.647600690094045,\n        \"min\": -5.565735899353638,\n        \"max\": 16.319233231313973,\n        \"num_unique_values\": 569,\n        \"samples\": [\n          -0.7811899668916295,\n          2.7045961725838095,\n          1.4320694268420404\n        ],\n        \"semantic_type\": \"\",\n        \"description\": \"\"\n      }\n    },\n    {\n      \"column\": \"pca 2\",\n      \"properties\": {\n        \"dtype\": \"number\",\n        \"std\": 2.3877551389801535,\n        \"min\": -7.775852809879862,\n        \"max\": 12.573194226362393,\n        \"num_unique_values\": 569,\n        \"samples\": [\n          0.6528492584673898,\n          -4.437141768129336,\n          -1.049603950480882\n        ],\n        \"semantic_type\": \"\",\n        \"description\": \"\"\n      }\n    },\n    {\n      \"column\": \"pca 3\",\n      \"properties\": {\n        \"dtype\": \"number\",\n        \"std\": 1.680151824986549,\n        \"min\": -4.88036108204559,\n        \"max\": 10.112423595369341,\n        \"num_unique_values\": 569,\n        \"samples\": [\n          -0.6436569972765099,\n          0.3073453584150795,\n          -1.2620112971756798\n        ],\n        \"semantic_type\": \"\",\n        \"description\": \"\"\n      }\n    }\n  ]\n}"
            }
          },
          "metadata": {},
          "execution_count": 103
        }
      ]
    },
    {
      "cell_type": "markdown",
      "source": [
        "##### Case 3: Number of components will be set to 4"
      ],
      "metadata": {
        "id": "jLJ5ne6PFetT"
      }
    },
    {
      "cell_type": "code",
      "source": [
        "# Initialize PCA with 4 components\n",
        "pca_breast_comp_4 = PCA(n_components=4)\n",
        "\n",
        "# Fit and transform the original data 'x' using PCA with 4 components\n",
        "# This reduces the dimensions of the data to 4 principal components\n",
        "pca_breast_4_comp = pca_breast_comp_4.fit(x)\n",
        "\n",
        "# Transform the data into a NumPy array\n",
        "pca_breast_4_comp_transform = pca_breast_4_comp.transform(x)"
      ],
      "metadata": {
        "id": "D4J9Fqj-FetV"
      },
      "execution_count": null,
      "outputs": []
    },
    {
      "cell_type": "code",
      "source": [
        "# Create a DataFrame from the PCA-transformed data 'pca_breast_4_comp_transform'\n",
        "pca_breast_Df_4_comp = pd.DataFrame(data=pca_breast_4_comp_transform, columns=['pca 1', 'pca 2', 'pca 3', 'pca 4'])"
      ],
      "metadata": {
        "id": "gQgh3HaBFetW"
      },
      "execution_count": null,
      "outputs": []
    },
    {
      "cell_type": "code",
      "source": [
        "# Display the first 10 rows of the new pca_breast_DF\n",
        "pca_breast_Df_4_comp.head(10)"
      ],
      "metadata": {
        "colab": {
          "base_uri": "https://localhost:8080/",
          "height": 363
        },
        "outputId": "4a164753-b334-433d-b05d-ada39d497d09",
        "id": "c1d_macIFetX"
      },
      "execution_count": null,
      "outputs": [
        {
          "output_type": "execute_result",
          "data": {
            "text/plain": [
              "      pca 1      pca 2     pca 3     pca 4\n",
              "0  9.192837   1.948583 -1.123166  3.633731\n",
              "1  2.387802  -3.768172 -0.529293  1.118264\n",
              "2  5.733896  -1.075174 -0.551748  0.912083\n",
              "3  7.122953  10.275589 -3.232790  0.152547\n",
              "4  3.935302  -1.948072  1.389767  2.940639\n",
              "5  2.380247   3.949929 -2.934877  0.941037\n",
              "6  2.238883  -2.690031 -1.639913  0.149340\n",
              "7  2.143299   2.340244 -0.871947 -0.127043\n",
              "8  3.174924   3.391813 -3.119986 -0.601297\n",
              "9  6.351747   7.727174 -4.341916 -3.375201"
            ],
            "text/html": [
              "\n",
              "  <div id=\"df-d25958a8-3847-4ecd-9fcb-40b0d521d3b4\" class=\"colab-df-container\">\n",
              "    <div>\n",
              "<style scoped>\n",
              "    .dataframe tbody tr th:only-of-type {\n",
              "        vertical-align: middle;\n",
              "    }\n",
              "\n",
              "    .dataframe tbody tr th {\n",
              "        vertical-align: top;\n",
              "    }\n",
              "\n",
              "    .dataframe thead th {\n",
              "        text-align: right;\n",
              "    }\n",
              "</style>\n",
              "<table border=\"1\" class=\"dataframe\">\n",
              "  <thead>\n",
              "    <tr style=\"text-align: right;\">\n",
              "      <th></th>\n",
              "      <th>pca 1</th>\n",
              "      <th>pca 2</th>\n",
              "      <th>pca 3</th>\n",
              "      <th>pca 4</th>\n",
              "    </tr>\n",
              "  </thead>\n",
              "  <tbody>\n",
              "    <tr>\n",
              "      <th>0</th>\n",
              "      <td>9.192837</td>\n",
              "      <td>1.948583</td>\n",
              "      <td>-1.123166</td>\n",
              "      <td>3.633731</td>\n",
              "    </tr>\n",
              "    <tr>\n",
              "      <th>1</th>\n",
              "      <td>2.387802</td>\n",
              "      <td>-3.768172</td>\n",
              "      <td>-0.529293</td>\n",
              "      <td>1.118264</td>\n",
              "    </tr>\n",
              "    <tr>\n",
              "      <th>2</th>\n",
              "      <td>5.733896</td>\n",
              "      <td>-1.075174</td>\n",
              "      <td>-0.551748</td>\n",
              "      <td>0.912083</td>\n",
              "    </tr>\n",
              "    <tr>\n",
              "      <th>3</th>\n",
              "      <td>7.122953</td>\n",
              "      <td>10.275589</td>\n",
              "      <td>-3.232790</td>\n",
              "      <td>0.152547</td>\n",
              "    </tr>\n",
              "    <tr>\n",
              "      <th>4</th>\n",
              "      <td>3.935302</td>\n",
              "      <td>-1.948072</td>\n",
              "      <td>1.389767</td>\n",
              "      <td>2.940639</td>\n",
              "    </tr>\n",
              "    <tr>\n",
              "      <th>5</th>\n",
              "      <td>2.380247</td>\n",
              "      <td>3.949929</td>\n",
              "      <td>-2.934877</td>\n",
              "      <td>0.941037</td>\n",
              "    </tr>\n",
              "    <tr>\n",
              "      <th>6</th>\n",
              "      <td>2.238883</td>\n",
              "      <td>-2.690031</td>\n",
              "      <td>-1.639913</td>\n",
              "      <td>0.149340</td>\n",
              "    </tr>\n",
              "    <tr>\n",
              "      <th>7</th>\n",
              "      <td>2.143299</td>\n",
              "      <td>2.340244</td>\n",
              "      <td>-0.871947</td>\n",
              "      <td>-0.127043</td>\n",
              "    </tr>\n",
              "    <tr>\n",
              "      <th>8</th>\n",
              "      <td>3.174924</td>\n",
              "      <td>3.391813</td>\n",
              "      <td>-3.119986</td>\n",
              "      <td>-0.601297</td>\n",
              "    </tr>\n",
              "    <tr>\n",
              "      <th>9</th>\n",
              "      <td>6.351747</td>\n",
              "      <td>7.727174</td>\n",
              "      <td>-4.341916</td>\n",
              "      <td>-3.375201</td>\n",
              "    </tr>\n",
              "  </tbody>\n",
              "</table>\n",
              "</div>\n",
              "    <div class=\"colab-df-buttons\">\n",
              "\n",
              "  <div class=\"colab-df-container\">\n",
              "    <button class=\"colab-df-convert\" onclick=\"convertToInteractive('df-d25958a8-3847-4ecd-9fcb-40b0d521d3b4')\"\n",
              "            title=\"Convert this dataframe to an interactive table.\"\n",
              "            style=\"display:none;\">\n",
              "\n",
              "  <svg xmlns=\"http://www.w3.org/2000/svg\" height=\"24px\" viewBox=\"0 -960 960 960\">\n",
              "    <path d=\"M120-120v-720h720v720H120Zm60-500h600v-160H180v160Zm220 220h160v-160H400v160Zm0 220h160v-160H400v160ZM180-400h160v-160H180v160Zm440 0h160v-160H620v160ZM180-180h160v-160H180v160Zm440 0h160v-160H620v160Z\"/>\n",
              "  </svg>\n",
              "    </button>\n",
              "\n",
              "  <style>\n",
              "    .colab-df-container {\n",
              "      display:flex;\n",
              "      gap: 12px;\n",
              "    }\n",
              "\n",
              "    .colab-df-convert {\n",
              "      background-color: #E8F0FE;\n",
              "      border: none;\n",
              "      border-radius: 50%;\n",
              "      cursor: pointer;\n",
              "      display: none;\n",
              "      fill: #1967D2;\n",
              "      height: 32px;\n",
              "      padding: 0 0 0 0;\n",
              "      width: 32px;\n",
              "    }\n",
              "\n",
              "    .colab-df-convert:hover {\n",
              "      background-color: #E2EBFA;\n",
              "      box-shadow: 0px 1px 2px rgba(60, 64, 67, 0.3), 0px 1px 3px 1px rgba(60, 64, 67, 0.15);\n",
              "      fill: #174EA6;\n",
              "    }\n",
              "\n",
              "    .colab-df-buttons div {\n",
              "      margin-bottom: 4px;\n",
              "    }\n",
              "\n",
              "    [theme=dark] .colab-df-convert {\n",
              "      background-color: #3B4455;\n",
              "      fill: #D2E3FC;\n",
              "    }\n",
              "\n",
              "    [theme=dark] .colab-df-convert:hover {\n",
              "      background-color: #434B5C;\n",
              "      box-shadow: 0px 1px 3px 1px rgba(0, 0, 0, 0.15);\n",
              "      filter: drop-shadow(0px 1px 2px rgba(0, 0, 0, 0.3));\n",
              "      fill: #FFFFFF;\n",
              "    }\n",
              "  </style>\n",
              "\n",
              "    <script>\n",
              "      const buttonEl =\n",
              "        document.querySelector('#df-d25958a8-3847-4ecd-9fcb-40b0d521d3b4 button.colab-df-convert');\n",
              "      buttonEl.style.display =\n",
              "        google.colab.kernel.accessAllowed ? 'block' : 'none';\n",
              "\n",
              "      async function convertToInteractive(key) {\n",
              "        const element = document.querySelector('#df-d25958a8-3847-4ecd-9fcb-40b0d521d3b4');\n",
              "        const dataTable =\n",
              "          await google.colab.kernel.invokeFunction('convertToInteractive',\n",
              "                                                    [key], {});\n",
              "        if (!dataTable) return;\n",
              "\n",
              "        const docLinkHtml = 'Like what you see? Visit the ' +\n",
              "          '<a target=\"_blank\" href=https://colab.research.google.com/notebooks/data_table.ipynb>data table notebook</a>'\n",
              "          + ' to learn more about interactive tables.';\n",
              "        element.innerHTML = '';\n",
              "        dataTable['output_type'] = 'display_data';\n",
              "        await google.colab.output.renderOutput(dataTable, element);\n",
              "        const docLink = document.createElement('div');\n",
              "        docLink.innerHTML = docLinkHtml;\n",
              "        element.appendChild(docLink);\n",
              "      }\n",
              "    </script>\n",
              "  </div>\n",
              "\n",
              "\n",
              "<div id=\"df-47e159ef-38f9-4379-9496-55fc00a70249\">\n",
              "  <button class=\"colab-df-quickchart\" onclick=\"quickchart('df-47e159ef-38f9-4379-9496-55fc00a70249')\"\n",
              "            title=\"Suggest charts\"\n",
              "            style=\"display:none;\">\n",
              "\n",
              "<svg xmlns=\"http://www.w3.org/2000/svg\" height=\"24px\"viewBox=\"0 0 24 24\"\n",
              "     width=\"24px\">\n",
              "    <g>\n",
              "        <path d=\"M19 3H5c-1.1 0-2 .9-2 2v14c0 1.1.9 2 2 2h14c1.1 0 2-.9 2-2V5c0-1.1-.9-2-2-2zM9 17H7v-7h2v7zm4 0h-2V7h2v10zm4 0h-2v-4h2v4z\"/>\n",
              "    </g>\n",
              "</svg>\n",
              "  </button>\n",
              "\n",
              "<style>\n",
              "  .colab-df-quickchart {\n",
              "      --bg-color: #E8F0FE;\n",
              "      --fill-color: #1967D2;\n",
              "      --hover-bg-color: #E2EBFA;\n",
              "      --hover-fill-color: #174EA6;\n",
              "      --disabled-fill-color: #AAA;\n",
              "      --disabled-bg-color: #DDD;\n",
              "  }\n",
              "\n",
              "  [theme=dark] .colab-df-quickchart {\n",
              "      --bg-color: #3B4455;\n",
              "      --fill-color: #D2E3FC;\n",
              "      --hover-bg-color: #434B5C;\n",
              "      --hover-fill-color: #FFFFFF;\n",
              "      --disabled-bg-color: #3B4455;\n",
              "      --disabled-fill-color: #666;\n",
              "  }\n",
              "\n",
              "  .colab-df-quickchart {\n",
              "    background-color: var(--bg-color);\n",
              "    border: none;\n",
              "    border-radius: 50%;\n",
              "    cursor: pointer;\n",
              "    display: none;\n",
              "    fill: var(--fill-color);\n",
              "    height: 32px;\n",
              "    padding: 0;\n",
              "    width: 32px;\n",
              "  }\n",
              "\n",
              "  .colab-df-quickchart:hover {\n",
              "    background-color: var(--hover-bg-color);\n",
              "    box-shadow: 0 1px 2px rgba(60, 64, 67, 0.3), 0 1px 3px 1px rgba(60, 64, 67, 0.15);\n",
              "    fill: var(--button-hover-fill-color);\n",
              "  }\n",
              "\n",
              "  .colab-df-quickchart-complete:disabled,\n",
              "  .colab-df-quickchart-complete:disabled:hover {\n",
              "    background-color: var(--disabled-bg-color);\n",
              "    fill: var(--disabled-fill-color);\n",
              "    box-shadow: none;\n",
              "  }\n",
              "\n",
              "  .colab-df-spinner {\n",
              "    border: 2px solid var(--fill-color);\n",
              "    border-color: transparent;\n",
              "    border-bottom-color: var(--fill-color);\n",
              "    animation:\n",
              "      spin 1s steps(1) infinite;\n",
              "  }\n",
              "\n",
              "  @keyframes spin {\n",
              "    0% {\n",
              "      border-color: transparent;\n",
              "      border-bottom-color: var(--fill-color);\n",
              "      border-left-color: var(--fill-color);\n",
              "    }\n",
              "    20% {\n",
              "      border-color: transparent;\n",
              "      border-left-color: var(--fill-color);\n",
              "      border-top-color: var(--fill-color);\n",
              "    }\n",
              "    30% {\n",
              "      border-color: transparent;\n",
              "      border-left-color: var(--fill-color);\n",
              "      border-top-color: var(--fill-color);\n",
              "      border-right-color: var(--fill-color);\n",
              "    }\n",
              "    40% {\n",
              "      border-color: transparent;\n",
              "      border-right-color: var(--fill-color);\n",
              "      border-top-color: var(--fill-color);\n",
              "    }\n",
              "    60% {\n",
              "      border-color: transparent;\n",
              "      border-right-color: var(--fill-color);\n",
              "    }\n",
              "    80% {\n",
              "      border-color: transparent;\n",
              "      border-right-color: var(--fill-color);\n",
              "      border-bottom-color: var(--fill-color);\n",
              "    }\n",
              "    90% {\n",
              "      border-color: transparent;\n",
              "      border-bottom-color: var(--fill-color);\n",
              "    }\n",
              "  }\n",
              "</style>\n",
              "\n",
              "  <script>\n",
              "    async function quickchart(key) {\n",
              "      const quickchartButtonEl =\n",
              "        document.querySelector('#' + key + ' button');\n",
              "      quickchartButtonEl.disabled = true;  // To prevent multiple clicks.\n",
              "      quickchartButtonEl.classList.add('colab-df-spinner');\n",
              "      try {\n",
              "        const charts = await google.colab.kernel.invokeFunction(\n",
              "            'suggestCharts', [key], {});\n",
              "      } catch (error) {\n",
              "        console.error('Error during call to suggestCharts:', error);\n",
              "      }\n",
              "      quickchartButtonEl.classList.remove('colab-df-spinner');\n",
              "      quickchartButtonEl.classList.add('colab-df-quickchart-complete');\n",
              "    }\n",
              "    (() => {\n",
              "      let quickchartButtonEl =\n",
              "        document.querySelector('#df-47e159ef-38f9-4379-9496-55fc00a70249 button');\n",
              "      quickchartButtonEl.style.display =\n",
              "        google.colab.kernel.accessAllowed ? 'block' : 'none';\n",
              "    })();\n",
              "  </script>\n",
              "</div>\n",
              "\n",
              "    </div>\n",
              "  </div>\n"
            ],
            "application/vnd.google.colaboratory.intrinsic+json": {
              "type": "dataframe",
              "variable_name": "pca_breast_Df_4_comp",
              "summary": "{\n  \"name\": \"pca_breast_Df_4_comp\",\n  \"rows\": 569,\n  \"fields\": [\n    {\n      \"column\": \"pca 1\",\n      \"properties\": {\n        \"dtype\": \"number\",\n        \"std\": 3.6476006900940465,\n        \"min\": -5.5657358989823535,\n        \"max\": 16.319233231026626,\n        \"num_unique_values\": 569,\n        \"samples\": [\n          -0.7811899668974038,\n          2.704596172631043,\n          1.4320694268014826\n        ],\n        \"semantic_type\": \"\",\n        \"description\": \"\"\n      }\n    },\n    {\n      \"column\": \"pca 2\",\n      \"properties\": {\n        \"dtype\": \"number\",\n        \"std\": 2.387755138980155,\n        \"min\": -7.7758528045553605,\n        \"max\": 12.57319422860923,\n        \"num_unique_values\": 569,\n        \"samples\": [\n          0.652849258749939,\n          -4.437141769533375,\n          -1.0496039491534985\n        ],\n        \"semantic_type\": \"\",\n        \"description\": \"\"\n      }\n    },\n    {\n      \"column\": \"pca 3\",\n      \"properties\": {\n        \"dtype\": \"number\",\n        \"std\": 1.6801518249867249,\n        \"min\": -4.880361153420054,\n        \"max\": 10.112423698208408,\n        \"num_unique_values\": 569,\n        \"samples\": [\n          -0.6436569986080763,\n          0.3073453950946719,\n          -1.26201132604383\n        ],\n        \"semantic_type\": \"\",\n        \"description\": \"\"\n      }\n    },\n    {\n      \"column\": \"pca 4\",\n      \"properties\": {\n        \"dtype\": \"number\",\n        \"std\": 1.4085906139577442,\n        \"min\": -5.133988298699634,\n        \"max\": 5.194270617530812,\n        \"num_unique_values\": 569,\n        \"samples\": [\n          0.21446829350925878,\n          0.48869274305706023,\n          0.5331892467963494\n        ],\n        \"semantic_type\": \"\",\n        \"description\": \"\"\n      }\n    }\n  ]\n}"
            }
          },
          "metadata": {},
          "execution_count": 106
        }
      ]
    },
    {
      "cell_type": "markdown",
      "source": [
        "##### Case 4: Number of components will be set to 5"
      ],
      "metadata": {
        "id": "OI71P5ViGGid"
      }
    },
    {
      "cell_type": "code",
      "source": [
        "# Initialize PCA with 5 components\n",
        "pca_breast_comp_5 = PCA(n_components=5)\n",
        "\n",
        "# Fit and transform the original data 'x' using PCA with 5 components\n",
        "# This reduces the dimensions of the data to 5 principal components\n",
        "pca_breast_5_comp = pca_breast_comp_5.fit(x)\n",
        "\n",
        "# Transform the data into a NumPy array\n",
        "pca_breast_5_comp_transform = pca_breast_5_comp.transform(x)"
      ],
      "metadata": {
        "id": "Ne8EbeyAGGio"
      },
      "execution_count": null,
      "outputs": []
    },
    {
      "cell_type": "code",
      "source": [
        "# Create a DataFrame from the PCA-transformed data 'pca_breast_5_comp_transform'\n",
        "pca_breast_Df_5_comp = pd.DataFrame(data=pca_breast_5_comp_transform, columns=['pca 1', 'pca 2', 'pca 3', 'pca 4','pca 5'])"
      ],
      "metadata": {
        "id": "Qjhgoi8PGGio"
      },
      "execution_count": null,
      "outputs": []
    },
    {
      "cell_type": "code",
      "source": [
        "# Display the first 10 rows of the new pca_breast_DF\n",
        "pca_breast_Df_5_comp.head(10)"
      ],
      "metadata": {
        "id": "IQ6MZ2rlGGio",
        "colab": {
          "base_uri": "https://localhost:8080/",
          "height": 363
        },
        "outputId": "064ca3a8-440f-4c56-c21c-eb1dd2914e5e"
      },
      "execution_count": null,
      "outputs": [
        {
          "output_type": "execute_result",
          "data": {
            "text/plain": [
              "      pca 1      pca 2     pca 3     pca 4     pca 5\n",
              "0  9.192837   1.948583 -1.123166  3.633731 -1.195110\n",
              "1  2.387802  -3.768172 -0.529293  1.118264  0.621775\n",
              "2  5.733896  -1.075174 -0.551748  0.912083 -0.177086\n",
              "3  7.122953  10.275589 -3.232790  0.152547 -2.960878\n",
              "4  3.935302  -1.948072  1.389767  2.940639  0.546747\n",
              "5  2.380247   3.949929 -2.934877  0.941037 -1.056042\n",
              "6  2.238883  -2.690031 -1.639913  0.149340  0.040359\n",
              "7  2.143299   2.340244 -0.871947 -0.127043 -1.427437\n",
              "8  3.174924   3.391813 -3.119986 -0.601297 -1.522290\n",
              "9  6.351747   7.727174 -4.341916 -3.375202  1.710263"
            ],
            "text/html": [
              "\n",
              "  <div id=\"df-9134cc43-e12c-4f41-9071-00a86c70eaac\" class=\"colab-df-container\">\n",
              "    <div>\n",
              "<style scoped>\n",
              "    .dataframe tbody tr th:only-of-type {\n",
              "        vertical-align: middle;\n",
              "    }\n",
              "\n",
              "    .dataframe tbody tr th {\n",
              "        vertical-align: top;\n",
              "    }\n",
              "\n",
              "    .dataframe thead th {\n",
              "        text-align: right;\n",
              "    }\n",
              "</style>\n",
              "<table border=\"1\" class=\"dataframe\">\n",
              "  <thead>\n",
              "    <tr style=\"text-align: right;\">\n",
              "      <th></th>\n",
              "      <th>pca 1</th>\n",
              "      <th>pca 2</th>\n",
              "      <th>pca 3</th>\n",
              "      <th>pca 4</th>\n",
              "      <th>pca 5</th>\n",
              "    </tr>\n",
              "  </thead>\n",
              "  <tbody>\n",
              "    <tr>\n",
              "      <th>0</th>\n",
              "      <td>9.192837</td>\n",
              "      <td>1.948583</td>\n",
              "      <td>-1.123166</td>\n",
              "      <td>3.633731</td>\n",
              "      <td>-1.195110</td>\n",
              "    </tr>\n",
              "    <tr>\n",
              "      <th>1</th>\n",
              "      <td>2.387802</td>\n",
              "      <td>-3.768172</td>\n",
              "      <td>-0.529293</td>\n",
              "      <td>1.118264</td>\n",
              "      <td>0.621775</td>\n",
              "    </tr>\n",
              "    <tr>\n",
              "      <th>2</th>\n",
              "      <td>5.733896</td>\n",
              "      <td>-1.075174</td>\n",
              "      <td>-0.551748</td>\n",
              "      <td>0.912083</td>\n",
              "      <td>-0.177086</td>\n",
              "    </tr>\n",
              "    <tr>\n",
              "      <th>3</th>\n",
              "      <td>7.122953</td>\n",
              "      <td>10.275589</td>\n",
              "      <td>-3.232790</td>\n",
              "      <td>0.152547</td>\n",
              "      <td>-2.960878</td>\n",
              "    </tr>\n",
              "    <tr>\n",
              "      <th>4</th>\n",
              "      <td>3.935302</td>\n",
              "      <td>-1.948072</td>\n",
              "      <td>1.389767</td>\n",
              "      <td>2.940639</td>\n",
              "      <td>0.546747</td>\n",
              "    </tr>\n",
              "    <tr>\n",
              "      <th>5</th>\n",
              "      <td>2.380247</td>\n",
              "      <td>3.949929</td>\n",
              "      <td>-2.934877</td>\n",
              "      <td>0.941037</td>\n",
              "      <td>-1.056042</td>\n",
              "    </tr>\n",
              "    <tr>\n",
              "      <th>6</th>\n",
              "      <td>2.238883</td>\n",
              "      <td>-2.690031</td>\n",
              "      <td>-1.639913</td>\n",
              "      <td>0.149340</td>\n",
              "      <td>0.040359</td>\n",
              "    </tr>\n",
              "    <tr>\n",
              "      <th>7</th>\n",
              "      <td>2.143299</td>\n",
              "      <td>2.340244</td>\n",
              "      <td>-0.871947</td>\n",
              "      <td>-0.127043</td>\n",
              "      <td>-1.427437</td>\n",
              "    </tr>\n",
              "    <tr>\n",
              "      <th>8</th>\n",
              "      <td>3.174924</td>\n",
              "      <td>3.391813</td>\n",
              "      <td>-3.119986</td>\n",
              "      <td>-0.601297</td>\n",
              "      <td>-1.522290</td>\n",
              "    </tr>\n",
              "    <tr>\n",
              "      <th>9</th>\n",
              "      <td>6.351747</td>\n",
              "      <td>7.727174</td>\n",
              "      <td>-4.341916</td>\n",
              "      <td>-3.375202</td>\n",
              "      <td>1.710263</td>\n",
              "    </tr>\n",
              "  </tbody>\n",
              "</table>\n",
              "</div>\n",
              "    <div class=\"colab-df-buttons\">\n",
              "\n",
              "  <div class=\"colab-df-container\">\n",
              "    <button class=\"colab-df-convert\" onclick=\"convertToInteractive('df-9134cc43-e12c-4f41-9071-00a86c70eaac')\"\n",
              "            title=\"Convert this dataframe to an interactive table.\"\n",
              "            style=\"display:none;\">\n",
              "\n",
              "  <svg xmlns=\"http://www.w3.org/2000/svg\" height=\"24px\" viewBox=\"0 -960 960 960\">\n",
              "    <path d=\"M120-120v-720h720v720H120Zm60-500h600v-160H180v160Zm220 220h160v-160H400v160Zm0 220h160v-160H400v160ZM180-400h160v-160H180v160Zm440 0h160v-160H620v160ZM180-180h160v-160H180v160Zm440 0h160v-160H620v160Z\"/>\n",
              "  </svg>\n",
              "    </button>\n",
              "\n",
              "  <style>\n",
              "    .colab-df-container {\n",
              "      display:flex;\n",
              "      gap: 12px;\n",
              "    }\n",
              "\n",
              "    .colab-df-convert {\n",
              "      background-color: #E8F0FE;\n",
              "      border: none;\n",
              "      border-radius: 50%;\n",
              "      cursor: pointer;\n",
              "      display: none;\n",
              "      fill: #1967D2;\n",
              "      height: 32px;\n",
              "      padding: 0 0 0 0;\n",
              "      width: 32px;\n",
              "    }\n",
              "\n",
              "    .colab-df-convert:hover {\n",
              "      background-color: #E2EBFA;\n",
              "      box-shadow: 0px 1px 2px rgba(60, 64, 67, 0.3), 0px 1px 3px 1px rgba(60, 64, 67, 0.15);\n",
              "      fill: #174EA6;\n",
              "    }\n",
              "\n",
              "    .colab-df-buttons div {\n",
              "      margin-bottom: 4px;\n",
              "    }\n",
              "\n",
              "    [theme=dark] .colab-df-convert {\n",
              "      background-color: #3B4455;\n",
              "      fill: #D2E3FC;\n",
              "    }\n",
              "\n",
              "    [theme=dark] .colab-df-convert:hover {\n",
              "      background-color: #434B5C;\n",
              "      box-shadow: 0px 1px 3px 1px rgba(0, 0, 0, 0.15);\n",
              "      filter: drop-shadow(0px 1px 2px rgba(0, 0, 0, 0.3));\n",
              "      fill: #FFFFFF;\n",
              "    }\n",
              "  </style>\n",
              "\n",
              "    <script>\n",
              "      const buttonEl =\n",
              "        document.querySelector('#df-9134cc43-e12c-4f41-9071-00a86c70eaac button.colab-df-convert');\n",
              "      buttonEl.style.display =\n",
              "        google.colab.kernel.accessAllowed ? 'block' : 'none';\n",
              "\n",
              "      async function convertToInteractive(key) {\n",
              "        const element = document.querySelector('#df-9134cc43-e12c-4f41-9071-00a86c70eaac');\n",
              "        const dataTable =\n",
              "          await google.colab.kernel.invokeFunction('convertToInteractive',\n",
              "                                                    [key], {});\n",
              "        if (!dataTable) return;\n",
              "\n",
              "        const docLinkHtml = 'Like what you see? Visit the ' +\n",
              "          '<a target=\"_blank\" href=https://colab.research.google.com/notebooks/data_table.ipynb>data table notebook</a>'\n",
              "          + ' to learn more about interactive tables.';\n",
              "        element.innerHTML = '';\n",
              "        dataTable['output_type'] = 'display_data';\n",
              "        await google.colab.output.renderOutput(dataTable, element);\n",
              "        const docLink = document.createElement('div');\n",
              "        docLink.innerHTML = docLinkHtml;\n",
              "        element.appendChild(docLink);\n",
              "      }\n",
              "    </script>\n",
              "  </div>\n",
              "\n",
              "\n",
              "<div id=\"df-950c2020-5cfc-4702-aa9b-1c41711bedb3\">\n",
              "  <button class=\"colab-df-quickchart\" onclick=\"quickchart('df-950c2020-5cfc-4702-aa9b-1c41711bedb3')\"\n",
              "            title=\"Suggest charts\"\n",
              "            style=\"display:none;\">\n",
              "\n",
              "<svg xmlns=\"http://www.w3.org/2000/svg\" height=\"24px\"viewBox=\"0 0 24 24\"\n",
              "     width=\"24px\">\n",
              "    <g>\n",
              "        <path d=\"M19 3H5c-1.1 0-2 .9-2 2v14c0 1.1.9 2 2 2h14c1.1 0 2-.9 2-2V5c0-1.1-.9-2-2-2zM9 17H7v-7h2v7zm4 0h-2V7h2v10zm4 0h-2v-4h2v4z\"/>\n",
              "    </g>\n",
              "</svg>\n",
              "  </button>\n",
              "\n",
              "<style>\n",
              "  .colab-df-quickchart {\n",
              "      --bg-color: #E8F0FE;\n",
              "      --fill-color: #1967D2;\n",
              "      --hover-bg-color: #E2EBFA;\n",
              "      --hover-fill-color: #174EA6;\n",
              "      --disabled-fill-color: #AAA;\n",
              "      --disabled-bg-color: #DDD;\n",
              "  }\n",
              "\n",
              "  [theme=dark] .colab-df-quickchart {\n",
              "      --bg-color: #3B4455;\n",
              "      --fill-color: #D2E3FC;\n",
              "      --hover-bg-color: #434B5C;\n",
              "      --hover-fill-color: #FFFFFF;\n",
              "      --disabled-bg-color: #3B4455;\n",
              "      --disabled-fill-color: #666;\n",
              "  }\n",
              "\n",
              "  .colab-df-quickchart {\n",
              "    background-color: var(--bg-color);\n",
              "    border: none;\n",
              "    border-radius: 50%;\n",
              "    cursor: pointer;\n",
              "    display: none;\n",
              "    fill: var(--fill-color);\n",
              "    height: 32px;\n",
              "    padding: 0;\n",
              "    width: 32px;\n",
              "  }\n",
              "\n",
              "  .colab-df-quickchart:hover {\n",
              "    background-color: var(--hover-bg-color);\n",
              "    box-shadow: 0 1px 2px rgba(60, 64, 67, 0.3), 0 1px 3px 1px rgba(60, 64, 67, 0.15);\n",
              "    fill: var(--button-hover-fill-color);\n",
              "  }\n",
              "\n",
              "  .colab-df-quickchart-complete:disabled,\n",
              "  .colab-df-quickchart-complete:disabled:hover {\n",
              "    background-color: var(--disabled-bg-color);\n",
              "    fill: var(--disabled-fill-color);\n",
              "    box-shadow: none;\n",
              "  }\n",
              "\n",
              "  .colab-df-spinner {\n",
              "    border: 2px solid var(--fill-color);\n",
              "    border-color: transparent;\n",
              "    border-bottom-color: var(--fill-color);\n",
              "    animation:\n",
              "      spin 1s steps(1) infinite;\n",
              "  }\n",
              "\n",
              "  @keyframes spin {\n",
              "    0% {\n",
              "      border-color: transparent;\n",
              "      border-bottom-color: var(--fill-color);\n",
              "      border-left-color: var(--fill-color);\n",
              "    }\n",
              "    20% {\n",
              "      border-color: transparent;\n",
              "      border-left-color: var(--fill-color);\n",
              "      border-top-color: var(--fill-color);\n",
              "    }\n",
              "    30% {\n",
              "      border-color: transparent;\n",
              "      border-left-color: var(--fill-color);\n",
              "      border-top-color: var(--fill-color);\n",
              "      border-right-color: var(--fill-color);\n",
              "    }\n",
              "    40% {\n",
              "      border-color: transparent;\n",
              "      border-right-color: var(--fill-color);\n",
              "      border-top-color: var(--fill-color);\n",
              "    }\n",
              "    60% {\n",
              "      border-color: transparent;\n",
              "      border-right-color: var(--fill-color);\n",
              "    }\n",
              "    80% {\n",
              "      border-color: transparent;\n",
              "      border-right-color: var(--fill-color);\n",
              "      border-bottom-color: var(--fill-color);\n",
              "    }\n",
              "    90% {\n",
              "      border-color: transparent;\n",
              "      border-bottom-color: var(--fill-color);\n",
              "    }\n",
              "  }\n",
              "</style>\n",
              "\n",
              "  <script>\n",
              "    async function quickchart(key) {\n",
              "      const quickchartButtonEl =\n",
              "        document.querySelector('#' + key + ' button');\n",
              "      quickchartButtonEl.disabled = true;  // To prevent multiple clicks.\n",
              "      quickchartButtonEl.classList.add('colab-df-spinner');\n",
              "      try {\n",
              "        const charts = await google.colab.kernel.invokeFunction(\n",
              "            'suggestCharts', [key], {});\n",
              "      } catch (error) {\n",
              "        console.error('Error during call to suggestCharts:', error);\n",
              "      }\n",
              "      quickchartButtonEl.classList.remove('colab-df-spinner');\n",
              "      quickchartButtonEl.classList.add('colab-df-quickchart-complete');\n",
              "    }\n",
              "    (() => {\n",
              "      let quickchartButtonEl =\n",
              "        document.querySelector('#df-950c2020-5cfc-4702-aa9b-1c41711bedb3 button');\n",
              "      quickchartButtonEl.style.display =\n",
              "        google.colab.kernel.accessAllowed ? 'block' : 'none';\n",
              "    })();\n",
              "  </script>\n",
              "</div>\n",
              "\n",
              "    </div>\n",
              "  </div>\n"
            ],
            "application/vnd.google.colaboratory.intrinsic+json": {
              "type": "dataframe",
              "variable_name": "pca_breast_Df_5_comp",
              "summary": "{\n  \"name\": \"pca_breast_Df_5_comp\",\n  \"rows\": 569,\n  \"fields\": [\n    {\n      \"column\": \"pca 1\",\n      \"properties\": {\n        \"dtype\": \"number\",\n        \"std\": 3.6476006900940443,\n        \"min\": -5.565735898983986,\n        \"max\": 16.319233231032108,\n        \"num_unique_values\": 569,\n        \"samples\": [\n          -0.7811899668981162,\n          2.7045961726297256,\n          1.4320694267989047\n        ],\n        \"semantic_type\": \"\",\n        \"description\": \"\"\n      }\n    },\n    {\n      \"column\": \"pca 2\",\n      \"properties\": {\n        \"dtype\": \"number\",\n        \"std\": 2.387755138980154,\n        \"min\": -7.7758528043355355,\n        \"max\": 12.57319422855051,\n        \"num_unique_values\": 569,\n        \"samples\": [\n          0.6528492587139625,\n          -4.437141769569433,\n          -1.0496039493132978\n        ],\n        \"semantic_type\": \"\",\n        \"description\": \"\"\n      }\n    },\n    {\n      \"column\": \"pca 3\",\n      \"properties\": {\n        \"dtype\": \"number\",\n        \"std\": 1.680151824986725,\n        \"min\": -4.880361142455939,\n        \"max\": 10.112423714959224,\n        \"num_unique_values\": 569,\n        \"samples\": [\n          -0.6436569995998846,\n          0.30734538791854693,\n          -1.262011333440672\n        ],\n        \"semantic_type\": \"\",\n        \"description\": \"\"\n      }\n    },\n    {\n      \"column\": \"pca 4\",\n      \"properties\": {\n        \"dtype\": \"number\",\n        \"std\": 1.408590613957858,\n        \"min\": -5.133988335324723,\n        \"max\": 5.19426988155152,\n        \"num_unique_values\": 569,\n        \"samples\": [\n          0.21446823497290188,\n          0.48869285975712784,\n          0.5331890154744413\n        ],\n        \"semantic_type\": \"\",\n        \"description\": \"\"\n      }\n    },\n    {\n      \"column\": \"pca 5\",\n      \"properties\": {\n        \"dtype\": \"number\",\n        \"std\": 1.2851588393385567,\n        \"min\": -4.789656312007981,\n        \"max\": 7.49043365899715,\n        \"num_unique_values\": 569,\n        \"samples\": [\n          -0.4376799263614009,\n          0.37249501412833996,\n          -0.626696724647048\n        ],\n        \"semantic_type\": \"\",\n        \"description\": \"\"\n      }\n    }\n  ]\n}"
            }
          },
          "metadata": {},
          "execution_count": 109
        }
      ]
    },
    {
      "cell_type": "markdown",
      "source": [
        "#### CAFIR-10"
      ],
      "metadata": {
        "id": "C8-iwor5Ge3s"
      }
    },
    {
      "cell_type": "markdown",
      "source": [
        "##### Case 1: Number of components will be set to 2"
      ],
      "metadata": {
        "id": "7QWzGPJHGtmc"
      }
    },
    {
      "cell_type": "code",
      "source": [
        "# Initialize PCA with 2 components\n",
        "pca_cifar_2_comp = PCA(n_components=2)"
      ],
      "metadata": {
        "id": "-hO4kYRHI27J"
      },
      "execution_count": null,
      "outputs": []
    },
    {
      "cell_type": "code",
      "source": [
        "# Fit and transform the features (excluding the 'label' column) of df_cifar using PCA with 2 components\n",
        "# This reduces the dimensions of the data to 2 principal components\n",
        "pca_cifar_2_com = pca_cifar_2_comp.fit(df_cifar.iloc[:, :-1])\n",
        "\n",
        "# Transform the data into a NumPy array\n",
        "principalComponents_cifar_2 = pca_cifar_2_com.transform(df_cifar.iloc[:, :-1])"
      ],
      "metadata": {
        "id": "7LYmkxKOMRG8"
      },
      "execution_count": null,
      "outputs": []
    },
    {
      "cell_type": "code",
      "source": [
        "pca_cifar_Df_2_comp = pd.DataFrame(data = principalComponents_cifar_2\n",
        "             , columns = ['pca 1', 'pca 2'])\n",
        "pca_cifar_Df_2_comp['y'] = y_train"
      ],
      "metadata": {
        "id": "wOuszU5NUVMa"
      },
      "execution_count": null,
      "outputs": []
    },
    {
      "cell_type": "code",
      "source": [
        "# Display the first 10 rows of the DataFrame pca_breast_Df_2_comp\n",
        "pca_cifar_Df_2_comp.head(10)"
      ],
      "metadata": {
        "id": "3VeDwbTBMRd5"
      },
      "execution_count": null,
      "outputs": []
    },
    {
      "cell_type": "markdown",
      "source": [
        "##### Case 2: Number of components will be set to 3"
      ],
      "metadata": {
        "id": "PLhmOyA4Gtmv"
      }
    },
    {
      "cell_type": "code",
      "source": [
        "# Initialize PCA with 3 components0\n",
        "pca_cifar_3_comp = PCA(n_components=3)"
      ],
      "metadata": {
        "id": "aUr1eyY1Mmsd"
      },
      "execution_count": null,
      "outputs": []
    },
    {
      "cell_type": "code",
      "source": [
        "# Fit and transform the features (excluding the 'label' column) of df_cifar using PCA with 3 components\n",
        "# This reduces the dimensions of the data to 3 principal components\n",
        "pca_cifar_3_com = pca_cifar_3_comp.fit(df_cifar.iloc[:, :-1])\n",
        "\n",
        "# Transform the data into a NumPy array\n",
        "pca_cifar_Df_3_comp = pca_cifar_3_com.transform(df_cifar.iloc[:, :-1])"
      ],
      "metadata": {
        "id": "D9mT38c1Mrqu"
      },
      "execution_count": null,
      "outputs": []
    },
    {
      "cell_type": "code",
      "source": [
        "pca_cifar_Df_3_comp = pd.DataFrame(data = pca_cifar_Df_3_comp\n",
        "             , columns = ['pca 1', 'pca 2','pca3'])\n",
        "pca_cifar_Df_3_comp['y'] = y_train"
      ],
      "metadata": {
        "id": "L4Fvs7gcaRJD"
      },
      "execution_count": null,
      "outputs": []
    },
    {
      "cell_type": "code",
      "source": [
        "# Display the first 10 rows of the DataFrame pca_breast_Df_3_comp\n",
        "pca_cifar_Df_3_comp.head(10)"
      ],
      "metadata": {
        "id": "8NWl_CS_M59n"
      },
      "execution_count": null,
      "outputs": []
    },
    {
      "cell_type": "markdown",
      "source": [
        "##### Case 3: Number of components will be set to 4"
      ],
      "metadata": {
        "id": "iFT_ex37Gtmx"
      }
    },
    {
      "cell_type": "code",
      "source": [
        "# Initialize PCA with 4 components\n",
        "pca_cifar_4_comp = PCA(n_components=4)"
      ],
      "metadata": {
        "id": "lg4MtGGANa4f"
      },
      "execution_count": null,
      "outputs": []
    },
    {
      "cell_type": "code",
      "source": [
        "# Fit and transform the features (excluding the 'label' column) of df_cifar using PCA with 4 components\n",
        "# This reduces the dimensions of the data to 4 principal components\n",
        "pca_cifar_4_com = pca_cifar_4_comp.fit(df_cifar.iloc[:, :-1])\n",
        "\n",
        "# Transform the data into a NumPy array\n",
        "principalComponents_cifar_4 = pca_cifar_4_com.transform(df_cifar.iloc[:, :-1])"
      ],
      "metadata": {
        "id": "KSnJOyWhNVxh"
      },
      "execution_count": null,
      "outputs": []
    },
    {
      "cell_type": "code",
      "source": [
        "pca_cifar_Df_4_comp = pd.DataFrame(data = principalComponents_cifar_4\n",
        "             , columns = ['pca 1', 'pca 2','pca3','pca4'])\n",
        "pca_cifar_Df_4_comp['y'] = y_train"
      ],
      "metadata": {
        "id": "sMTKpLtIaxQ4"
      },
      "execution_count": null,
      "outputs": []
    },
    {
      "cell_type": "code",
      "source": [
        "# Display the first 10 rows of the DataFrame pca_breast_Df_4_comp\n",
        "pca_cifar_Df_4_comp.head(10)"
      ],
      "metadata": {
        "id": "TGlTxQuANSoW"
      },
      "execution_count": null,
      "outputs": []
    },
    {
      "cell_type": "markdown",
      "source": [
        "##### Case 4: Number of components will be set to 5"
      ],
      "metadata": {
        "id": "Md1bWLoSGtmy"
      }
    },
    {
      "cell_type": "code",
      "source": [
        "# Initialize PCA with 5 components\n",
        "pca_cifar_5_comp = PCA(n_components=5)"
      ],
      "metadata": {
        "id": "S8HVbCVHNh4C"
      },
      "execution_count": null,
      "outputs": []
    },
    {
      "cell_type": "code",
      "source": [
        "# Case 4: Number of components\n",
        "pca_cifar_5_comp = PCA(n_components=5)\n",
        "# Fit and transform the features with 5 components\n",
        "pca_cifar_5_com = pca_cifar_5_comp.fit(df_cifar.iloc[:, :-1])\n",
        "\n",
        "# Transform the data into a NumPy array\n",
        "principalComponents_cifar_5 = pca_cifar_5_com.transform(df_cifar.iloc[:, :-1])"
      ],
      "metadata": {
        "id": "2_16l3EuNjpM"
      },
      "execution_count": null,
      "outputs": []
    },
    {
      "cell_type": "code",
      "source": [
        "pca_cifar_Df_5_comp = pd.DataFrame(data = principalComponents_cifar_5\n",
        "             , columns = ['pca 1', 'pca 2','pca3','pca4','pca5'])\n",
        "pca_cifar_Df_5_comp['y'] = y_train"
      ],
      "metadata": {
        "id": "gvlgeaLCa8wy"
      },
      "execution_count": null,
      "outputs": []
    },
    {
      "cell_type": "code",
      "source": [
        "# Display the first 10 rows of the DataFrame pca_breast_Df_5_comp\n",
        "pca_cifar_Df_5_comp.head(10)"
      ],
      "metadata": {
        "id": "MUCD_5xUNqml"
      },
      "execution_count": null,
      "outputs": []
    },
    {
      "cell_type": "markdown",
      "source": [
        "### Task 2"
      ],
      "metadata": {
        "id": "Mt5LtRqNOSIb"
      }
    },
    {
      "cell_type": "markdown",
      "source": [
        "#### Breast Cancer"
      ],
      "metadata": {
        "id": "UYhFge99RDCM"
      }
    },
    {
      "cell_type": "markdown",
      "source": [
        "##### Case 1"
      ],
      "metadata": {
        "id": "2XGim673RJNs"
      }
    },
    {
      "cell_type": "code",
      "source": [
        "explained_variance_ratio_breast_cancer_case1 = pca_breast_2_comp.explained_variance_ratio_\n",
        "\n",
        "# Calculate percentage of information lost for Case 1\n",
        "info_lost_percentage_breast_cancer_case1 = 1 - np.sum(explained_variance_ratio_breast_cancer_case1)\n",
        "\n",
        "# Plot bar chart for explained variance ratio\n",
        "plt.figure(figsize=(8, 6))\n",
        "plt.bar(['PCA 1', 'PCA 2'], explained_variance_ratio_breast_cancer_case1)\n",
        "plt.title('Explained Variance Ratio(Breast Cancer)')\n",
        "plt.xlabel('Principal Components')\n",
        "plt.ylabel('Explained Variance Ratio')\n",
        "plt.xticks(rotation=45)\n",
        "plt.show()\n",
        "\n",
        "# Plot bar chart for percentage of information lost\n",
        "plt.figure(figsize=(8, 6))\n",
        "plt.bar(['Case 1'], info_lost_percentage_breast_cancer_case1)\n",
        "plt.title('Percentage of Information Lost(Breast Cancer)')\n",
        "plt.xlabel('Case')\n",
        "plt.ylabel('Percentage of Information Lost')\n",
        "plt.show()"
      ],
      "metadata": {
        "colab": {
          "base_uri": "https://localhost:8080/",
          "height": 1000
        },
        "id": "HTNalZmaRFFI",
        "outputId": "ca83d5bb-8ae9-4012-8d72-bd14140d0f70"
      },
      "execution_count": null,
      "outputs": [
        {
          "output_type": "display_data",
          "data": {
            "text/plain": [
              "<Figure size 800x600 with 1 Axes>"
            ],
            "image/png": "[encoded data removed]"
          },
          "metadata": {}
        },
        {
          "output_type": "display_data",
          "data": {
            "text/plain": [
              "<Figure size 800x600 with 1 Axes>"
            ],
            "image/png": "[encoded data removed]"
          },
          "metadata": {}
        }
      ]
    },
    {
      "cell_type": "code",
      "source": [
        "print('Explained variation per principal component for breast cancer 2 components: {}'.format(explained_variance_ratio_breast_cancer_case1))"
      ],
      "metadata": {
        "colab": {
          "base_uri": "https://localhost:8080/"
        },
        "id": "-BNk9ncikSIO",
        "outputId": "2e2f5679-dc68-4423-9a68-3b2e815caf00"
      },
      "execution_count": null,
      "outputs": [
        {
          "output_type": "stream",
          "name": "stdout",
          "text": [
            "Explained variation per principal component for breast cancer 2 components: [0.44272026 0.18971182]\n"
          ]
        }
      ]
    },
    {
      "cell_type": "markdown",
      "source": [
        "##### Case 2"
      ],
      "metadata": {
        "id": "L2mfhV3hRQmo"
      }
    },
    {
      "cell_type": "code",
      "source": [
        "explained_variance_ratio_breast_cancer_case2 = pca_breast_3_comp.explained_variance_ratio_\n",
        "\n",
        "# Calculate percentage of information lost for Case 2\n",
        "info_lost_percentage_breast_cancer_case2 = 1 - np.sum(explained_variance_ratio_breast_cancer_case2)\n",
        "\n",
        "# Plot bar chart for explained variance ratio\n",
        "plt.figure(figsize=(8, 6))\n",
        "plt.bar(['PCA 1', 'PCA 2','PCA 3'], explained_variance_ratio_breast_cancer_case2)\n",
        "plt.title('Explained Variance Ratio(Breast Cancer)')\n",
        "plt.xlabel('Principal Components')\n",
        "plt.ylabel('Explained Variance Ratio')\n",
        "plt.xticks(rotation=45)\n",
        "plt.show()\n",
        "\n",
        "# Plot bar chart for percentage of information lost\n",
        "plt.figure(figsize=(8, 6))\n",
        "plt.bar(['Case 1'], info_lost_percentage_breast_cancer_case2)\n",
        "plt.title('Percentage of Information Lost(Breast Cancer)')\n",
        "plt.xlabel('Case')\n",
        "plt.ylabel('Percentage of Information Lost')\n",
        "plt.show()"
      ],
      "metadata": {
        "colab": {
          "base_uri": "https://localhost:8080/"
        },
        "outputId": "092281dc-8985-4e10-84e1-3b2a1f4ef5ba",
        "id": "2CTFGMztkcdg"
      },
      "execution_count": null,
      "outputs": [
        {
          "output_type": "display_data",
          "data": {
            "text/plain": [
              "<Figure size 800x600 with 1 Axes>"
            ],
            "image/png": "[encoded data removed]"
          },
          "metadata": {}
        },
        {
          "output_type": "display_data",
          "data": {
            "text/plain": [
              "<Figure size 800x600 with 1 Axes>"
            ],
            "image/png": "[encoded data removed]"
          },
          "metadata": {}
        }
      ]
    },
    {
      "cell_type": "code",
      "source": [
        "print('Explained variation per principal component for breast cancer 3 components: {}'.format(explained_variance_ratio_breast_cancer_case2))"
      ],
      "metadata": {
        "colab": {
          "base_uri": "https://localhost:8080/"
        },
        "outputId": "05a744af-83d6-4db9-e165-5b5efd66ead4",
        "id": "hiPf4wyHkcdh"
      },
      "execution_count": null,
      "outputs": [
        {
          "output_type": "stream",
          "name": "stdout",
          "text": [
            "Explained variation per principal component for breast cancer 3 components: [0.44272026 0.18971182 0.09393163]\n"
          ]
        }
      ]
    },
    {
      "cell_type": "markdown",
      "source": [
        "##### Case 3"
      ],
      "metadata": {
        "id": "rsIM6tCmRQv5"
      }
    },
    {
      "cell_type": "code",
      "source": [
        "explained_variance_ratio_breast_cancer_case3 = pca_breast_4_comp.explained_variance_ratio_\n",
        "\n",
        "# Calculate percentage of information lost for Case 3\n",
        "info_lost_percentage_breast_cancer_case3 = 1 - np.sum(explained_variance_ratio_breast_cancer_case3)\n",
        "\n",
        "# Plot bar chart for explained variance ratio\n",
        "plt.figure(figsize=(8, 6))\n",
        "plt.bar(['PCA 1', 'PCA 2','PCA 3','PCA 4'], explained_variance_ratio_breast_cancer_case3)\n",
        "plt.title('Explained Variance Ratio(Breast Cancer)')\n",
        "plt.xlabel('Principal Components')\n",
        "plt.ylabel('Explained Variance Ratio')\n",
        "plt.xticks(rotation=45)\n",
        "plt.show()\n",
        "\n",
        "# Plot bar chart for percentage of information lost\n",
        "plt.figure(figsize=(8, 6))\n",
        "plt.bar(['Case 1'], info_lost_percentage_breast_cancer_case3)\n",
        "plt.title('Percentage of Information Lost(Breast Cancer)')\n",
        "plt.xlabel('Case')\n",
        "plt.ylabel('Percentage of Information Lost')\n",
        "plt.show()"
      ],
      "metadata": {
        "colab": {
          "base_uri": "https://localhost:8080/"
        },
        "outputId": "3fc3d66c-b99c-4d35-bc9e-cbbaa7bae3c1",
        "id": "uPOZN1pVmUWA"
      },
      "execution_count": null,
      "outputs": [
        {
          "output_type": "display_data",
          "data": {
            "text/plain": [
              "<Figure size 800x600 with 1 Axes>"
            ],
            "image/png": "[encoded data removed]"
          },
          "metadata": {}
        },
        {
          "output_type": "display_data",
          "data": {
            "text/plain": [
              "<Figure size 800x600 with 1 Axes>"
            ],
            "image/png": "[encoded data removed]"
          },
          "metadata": {}
        }
      ]
    },
    {
      "cell_type": "code",
      "source": [
        "print('Explained variation per principal component for breast cancer 4 components: {}'.format(explained_variance_ratio_breast_cancer_case3))"
      ],
      "metadata": {
        "colab": {
          "base_uri": "https://localhost:8080/"
        },
        "outputId": "62bdaa7f-b288-4730-d2d7-ed46b0355b7a",
        "id": "SDI0QOoVmUWV"
      },
      "execution_count": null,
      "outputs": [
        {
          "output_type": "stream",
          "name": "stdout",
          "text": [
            "Explained variation per principal component for breast cancer 4 components: [0.44272026 0.18971182 0.09393163 0.06602135]\n"
          ]
        }
      ]
    },
    {
      "cell_type": "markdown",
      "source": [
        "##### Case 4"
      ],
      "metadata": {
        "id": "Xh4N7F-URQ3d"
      }
    },
    {
      "cell_type": "code",
      "source": [
        "explained_variance_ratio_breast_cancer_case4 = pca_breast_5_comp.explained_variance_ratio_\n",
        "\n",
        "# Calculate percentage of information lost for Case 4\n",
        "info_lost_percentage_breast_cancer_case4 = 1 - np.sum(explained_variance_ratio_breast_cancer_case4)\n",
        "\n",
        "# Plot bar chart for explained variance ratio\n",
        "plt.figure(figsize=(8, 6))\n",
        "plt.bar(['PCA 1', 'PCA 2','PCA 3','PCA 4','PCA 5'], explained_variance_ratio_breast_cancer_case4)\n",
        "plt.title('Explained Variance Ratio(Breast Cancer)')\n",
        "plt.xlabel('Principal Components')\n",
        "plt.ylabel('Explained Variance Ratio')\n",
        "plt.xticks(rotation=45)\n",
        "plt.show()\n",
        "\n",
        "# Plot bar chart for percentage of information lost\n",
        "plt.figure(figsize=(8, 6))\n",
        "plt.bar(['Case 1'], info_lost_percentage_breast_cancer_case4)\n",
        "plt.title('Percentage of Information Lost(Breast Cancer)')\n",
        "plt.xlabel('Case')\n",
        "plt.ylabel('Percentage of Information Lost')\n",
        "plt.show()"
      ],
      "metadata": {
        "colab": {
          "base_uri": "https://localhost:8080/"
        },
        "outputId": "39e5a3a3-9255-4c20-e09a-7c3aa9719051",
        "id": "6cR3YgAalZ0b"
      },
      "execution_count": null,
      "outputs": [
        {
          "output_type": "display_data",
          "data": {
            "text/plain": [
              "<Figure size 800x600 with 1 Axes>"
            ],
            "image/png": "[encoded data removed]"
          },
          "metadata": {}
        },
        {
          "output_type": "display_data",
          "data": {
            "text/plain": [
              "<Figure size 800x600 with 1 Axes>"
            ],
            "image/png": "[encoded data removed]"
          },
          "metadata": {}
        }
      ]
    },
    {
      "cell_type": "code",
      "source": [
        "print('Explained variation per principal component for breast cancer 5 components: {}'.format(explained_variance_ratio_breast_cancer_case4))"
      ],
      "metadata": {
        "colab": {
          "base_uri": "https://localhost:8080/"
        },
        "outputId": "4d919366-a12f-45db-bd92-f75f2ebb6d2b",
        "id": "bXJGJMfdlZ0k"
      },
      "execution_count": null,
      "outputs": [
        {
          "output_type": "stream",
          "name": "stdout",
          "text": [
            "Explained variation per principal component for breast cancer 5 components: [0.44272026 0.18971182 0.09393163 0.06602135 0.05495768]\n"
          ]
        }
      ]
    },
    {
      "cell_type": "markdown",
      "source": [
        "#### CAFIR-10"
      ],
      "metadata": {
        "id": "ZsmYS97CRCMg"
      }
    },
    {
      "cell_type": "markdown",
      "source": [
        "##### Case 1"
      ],
      "metadata": {
        "id": "DdkTr5tlRVx9"
      }
    },
    {
      "cell_type": "code",
      "source": [
        "explained_variance_ratio_cifar10_case1 = pca_cifar_2_com.explained_variance_ratio_\n",
        "\n",
        "# Calculate percentage of information lost for Case 1\n",
        "info_lost_percentage_cifar10_case1 = 1 - np.sum(explained_variance_ratio_cifar10_case1)\n",
        "\n",
        "# Plot bar chart for explained variance ratio\n",
        "plt.figure(figsize=(8, 6))\n",
        "plt.bar(['PCA 1', 'PCA 2'], explained_variance_ratio_cifar10_case1)\n",
        "plt.title('Explained Variance Ratio(CIFAR-10)')\n",
        "plt.xlabel('Principal Components')\n",
        "plt.ylabel('Explained Variance Ratio')\n",
        "plt.xticks(rotation=45)\n",
        "plt.show()\n",
        "\n",
        "# Plot bar chart for percentage of information lost\n",
        "plt.figure(figsize=(8, 6))\n",
        "plt.bar(['Case 1'], info_lost_percentage_cifar10_case1)\n",
        "plt.title('Percentage of Information Lost(CIFAR-10)')\n",
        "plt.xlabel('Case')\n",
        "plt.ylabel('Percentage of Information Lost')\n",
        "plt.show()\n"
      ],
      "metadata": {
        "colab": {
          "base_uri": "https://localhost:8080/"
        },
        "id": "s9nZUiZMT0iF",
        "outputId": "e689174f-bf24-4108-8fee-c1a6152fbf2c"
      },
      "execution_count": null,
      "outputs": [
        {
          "output_type": "display_data",
          "data": {
            "text/plain": [
              "<Figure size 800x600 with 1 Axes>"
            ],
            "image/png": "[encoded data removed]"
          },
          "metadata": {}
        },
        {
          "output_type": "display_data",
          "data": {
            "text/plain": [
              "<Figure size 800x600 with 1 Axes>"
            ],
            "image/png": "[encoded data removed]"
          },
          "metadata": {}
        }
      ]
    },
    {
      "cell_type": "code",
      "source": [
        "print('Explained variation per principal component for CIFAR 4 components: {}'.format(explained_variance_ratio_cifar10_case1))"
      ],
      "metadata": {
        "id": "vClhHIB2RVx9",
        "colab": {
          "base_uri": "https://localhost:8080/"
        },
        "outputId": "f9f4bcc1-dabf-4f25-ad08-2981f7d6bc1b"
      },
      "execution_count": null,
      "outputs": [
        {
          "output_type": "stream",
          "name": "stdout",
          "text": [
            "Explained variation per principal component for CIFAR 4 components: [0.2907663  0.11253144]\n"
          ]
        }
      ]
    },
    {
      "cell_type": "markdown",
      "source": [
        "##### Case 2"
      ],
      "metadata": {
        "id": "0hTVVZPyRV3W"
      }
    },
    {
      "cell_type": "code",
      "source": [
        "explained_variance_ratio_cifar10_case2 = pca_cifar_3_com.explained_variance_ratio_\n",
        "\n",
        "# Calculate percentage of information lost for Case 1\n",
        "info_lost_percentage_cifar10_case2 = 1 - np.sum(explained_variance_ratio_cifar10_case2)\n",
        "\n",
        "# Plot bar chart for explained variance ratio\n",
        "plt.figure(figsize=(8, 6))\n",
        "plt.bar(['PCA 1', 'PCA 2','PCA 3'], explained_variance_ratio_cifar10_case2)\n",
        "plt.title('Explained Variance Ratio(CIFAR-10)')\n",
        "plt.xlabel('Principal Components')\n",
        "plt.ylabel('Explained Variance Ratio')\n",
        "plt.xticks(rotation=45)\n",
        "plt.show()\n",
        "\n",
        "# Plot bar chart for percentage of information lost\n",
        "plt.figure(figsize=(8, 6))\n",
        "plt.bar(['Case 1'], info_lost_percentage_cifar10_case2)\n",
        "plt.title('Percentage of Information Lost(CIFAR-10)')\n",
        "plt.xlabel('Case')\n",
        "plt.ylabel('Percentage of Information Lost')\n",
        "plt.show()\n"
      ],
      "metadata": {
        "colab": {
          "base_uri": "https://localhost:8080/"
        },
        "outputId": "29327fe2-3239-4302-e45c-5da4ac70da07",
        "id": "_VMX2lvhfum3"
      },
      "execution_count": null,
      "outputs": [
        {
          "output_type": "display_data",
          "data": {
            "text/plain": [
              "<Figure size 800x600 with 1 Axes>"
            ],
            "image/png": "[encoded data removed]"
          },
          "metadata": {}
        },
        {
          "output_type": "display_data",
          "data": {
            "text/plain": [
              "<Figure size 800x600 with 1 Axes>"
            ],
            "image/png": "[encoded data removed]"
          },
          "metadata": {}
        }
      ]
    },
    {
      "cell_type": "code",
      "source": [
        "print('Explained variation per principal component for CIFAR 3 components: {}'.format(explained_variance_ratio_cifar10_case2))"
      ],
      "metadata": {
        "colab": {
          "base_uri": "https://localhost:8080/"
        },
        "outputId": "05a83aa6-7c2b-41bb-ed79-993ab0d0926c",
        "id": "9tOtAghnfunO"
      },
      "execution_count": null,
      "outputs": [
        {
          "output_type": "stream",
          "name": "stdout",
          "text": [
            "Explained variation per principal component for CIFAR 3 components: [0.2907663  0.11253144 0.06694414]\n"
          ]
        }
      ]
    },
    {
      "cell_type": "markdown",
      "source": [
        "##### Case 3"
      ],
      "metadata": {
        "id": "wp3ZEaF1RWBI"
      }
    },
    {
      "cell_type": "code",
      "source": [
        "explained_variance_ratio_cifar10_case3 = pca_cifar_4_com.explained_variance_ratio_\n",
        "\n",
        "# Calculate percentage of information lost for Case 1\n",
        "info_lost_percentage_cifar10_case3 = 1 - np.sum(explained_variance_ratio_cifar10_case3)\n",
        "\n",
        "# Plot bar chart for explained variance ratio\n",
        "plt.figure(figsize=(8, 6))\n",
        "plt.bar(['PCA 1', 'PCA 2','PCA 3','PCA 4'], explained_variance_ratio_cifar10_case3)\n",
        "plt.title('Explained Variance Ratio(CIFAR-10)')\n",
        "plt.xlabel('Principal Components')\n",
        "plt.ylabel('Explained Variance Ratio')\n",
        "plt.xticks(rotation=45)\n",
        "plt.show()\n",
        "\n",
        "# Plot bar chart for percentage of information lost\n",
        "plt.figure(figsize=(8, 6))\n",
        "plt.bar(['Case 1'], info_lost_percentage_cifar10_case3)\n",
        "plt.title('Percentage of Information Lost(CIFAR-10)')\n",
        "plt.xlabel('Case')\n",
        "plt.ylabel('Percentage of Information Lost')\n",
        "plt.show()\n"
      ],
      "metadata": {
        "colab": {
          "base_uri": "https://localhost:8080/"
        },
        "outputId": "5845e2b6-e63d-4f0d-9ac8-f9479865f054",
        "id": "VBJOOeICgtpI"
      },
      "execution_count": null,
      "outputs": [
        {
          "output_type": "display_data",
          "data": {
            "text/plain": [
              "<Figure size 800x600 with 1 Axes>"
            ],
            "image/png": "[encoded data removed]"
          },
          "metadata": {}
        },
        {
          "output_type": "display_data",
          "data": {
            "text/plain": [
              "<Figure size 800x600 with 1 Axes>"
            ],
            "image/png": "[encoded data removed]"
          },
          "metadata": {}
        }
      ]
    },
    {
      "cell_type": "code",
      "source": [
        "print('Explained variation per principal component for CIFAR 4 components: {}'.format(explained_variance_ratio_cifar10_case3))"
      ],
      "metadata": {
        "colab": {
          "base_uri": "https://localhost:8080/"
        },
        "outputId": "25532ffe-cc36-4686-b37b-0897f8a2cedb",
        "id": "dNoi8T_8gtpg"
      },
      "execution_count": null,
      "outputs": [
        {
          "output_type": "stream",
          "name": "stdout",
          "text": [
            "Explained variation per principal component for CIFAR 4 components: [0.2907663  0.11253144 0.06694414 0.03676459]\n"
          ]
        }
      ]
    },
    {
      "cell_type": "markdown",
      "source": [
        "##### Case 4"
      ],
      "metadata": {
        "id": "nrvrThHiRWHb"
      }
    },
    {
      "cell_type": "code",
      "source": [
        "explained_variance_ratio_cifar10_case4 = pca_cifar_5_com.explained_variance_ratio_\n",
        "\n",
        "# Calculate percentage of information lost for Case 1\n",
        "info_lost_percentage_cifar10_case4 = 1 - np.sum(explained_variance_ratio_cifar10_case4)\n",
        "\n",
        "\n",
        "# Plot bar chart for explained variance ratio\n",
        "plt.figure(figsize=(8, 6))\n",
        "plt.bar(['PCA 1', 'PCA 2','PCA 3','PCA 4','PCA 5'], explained_variance_ratio_cifar10_case4)\n",
        "plt.title('Explained Variance Ratio(CIFAR-10)')\n",
        "plt.xlabel('Principal Components')\n",
        "plt.ylabel('Explained Variance Ratio')\n",
        "plt.xticks(rotation=45)\n",
        "plt.show()\n",
        "\n",
        "# Plot bar chart for percentage of information lost\n",
        "plt.figure(figsize=(8, 6))\n",
        "plt.bar(['Case 1'], info_lost_percentage_cifar10_case4)\n",
        "plt.title('Percentage of Information Lost(CIFAR-10)')\n",
        "plt.xlabel('Case')\n",
        "plt.ylabel('Percentage of Information Lost')\n",
        "plt.show()\n"
      ],
      "metadata": {
        "colab": {
          "base_uri": "https://localhost:8080/"
        },
        "outputId": "eca1c7b4-8d9d-43d7-9116-57c72843f21e",
        "id": "2xXi_2RdfFT7"
      },
      "execution_count": null,
      "outputs": [
        {
          "output_type": "display_data",
          "data": {
            "text/plain": [
              "<Figure size 800x600 with 1 Axes>"
            ],
            "image/png": "[encoded data removed]"
          },
          "metadata": {}
        },
        {
          "output_type": "display_data",
          "data": {
            "text/plain": [
              "<Figure size 800x600 with 1 Axes>"
            ],
            "image/png": "[encoded data removed]"
          },
          "metadata": {}
        }
      ]
    },
    {
      "cell_type": "code",
      "source": [
        "print('Explained variation per principal component for CIFAR 5 components: {}'.format(explained_variance_ratio_cifar10_case4))"
      ],
      "metadata": {
        "colab": {
          "base_uri": "https://localhost:8080/"
        },
        "id": "u4DM0xzZg_v_",
        "outputId": "588976b3-cab3-48ff-daa0-8b74e4c67905"
      },
      "execution_count": null,
      "outputs": [
        {
          "output_type": "stream",
          "name": "stdout",
          "text": [
            "Explained variation per principal component for CIFAR 5 components: [0.2907663  0.11253144 0.06694414 0.03676459 0.03608843]\n"
          ]
        }
      ]
    },
    {
      "cell_type": "markdown",
      "source": [],
      "metadata": {
        "id": "rVl9l0Wdm0Z4"
      }
    },
    {
      "cell_type": "markdown",
      "source": [
        "### Task 3"
      ],
      "metadata": {
        "id": "KCLjwQJ0m2J8"
      }
    },
    {
      "cell_type": "markdown",
      "source": [
        "#### CIFAR10"
      ],
      "metadata": {
        "id": "ypa3J2I4no24"
      }
    },
    {
      "cell_type": "markdown",
      "source": [
        "##### Case 1: PCA will hold 90% of the variance"
      ],
      "metadata": {
        "id": "Le4MgXpdno3P"
      }
    },
    {
      "cell_type": "code",
      "source": [
        "cifar10_x_test_case_1 = cifar10_x_test/255.0\n",
        "cifar10_x_test_case_1 = cifar10_x_test_case_1.reshape(-1,32,32,3)\n",
        "cifar10_x_test_flat_case_1 = cifar10_x_test_case_1.reshape(-1,3072)"
      ],
      "metadata": {
        "id": "O3P9UeJNHXNI"
      },
      "execution_count": null,
      "outputs": []
    },
    {
      "cell_type": "code",
      "source": [
        "# Assuming cifar10_x_train_flat and cifar10_x_test_flat_case_1 are defined and contain the flattened CIFAR-10 training and test data\n",
        "# Also, assuming cifar10_y_train and cifar10_y_test are defined and contain the target labels\n",
        "\n",
        "# PCA for train data\n",
        "pca = PCA(0.9)\n",
        "pca.fit(cifar10_x_train_flat)\n",
        "\n",
        "train_img_pca = pca.transform(cifar10_x_train_flat)\n",
        "test_img_pca = pca.transform(cifar10_x_test_flat_case_1)\n",
        "\n",
        "# One-hot encode the target labels\n",
        "from keras.utils import to_categorical\n",
        "y_train_categorical = to_categorical(cifar10_y_train)\n",
        "y_test_categorical = to_categorical(cifar10_y_test)\n",
        "\n",
        "\n",
        "# Define the model\n",
        "model = Sequential()\n",
        "model.add(Dense(1024, activation='relu', input_shape=(train_img_pca.shape[1],)))  # Use the shape of the PCA-transformed data\n",
        "model.add(Dense(1024, activation='relu'))\n",
        "model.add(Dense(512, activation='relu'))\n",
        "model.add(Dense(256, activation='relu'))\n",
        "model.add(Dense(10, activation='softmax'))\n",
        "\n",
        "\n",
        "start_time = time.time()\n",
        "\n",
        "# Compile and train the model\n",
        "model.compile(loss='categorical_crossentropy', optimizer='RMSprop', metrics=['accuracy'])\n",
        "history = model.fit(train_img_pca, y_train_categorical, batch_size=64, epochs=5, verbose=1, validation_data=(test_img_pca, y_test_categorical))"
      ],
      "metadata": {
        "colab": {
          "base_uri": "https://localhost:8080/"
        },
        "id": "ieOvwROre_z2",
        "outputId": "d004f65e-cba0-4f09-a4e2-6d05526fa800"
      },
      "execution_count": null,
      "outputs": [
        {
          "output_type": "stream",
          "name": "stdout",
          "text": [
            "Epoch 1/5\n",
            "782/782 [==============================] - 58s 73ms/step - loss: 1.6004 - accuracy: 0.4341 - val_loss: 1.4572 - val_accuracy: 0.4849\n",
            "Epoch 2/5\n",
            "782/782 [==============================] - 35s 45ms/step - loss: 1.3032 - accuracy: 0.5387 - val_loss: 1.3966 - val_accuracy: 0.5197\n",
            "Epoch 3/5\n",
            "782/782 [==============================] - 34s 43ms/step - loss: 1.1385 - accuracy: 0.5951 - val_loss: 1.3679 - val_accuracy: 0.5287\n",
            "Epoch 4/5\n",
            "782/782 [==============================] - 37s 48ms/step - loss: 0.9964 - accuracy: 0.6470 - val_loss: 1.3682 - val_accuracy: 0.5488\n",
            "Epoch 5/5\n",
            "782/782 [==============================] - 35s 44ms/step - loss: 0.8691 - accuracy: 0.6911 - val_loss: 1.4755 - val_accuracy: 0.5478\n"
          ]
        }
      ]
    },
    {
      "cell_type": "code",
      "source": [
        "# Calcuate the time to get how many minutes takes to train the model without using PCA           #scsc\n",
        "training_time = (time.time() - start_time)/60\n",
        "print(f\"model training time: {training_time:.2f} mins\")"
      ],
      "metadata": {
        "colab": {
          "base_uri": "https://localhost:8080/"
        },
        "id": "bMry5dTUuMUT",
        "outputId": "ee1a8862-5168-4fa7-99c3-15d055c9165c"
      },
      "execution_count": null,
      "outputs": [
        {
          "output_type": "stream",
          "name": "stdout",
          "text": [
            "model training time: 3.38 mins\n"
          ]
        }
      ]
    },
    {
      "cell_type": "markdown",
      "source": [
        "##### Case 2: PCA will hold 80% of the variance"
      ],
      "metadata": {
        "id": "RdvYVQY4no3Q"
      }
    },
    {
      "cell_type": "code",
      "source": [
        "cifar10_x_test_case_2 = cifar10_x_test/255.0\n",
        "cifar10_x_test_case_2 = cifar10_x_test_case_2.reshape(-1,32,32,3)\n",
        "cifar10_x_test_flat_case_2 = cifar10_x_test_case_2.reshape(-1,3072)"
      ],
      "metadata": {
        "id": "n2J7P314h9h1"
      },
      "execution_count": null,
      "outputs": []
    },
    {
      "cell_type": "code",
      "source": [
        "# Assuming cifar10_x_train_flat and cifar10_x_test_flat_case_1 are defined and contain the flattened CIFAR-10 training and test data\n",
        "# Also, assuming cifar10_y_train and cifar10_y_test are defined and contain the target labels\n",
        "\n",
        "# PCA for train data\n",
        "pca = PCA(0.8)\n",
        "pca.fit(cifar10_x_train_flat)\n",
        "\n",
        "train_img_pca = pca.transform(cifar10_x_train_flat)\n",
        "test_img_pca = pca.transform(cifar10_x_test_flat_case_2)\n",
        "\n",
        "\n",
        "# Define the model\n",
        "model = Sequential()\n",
        "model.add(Dense(1024, activation='relu', input_shape=(train_img_pca.shape[1],)))  # Use the shape of the PCA-transformed data\n",
        "model.add(Dense(1024, activation='relu'))\n",
        "model.add(Dense(512, activation='relu'))\n",
        "model.add(Dense(256, activation='relu'))\n",
        "model.add(Dense(10, activation='softmax'))\n",
        "\n",
        "start_time = time.time()\n",
        "\n",
        "# Compile and train the model\n",
        "model.compile(loss='categorical_crossentropy', optimizer='RMSprop', metrics=['accuracy'])\n",
        "history = model.fit(train_img_pca, y_train_categorical, batch_size=64, epochs=5, verbose=1, validation_data=(test_img_pca, y_test_categorical))\n"
      ],
      "metadata": {
        "colab": {
          "base_uri": "https://localhost:8080/"
        },
        "outputId": "aebb99c8-8a27-4c3b-c54a-7b6564c6ebdf",
        "id": "Lvb4X6gBh9iN"
      },
      "execution_count": null,
      "outputs": [
        {
          "output_type": "stream",
          "name": "stdout",
          "text": [
            "Epoch 1/5\n",
            "782/782 [==============================] - 36s 45ms/step - loss: 1.6454 - accuracy: 0.4168 - val_loss: 1.5654 - val_accuracy: 0.4657\n",
            "Epoch 2/5\n",
            "782/782 [==============================] - 34s 44ms/step - loss: 1.4226 - accuracy: 0.4965 - val_loss: 1.4756 - val_accuracy: 0.4798\n",
            "Epoch 3/5\n",
            "782/782 [==============================] - 36s 46ms/step - loss: 1.3196 - accuracy: 0.5334 - val_loss: 1.4430 - val_accuracy: 0.4985\n",
            "Epoch 4/5\n",
            "782/782 [==============================] - 36s 47ms/step - loss: 1.2440 - accuracy: 0.5561 - val_loss: 1.4391 - val_accuracy: 0.5117\n",
            "Epoch 5/5\n",
            "782/782 [==============================] - 35s 45ms/step - loss: 1.1674 - accuracy: 0.5833 - val_loss: 1.4984 - val_accuracy: 0.5116\n"
          ]
        }
      ]
    },
    {
      "cell_type": "code",
      "source": [
        "# Calcuate the time to get how many minutes takes to train the model without using PCA           #scsc\n",
        "training_time = (time.time() - start_time)/60\n",
        "print(f\"model training time: {training_time:.2f} mins\")"
      ],
      "metadata": {
        "colab": {
          "base_uri": "https://localhost:8080/"
        },
        "id": "hxr7uY62uVxJ",
        "outputId": "08b7c90b-8fc5-40f4-c60e-9ca8e7864cad"
      },
      "execution_count": null,
      "outputs": [
        {
          "output_type": "stream",
          "name": "stdout",
          "text": [
            "model training time: 2.96 mins\n"
          ]
        }
      ]
    },
    {
      "cell_type": "markdown",
      "source": [
        "##### Case 3: PCA will hold 70% of the variance"
      ],
      "metadata": {
        "id": "f9m4uBoPno3Q"
      }
    },
    {
      "cell_type": "code",
      "source": [
        "cifar10_x_test_case_3 = cifar10_x_test/255.0\n",
        "cifar10_x_test_case_3 = cifar10_x_test_case_3.reshape(-1,32,32,3)\n",
        "cifar10_x_test_flat_case_3 = cifar10_x_test_case_3.reshape(-1,3072)"
      ],
      "metadata": {
        "id": "c2lOzWLbjIRR"
      },
      "execution_count": null,
      "outputs": []
    },
    {
      "cell_type": "code",
      "source": [
        "# Assuming cifar10_x_train_flat and cifar10_x_test_flat_case_1 are defined and contain the flattened CIFAR-10 training and test data\n",
        "# Also, assuming cifar10_y_train and cifar10_y_test are defined and contain the target labels\n",
        "\n",
        "# PCA for train data\n",
        "pca = PCA(0.7)\n",
        "pca.fit(cifar10_x_train_flat)\n",
        "\n",
        "train_img_pca = pca.transform(cifar10_x_train_flat)\n",
        "test_img_pca = pca.transform(cifar10_x_test_flat_case_2)\n",
        "\n",
        "\n",
        "# Define the model\n",
        "model = Sequential()\n",
        "model.add(Dense(1024, activation='relu', input_shape=(train_img_pca.shape[1],)))  # Use the shape of the PCA-transformed data\n",
        "model.add(Dense(1024, activation='relu'))\n",
        "model.add(Dense(512, activation='relu'))\n",
        "model.add(Dense(256, activation='relu'))\n",
        "model.add(Dense(10, activation='softmax'))\n",
        "\n",
        "start_time = time.time()\n",
        "\n",
        "\n",
        "# Compile and train the model\n",
        "model.compile(loss='categorical_crossentropy', optimizer='RMSprop', metrics=['accuracy'])\n",
        "history = model.fit(train_img_pca, y_train_categorical, batch_size=64, epochs=5, verbose=1, validation_data=(test_img_pca, y_test_categorical))"
      ],
      "metadata": {
        "colab": {
          "base_uri": "https://localhost:8080/"
        },
        "outputId": "984e0122-49e1-4e49-eb2e-12545a81a9e0",
        "id": "sLNq4ms-jIR2"
      },
      "execution_count": null,
      "outputs": [
        {
          "output_type": "stream",
          "name": "stdout",
          "text": [
            "Epoch 1/5\n",
            "782/782 [==============================] - 32s 40ms/step - loss: 1.7702 - accuracy: 0.3657 - val_loss: 1.7045 - val_accuracy: 0.3971\n",
            "Epoch 2/5\n",
            "782/782 [==============================] - 29s 38ms/step - loss: 1.6376 - accuracy: 0.4175 - val_loss: 1.6626 - val_accuracy: 0.4143\n",
            "Epoch 3/5\n",
            "782/782 [==============================] - 30s 38ms/step - loss: 1.5870 - accuracy: 0.4326 - val_loss: 1.6227 - val_accuracy: 0.4288\n",
            "Epoch 4/5\n",
            "782/782 [==============================] - 31s 39ms/step - loss: 1.5430 - accuracy: 0.4499 - val_loss: 1.6647 - val_accuracy: 0.4165\n",
            "Epoch 5/5\n",
            "782/782 [==============================] - 30s 38ms/step - loss: 1.5081 - accuracy: 0.4624 - val_loss: 1.6639 - val_accuracy: 0.4230\n"
          ]
        }
      ]
    },
    {
      "cell_type": "code",
      "source": [
        "# Calcuate the time to get how many minutes takes to train the model without using PCA           #scsc\n",
        "training_time = (time.time() - start_time)/60\n",
        "print(f\"model training time: {training_time:.2f} mins\")"
      ],
      "metadata": {
        "colab": {
          "base_uri": "https://localhost:8080/"
        },
        "id": "kscN-pW-uW9U",
        "outputId": "09bcdfac-edf8-41d9-8338-e68c5ae4d3fa"
      },
      "execution_count": null,
      "outputs": [
        {
          "output_type": "stream",
          "name": "stdout",
          "text": [
            "model training time: 2.53 mins\n"
          ]
        }
      ]
    },
    {
      "cell_type": "markdown",
      "source": [
        "##### Case 4: PCA will hold 60% of the variance"
      ],
      "metadata": {
        "id": "GfV9wVNQno3Q"
      }
    },
    {
      "cell_type": "code",
      "source": [
        "cifar10_x_test_case_4  = cifar10_x_test/255.0\n",
        "cifar10_x_test_case_4 = cifar10_x_test_case_4.reshape(-1,32,32,3)\n",
        "cifar10_x_test_flat_case_4 = cifar10_x_test_case_4.reshape(-1,3072)"
      ],
      "metadata": {
        "id": "eGL47F0UjkCm"
      },
      "execution_count": null,
      "outputs": []
    },
    {
      "cell_type": "code",
      "source": [
        "# Assuming cifar10_x_train_flat and cifar10_x_test_flat_case_1 are defined and contain the flattened CIFAR-10 training and test data\n",
        "# Also, assuming cifar10_y_train and cifar10_y_test are defined and contain the target labels\n",
        "\n",
        "# PCA for train data\n",
        "pca = PCA(0.6)\n",
        "pca.fit(cifar10_x_train_flat)\n",
        "\n",
        "train_img_pca = pca.transform(cifar10_x_train_flat)\n",
        "test_img_pca = pca.transform(cifar10_x_test_flat_case_4)\n",
        "\n",
        "# Define the model\n",
        "model = Sequential()\n",
        "model.add(Dense(1024, activation='relu', input_shape=(train_img_pca.shape[1],)))  # Use the shape of the PCA-transformed data\n",
        "model.add(Dense(1024, activation='relu'))\n",
        "model.add(Dense(512, activation='relu'))\n",
        "model.add(Dense(256, activation='relu'))\n",
        "model.add(Dense(10, activation='softmax'))\n",
        "\n",
        "\n",
        "start_time = time.time()\n",
        "\n",
        "# Compile and train the model\n",
        "model.compile(loss='categorical_crossentropy', optimizer='RMSprop', metrics=['accuracy'])\n",
        "history = model.fit(train_img_pca, y_train_categorical, batch_size=64, epochs=5, verbose=1, validation_data=(test_img_pca, y_test_categorical))\n"
      ],
      "metadata": {
        "colab": {
          "base_uri": "https://localhost:8080/"
        },
        "outputId": "edcc4d6d-d8cb-46f0-c835-9cb080e0f796",
        "id": "JH8OkMy8jkCn"
      },
      "execution_count": null,
      "outputs": [
        {
          "output_type": "stream",
          "name": "stdout",
          "text": [
            "Epoch 1/5\n",
            "782/782 [==============================] - 34s 42ms/step - loss: 1.8907 - accuracy: 0.3184 - val_loss: 1.8647 - val_accuracy: 0.3344\n",
            "Epoch 2/5\n",
            "782/782 [==============================] - 30s 39ms/step - loss: 1.8177 - accuracy: 0.3447 - val_loss: 1.8311 - val_accuracy: 0.3371\n",
            "Epoch 3/5\n",
            "782/782 [==============================] - 31s 39ms/step - loss: 1.7932 - accuracy: 0.3533 - val_loss: 1.8173 - val_accuracy: 0.3463\n",
            "Epoch 4/5\n",
            "782/782 [==============================] - 30s 38ms/step - loss: 1.7775 - accuracy: 0.3606 - val_loss: 1.8343 - val_accuracy: 0.3443\n",
            "Epoch 5/5\n",
            "782/782 [==============================] - 30s 38ms/step - loss: 1.7637 - accuracy: 0.3655 - val_loss: 1.8056 - val_accuracy: 0.3506\n"
          ]
        }
      ]
    },
    {
      "cell_type": "code",
      "source": [
        "# Calcuate the time to get how many minutes takes to train the model without using PCA           #scsc\n",
        "training_time = (time.time() - start_time)/60\n",
        "print(f\"model training time: {training_time:.2f} mins\")"
      ],
      "metadata": {
        "colab": {
          "base_uri": "https://localhost:8080/"
        },
        "id": "v43dKaFUuYOB",
        "outputId": "1137a776-2125-4291-af93-3a7afe61027e"
      },
      "execution_count": null,
      "outputs": [
        {
          "output_type": "stream",
          "name": "stdout",
          "text": [
            "model training time: 2.57 mins\n"
          ]
        }
      ]
    },
    {
      "cell_type": "markdown",
      "source": [
        "##### Case 5: PCA will hold 50% of the variance\n"
      ],
      "metadata": {
        "id": "YErLIZUhno3R"
      }
    },
    {
      "cell_type": "code",
      "source": [
        "cifar10_x_test_case_5 = cifar10_x_test/255.0\n",
        "cifar10_x_test_case_5 = cifar10_x_test_case_5.reshape(-1,32,32,3)\n",
        "cifar10_x_test_flat_case_5 = cifar10_x_test_case_5.reshape(-1,3072)"
      ],
      "metadata": {
        "id": "_CP7ZeWGkC5E"
      },
      "execution_count": null,
      "outputs": []
    },
    {
      "cell_type": "code",
      "source": [
        "# Assuming cifar10_x_train_flat and cifar10_x_test_flat_case_1 are defined and contain the flattened CIFAR-10 training and test data\n",
        "# Also, assuming cifar10_y_train and cifar10_y_test are defined and contain the target labels\n",
        "\n",
        "# PCA for train data\n",
        "pca = PCA(0.5)\n",
        "pca.fit(cifar10_x_train_flat)\n",
        "\n",
        "train_img_pca = pca.transform(cifar10_x_train_flat)\n",
        "test_img_pca = pca.transform(cifar10_x_test_flat_case_5)\n",
        "\n",
        "# Define the model\n",
        "model = Sequential()\n",
        "model.add(Dense(1024, activation='relu', input_shape=(train_img_pca.shape[1],)))  # Use the shape of the PCA-transformed data\n",
        "model.add(Dense(1024, activation='relu'))\n",
        "model.add(Dense(512, activation='relu'))\n",
        "model.add(Dense(256, activation='relu'))\n",
        "model.add(Dense(10, activation='softmax'))\n",
        "\n",
        "start_time = time.time()\n",
        "# Compile and train the model\n",
        "model.compile(loss='categorical_crossentropy', optimizer='RMSprop', metrics=['accuracy'])\n",
        "history = model.fit(train_img_pca, y_train_categorical, batch_size=64, epochs=5, verbose=1, validation_data=(test_img_pca, y_test_categorical))"
      ],
      "metadata": {
        "colab": {
          "base_uri": "https://localhost:8080/"
        },
        "outputId": "332ffd78-6de7-4f59-e2b7-3bbbaf3b2340",
        "id": "nkZHCMn9kC5Y"
      },
      "execution_count": null,
      "outputs": [
        {
          "output_type": "stream",
          "name": "stdout",
          "text": [
            "Epoch 1/5\n",
            "782/782 [==============================] - 31s 38ms/step - loss: 2.0606 - accuracy: 0.2505 - val_loss: 2.0450 - val_accuracy: 0.2649\n",
            "Epoch 2/5\n",
            "782/782 [==============================] - 32s 40ms/step - loss: 2.0263 - accuracy: 0.2689 - val_loss: 2.0265 - val_accuracy: 0.2733\n",
            "Epoch 3/5\n",
            "782/782 [==============================] - 30s 38ms/step - loss: 2.0171 - accuracy: 0.2713 - val_loss: 2.0194 - val_accuracy: 0.2802\n",
            "Epoch 4/5\n",
            "782/782 [==============================] - 30s 38ms/step - loss: 2.0117 - accuracy: 0.2722 - val_loss: 2.0170 - val_accuracy: 0.2794\n",
            "Epoch 5/5\n",
            "782/782 [==============================] - 31s 39ms/step - loss: 2.0071 - accuracy: 0.2768 - val_loss: 2.0103 - val_accuracy: 0.2819\n"
          ]
        }
      ]
    },
    {
      "cell_type": "code",
      "source": [
        "# Calcuate the time to get how many minutes takes to train the model without using PCA           #scsc\n",
        "training_time = (time.time() - start_time)/60\n",
        "print(f\"model training time: {training_time:.2f} mins\")"
      ],
      "metadata": {
        "colab": {
          "base_uri": "https://localhost:8080/"
        },
        "id": "HrwBTBIVuZPF",
        "outputId": "ee1b063b-ec0b-4a6a-9118-bb3eca3e95bd"
      },
      "execution_count": null,
      "outputs": [
        {
          "output_type": "stream",
          "name": "stdout",
          "text": [
            "model training time: 2.55 mins\n"
          ]
        }
      ]
    }
  ]
}